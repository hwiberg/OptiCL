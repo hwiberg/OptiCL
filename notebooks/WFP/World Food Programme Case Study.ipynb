{
 "cells": [
  {
   "cell_type": "markdown",
   "id": "1cfa28f2",
   "metadata": {},
   "source": [
    "# Optimization with Constraint Learning: A WFP case study"
   ]
  },
  {
   "cell_type": "markdown",
   "id": "d8b78d69",
   "metadata": {},
   "source": [
    "## The Palatable Diet Problem  \n",
    "\n",
    "**Problem Description.** The Diet Problem is the first large-scale optimization problem to be solved with the Simplex algorithm by Jack Laderman in [1947](https://www.mpi-inf.mpg.de/fileadmin/inf/d1/teaching/winter18/Ideen/Materialien/Dantzig-Diet.pdf). The basic formulation of this problem consists of minimizing the cost of a food basket while meeting the specified nutrient requirements. In this notebook, we solve The Palatable Diet Problem (TPDP), where the basic model is extended with a constraint on the food basket palatability. An explicit formula of the palatability constraint is unknown, but we have data on several food baskets and the respective palatability score. First, we define a conceptual model with the *known constraint*. Then, OptiCL is used to learn and embed the palatability constraint.  \n",
    "(*TPDP is part of a larger optimization problem which simultaneously  optimizes  the  food  basket  to  be  delivered,  the  sourcing  plan,  the  delivery  plan, and  the  transfer  modality  of  a  month-long  food  supply in a Wolrd Food Program setting ([Maragno et al., 2021])*).\n",
    "\n",
    "**Objective function:** minimize the total cost of the food basket.  \n",
    "$\\min_{\\boldsymbol{x}} c^\\top \\boldsymbol{x}$\n",
    "\n",
    "*subject to* \n",
    "\n",
    "**Nutritional constraints:** for each nutrient $j\\in\\mathcal{N}$, at least meet the minimum required level.  \n",
    "$ \\sum_{k \\in \\mathcal{K}} nutval_{kj} x_{k} \\geq nutreq_{j}, \\ \\ \\ \\forall l\\in\\mathcal{N},$   \n",
    "**Constraints on sugar and salt.**</font>  \n",
    "$ x_{salt} = 5,$   \n",
    "$ x_{sugar} = 20,$  \n",
    "**Palatability constraints:** the food basket palatability has to be at least equal to $t$.  \n",
    "$ y \\geq t,$  \n",
    "**Learned predictive model:** the palatability is defined using a predictive model.  \n",
    "$ y = \\hat{h}(\\boldsymbol{x}),$   \n",
    "**Non negativity constraints.**  \n",
    "$ x_{k} \\geq 0, \\ \\ \\ \\forall k \\in \\mathcal{K}.$  "
   ]
  },
  {
   "cell_type": "code",
   "execution_count": 1,
   "id": "02ef590f",
   "metadata": {},
   "outputs": [],
   "source": [
    "import pandas as pd\n",
    "from imp import reload\n",
    "import numpy as np\n",
    "import math\n",
    "from sklearn.utils.extmath import cartesian\n",
    "import time\n",
    "import sys\n",
    "import os\n",
    "import opticl\n",
    "# import opticl.embed_mip as em\n",
    "from pyomo import environ\n",
    "from pyomo.environ import *"
   ]
  },
  {
   "cell_type": "code",
   "execution_count": 2,
   "id": "bc48e2e1",
   "metadata": {},
   "outputs": [],
   "source": [
    "np.random.seed(0)"
   ]
  },
  {
   "cell_type": "markdown",
   "id": "09ea8c06",
   "metadata": {},
   "source": [
    "#### Auxiliary functions"
   ]
  },
  {
   "cell_type": "code",
   "execution_count": 3,
   "id": "f0d347e9",
   "metadata": {},
   "outputs": [],
   "source": [
    "def normalize(y):\n",
    "    # Values based on the dataset before normalization\n",
    "    minimum = 71.969 \n",
    "    maximum = 444.847  \n",
    "    return 1 - (y - minimum)/(maximum - minimum)"
   ]
  },
  {
   "cell_type": "code",
   "execution_count": 4,
   "id": "0e7654d2",
   "metadata": {},
   "outputs": [],
   "source": [
    "def check_violation(threshold, solution):\n",
    "    # Cereals & Grains\n",
    "    group1 = [1, 11, 12, 14, 15, 22, 23]\n",
    "    group1_names = [list(solution.keys())[i] for i in group1]\n",
    "    values1 = [solution[x] for x in group1_names]\n",
    "    food_in_group1 = sum(values1)*100\n",
    "#     print(f'food_in_group1 {food_in_group1}')\n",
    "    idealG1 = 400\n",
    "    distG1 = food_in_group1 - idealG1\n",
    "    # Pulses & Vegetables\n",
    "    group2 = [0, 6, 10, 13]\n",
    "    group2_names = [list(solution.keys())[i] for i in group2]\n",
    "    values2 = [solution[x] for x in group2_names]\n",
    "    food_in_group2 = sum(values2)*100\n",
    "#     print(f'food_in_group2 {food_in_group2}')\n",
    "    idealG2 = 65\n",
    "    distG2 = food_in_group2 - idealG2\n",
    "    # Oils & Fats\n",
    "    group3 = [21]\n",
    "    group3_names = [list(solution.keys())[i] for i in group3]\n",
    "    values3 = [solution[x] for x in group3_names]\n",
    "    food_in_group3 = sum(values3)*100\n",
    "#     print(f'food_in_group3 {food_in_group3}')\n",
    "    idealG3 = 27\n",
    "    distG3 = food_in_group3 - idealG3\n",
    "    # Mixed & Blended Foods\n",
    "    group4 = [5, 24, 16, 17, 18, 19]\n",
    "    group4_names = [list(solution.keys())[i] for i in group4]\n",
    "    values4 = [solution[x] for x in group4_names]\n",
    "    food_in_group4 = sum(values4)*100\n",
    "#     print(f'food_in_group4 {food_in_group4}')\n",
    "    idealG4 = 45\n",
    "    distG4 = food_in_group4 - idealG4\n",
    "    # Meat & Fish & Dairy\n",
    "    group5 = [2, 3, 4, 7, 8]\n",
    "    group5_names = [list(solution.keys())[i] for i in group5]\n",
    "    values5 = [solution[x] for x in group5_names]\n",
    "    food_in_group5 = sum(values5)*100\n",
    "#     print(f'food_in_group5 {food_in_group5}')\n",
    "    idealG5 = 30\n",
    "    distG5 = food_in_group5 - idealG5\n",
    "    real_palatability = np.round(math.sqrt(distG1 ** 2 + (5.7 * distG2) ** 2 + (16.6 * distG3) ** 2\n",
    "                                      + (4.4 * distG4) ** 2 + (6.6 * distG5) ** 2), 3)\n",
    "    real_palatability_norm = normalize(real_palatability)\n",
    "    return 1-int(real_palatability_norm>=threshold), real_palatability_norm"
   ]
  },
  {
   "cell_type": "markdown",
   "id": "d1643b77",
   "metadata": {},
   "source": [
    "## Define the conceptual model"
   ]
  },
  {
   "cell_type": "code",
   "execution_count": 5,
   "id": "06499df4",
   "metadata": {},
   "outputs": [],
   "source": [
    "def init_conceptual_model(cost_p):\n",
    "    N = list(nutr_val.index)  # foods\n",
    "    M = nutr_req.columns  # nutrient requirements\n",
    "    model = ConcreteModel('TPDP')\n",
    "    '''\n",
    "    Decision variables\n",
    "    '''\n",
    "    model.x = Var(N, domain=NonNegativeReals)  # variables controlling the food basket\n",
    "    '''\n",
    "    Objective function.\n",
    "    '''\n",
    "    def obj_function(model):\n",
    "        return sum(cost_p[food].item()*model.x[food] for food in N)\n",
    "    model.OBJ = Objective(rule=obj_function, sense=minimize)\n",
    "    '''\n",
    "    Nutrients requirements constraint.\n",
    "    '''\n",
    "    def constraint_rule1(model, req):\n",
    "        return sum(model.x[food] * nutr_val.loc[food, req] for food in N) >= nutr_req[req].item()\n",
    "    model.Constraint1 = Constraint(M, rule=constraint_rule1)\n",
    "    '''\n",
    "    Sugar constraint\n",
    "    '''\n",
    "    def constraint_rule2(model):\n",
    "        return model.x['Sugar'] == 0.2\n",
    "    model.Constraint2 = Constraint(rule=constraint_rule2)\n",
    "    '''\n",
    "    Salt constraint\n",
    "    '''\n",
    "    def constraint_rule3(model):\n",
    "        return model.x['Salt'] == 0.05\n",
    "    model.Constraint3 = Constraint(rule=constraint_rule3)\n",
    "    return model"
   ]
  },
  {
   "cell_type": "markdown",
   "id": "f586c112",
   "metadata": {},
   "source": [
    "## Learn the *palatability* constraints"
   ]
  },
  {
   "cell_type": "markdown",
   "id": "48be87c9",
   "metadata": {},
   "source": [
    "### Data Loading"
   ]
  },
  {
   "cell_type": "code",
   "execution_count": 6,
   "id": "76b2194f",
   "metadata": {},
   "outputs": [],
   "source": [
    "nutr_val = pd.read_excel('processed-data/Syria_instance.xlsx', sheet_name='nutr_val', index_col='Food')\n",
    "nutr_req = pd.read_excel('processed-data/Syria_instance.xlsx', sheet_name='nutr_req', index_col='Type')\n",
    "cost_p = pd.read_excel('processed-data/Syria_instance.xlsx', sheet_name='FoodCost', index_col='Supplier').iloc[0,:]\n",
    "dataset = pd.read_csv('processed-data/WFP_dataset.csv').sample(frac=1)\n",
    "\n",
    "y = dataset['label']\n",
    "X = dataset.drop(['label'], axis=1, inplace=False)\n",
    "\n",
    "from sklearn.model_selection import train_test_split\n",
    "X_train, X_test, y_train, y_test = train_test_split(X, y, test_size=0.8, random_state=42)"
   ]
  },
  {
   "cell_type": "markdown",
   "id": "37bce692",
   "metadata": {},
   "source": [
    "### Training"
   ]
  },
  {
   "cell_type": "code",
   "execution_count": 7,
   "id": "4f723b31",
   "metadata": {},
   "outputs": [
    {
     "name": "stdout",
     "output_type": "stream",
     "text": [
      "Algorithm = cart\n",
      "Bootstrap iterations = 0\n",
      "Violation rule = 0.5\n"
     ]
    }
   ],
   "source": [
    "alg = 'cart'\n",
    "viol_rule = 0.5\n",
    "\n",
    "# ### Example with grouping/bootstrap\n",
    "# gr=True\n",
    "# bs = 2\n",
    "\n",
    "### Example with single model\n",
    "gr=False\n",
    "bs = 0\n",
    "\n",
    "alg_list = [alg]\n",
    "\n",
    "print(\"Algorithm = %s\" % alg)\n",
    "print(\"Bootstrap iterations = %d\" % bs)\n",
    "print(\"Violation rule = %s\" % str(viol_rule))\n",
    "code_version = 'AAAI-23_example'\n",
    "\n",
    "version = 'TPDP_robust'\n",
    "outcome = 'palatability'\n",
    "threshold = 0.5"
   ]
  },
  {
   "cell_type": "code",
   "execution_count": 8,
   "id": "09f4b893",
   "metadata": {},
   "outputs": [
    {
     "name": "stdout",
     "output_type": "stream",
     "text": [
      "Learning a model for palatability\n",
      "No bootstrap - training on full training data\n",
      "training palatability with cart\n",
      "------------- Initialize grid  ----------------\n",
      "------------- Running model  ----------------\n",
      "Algorithm = cart, metric = None\n",
      "saving... results/cart_palatability_trained.pkl\n",
      "------------- Model evaluation  ----------------\n",
      "-------------------training evaluation-----------------------\n",
      "Train MSE: 0.010676479379551226\n",
      "Train R2: 0.7908556050356943\n",
      "-------------------testing evaluation-----------------------\n",
      "Test MSE: 0.015873275949482357\n",
      "Test R2: 0.6909820618521263\n",
      "\n",
      "Saving the performance...\n",
      "Done!\n",
      "\n",
      "Preparing model master\n",
      "Group method = violation (violation limit = 0.50)\n"
     ]
    }
   ],
   "source": [
    "data = X_train\n",
    "outcome_list = {'palatability': {'lb':threshold, 'ub':None, 'objective_weight':0,'group_models':gr,\n",
    "'task_type': 'continuous', 'alg_list':alg_list, 'bootstrap_iterations':bs,\n",
    "                                   'X_train':X_train, 'y_train':y_train, 'X_test':X_test, 'y_test':y_test,\n",
    "                                   'dataset_path':'processed-data/WFP_dataset.csv'}}\n",
    "\n",
    "performance = opticl.train_ml_models(outcome_list, version)\n",
    "\n",
    "if not os.path.exists('results'):\n",
    "    os.makedirs('results')\n",
    "performance.to_csv('results/%s/%s_performance.csv' % (alg, code_version))\n",
    "\n",
    "columns_df = ['algorithm','iteration','price_matrix']+list(X.columns)+['objective_function', 'real_palat', 'pred_palat', 'violation', 'time']\n",
    "\n",
    "print(\"\\nPreparing model master\")\n",
    "if viol_rule == 'average':\n",
    "    gr_method = 'average'\n",
    "    max_viol = None\n",
    "    print(\"Group method = %s\" % (gr_method))\n",
    "    gr_string = 'average'\n",
    "else: \n",
    "    gr_method = 'violation'\n",
    "    max_viol = float(viol_rule)\n",
    "    print(\"Group method = %s (violation limit = %.2f)\" % (gr_method, max_viol))\n",
    "    gr_string = 'violation_%.2f' % max_viol"
   ]
  },
  {
   "cell_type": "markdown",
   "id": "ee02547e",
   "metadata": {},
   "source": [
    "### Select fitted models"
   ]
  },
  {
   "cell_type": "code",
   "execution_count": 9,
   "id": "3f3afbff",
   "metadata": {},
   "outputs": [
    {
     "name": "stdout",
     "output_type": "stream",
     "text": [
      "                                                          model        task  \\\n",
      "palatability  {'results/cart/TPDP_robust_palatability_model....  continuous   \n",
      "\n",
      "             objective   lb    ub  \\\n",
      "palatability         0  0.5  None   \n",
      "\n",
      "                                                       features  \\\n",
      "palatability  Index(['Beans', 'Bulgur', 'Cheese', 'Fish', 'M...   \n",
      "\n",
      "                                                   var_features  \\\n",
      "palatability  Index(['Beans', 'Bulgur', 'Cheese', 'Fish', 'M...   \n",
      "\n",
      "             contex_features group_models group_method ensemble_weights  \\\n",
      "palatability              {}        False    violation             None   \n",
      "\n",
      "             max_violation trust_region                    dataset_path  \\\n",
      "palatability           0.5         True  processed-data/WFP_dataset.csv   \n",
      "\n",
      "             clustering_model enlargement SCM_counterfactuals  \n",
      "palatability             None         [0]                None  \n",
      "Checking model\n",
      "No learned objective\n",
      "1 learned constrained outcomes\n",
      "\n",
      "Checking outcome palatability\n",
      "Embedding outcome with single cart model\n",
      "\n",
      "Embedding constraint for palatability.\n",
      "0.5 <= palatability\n"
     ]
    },
    {
     "data": {
      "text/html": [
       "<div>\n",
       "<style scoped>\n",
       "    .dataframe tbody tr th:only-of-type {\n",
       "        vertical-align: middle;\n",
       "    }\n",
       "\n",
       "    .dataframe tbody tr th {\n",
       "        vertical-align: top;\n",
       "    }\n",
       "\n",
       "    .dataframe thead th {\n",
       "        text-align: right;\n",
       "    }\n",
       "</style>\n",
       "<table border=\"1\" class=\"dataframe\">\n",
       "  <thead>\n",
       "    <tr style=\"text-align: right;\">\n",
       "      <th></th>\n",
       "      <th>model</th>\n",
       "      <th>task</th>\n",
       "      <th>objective</th>\n",
       "      <th>lb</th>\n",
       "      <th>ub</th>\n",
       "      <th>features</th>\n",
       "      <th>var_features</th>\n",
       "      <th>contex_features</th>\n",
       "      <th>group_models</th>\n",
       "      <th>group_method</th>\n",
       "      <th>ensemble_weights</th>\n",
       "      <th>max_violation</th>\n",
       "      <th>trust_region</th>\n",
       "      <th>dataset_path</th>\n",
       "      <th>clustering_model</th>\n",
       "      <th>enlargement</th>\n",
       "      <th>SCM_counterfactuals</th>\n",
       "    </tr>\n",
       "  </thead>\n",
       "  <tbody>\n",
       "    <tr>\n",
       "      <th>palatability</th>\n",
       "      <td>{'results/cart/TPDP_robust_palatability_model....</td>\n",
       "      <td>continuous</td>\n",
       "      <td>0</td>\n",
       "      <td>0.5</td>\n",
       "      <td>None</td>\n",
       "      <td>Index(['Beans', 'Bulgur', 'Cheese', 'Fish', 'M...</td>\n",
       "      <td>Index(['Beans', 'Bulgur', 'Cheese', 'Fish', 'M...</td>\n",
       "      <td>{}</td>\n",
       "      <td>False</td>\n",
       "      <td>violation</td>\n",
       "      <td>None</td>\n",
       "      <td>0.5</td>\n",
       "      <td>True</td>\n",
       "      <td>processed-data/WFP_dataset.csv</td>\n",
       "      <td>None</td>\n",
       "      <td>[0]</td>\n",
       "      <td>None</td>\n",
       "    </tr>\n",
       "  </tbody>\n",
       "</table>\n",
       "</div>"
      ],
      "text/plain": [
       "                                                          model        task  \\\n",
       "palatability  {'results/cart/TPDP_robust_palatability_model....  continuous   \n",
       "\n",
       "             objective   lb    ub  \\\n",
       "palatability         0  0.5  None   \n",
       "\n",
       "                                                       features  \\\n",
       "palatability  Index(['Beans', 'Bulgur', 'Cheese', 'Fish', 'M...   \n",
       "\n",
       "                                                   var_features  \\\n",
       "palatability  Index(['Beans', 'Bulgur', 'Cheese', 'Fish', 'M...   \n",
       "\n",
       "             contex_features group_models group_method ensemble_weights  \\\n",
       "palatability              {}        False    violation             None   \n",
       "\n",
       "             max_violation trust_region                    dataset_path  \\\n",
       "palatability           0.5         True  processed-data/WFP_dataset.csv   \n",
       "\n",
       "             clustering_model enlargement SCM_counterfactuals  \n",
       "palatability             None         [0]                None  "
      ]
     },
     "execution_count": 9,
     "metadata": {},
     "output_type": "execute_result"
    }
   ],
   "source": [
    "mm = opticl.initialize_model_master(outcome_list)\n",
    "mm.loc[outcome,'group_method'] = gr_method\n",
    "mm.loc[outcome,'max_violation'] = max_viol\n",
    "model_master = opticl.model_selection(mm, performance)\n",
    "\n",
    "if not os.path.exists('experiments'):\n",
    "    print('Creating folder...')\n",
    "    os.makedirs('experiments')\n",
    "model_master.to_csv('experiments/model_master_%s.csv' % (code_version), index = True)\n",
    "\n",
    "opticl.check_model_master(model_master)\n",
    "model_master"
   ]
  },
  {
   "cell_type": "markdown",
   "id": "b48fcfb7",
   "metadata": {},
   "source": [
    "## Solve the optimization problem"
   ]
  },
  {
   "cell_type": "code",
   "execution_count": 10,
   "id": "f6d0f995",
   "metadata": {},
   "outputs": [
    {
     "name": "stdout",
     "output_type": "stream",
     "text": [
      "Generating constraints for the trust region using 5000 samples.\n",
      "... Trust region defined.\n",
      "Embedding constraints for palatability\n",
      "Adding single model.\n"
     ]
    }
   ],
   "source": [
    "seed = 1\n",
    "np.random.seed(seed)\n",
    "price_random = pd.Series(np.random.random(len(cost_p))*1000)\n",
    "price_random.index = cost_p.index\n",
    "\n",
    "start_cm = time.time()\n",
    "conceptual_model= init_conceptual_model(price_random)\n",
    "cm = time.time() - start_cm\n",
    "\n",
    "start_opticl = time.time()\n",
    "final_model = opticl.optimization_MIP(conceptual_model, model_master)\n",
    "model_opticl = time.time() - start_opticl\n",
    "# final_model.write('experiments/mip_%s_seed_%d.lp' % (code_version, seed))\n",
    "opt = SolverFactory('glpk')\n",
    "start_time = time.time()\n",
    "results = opt.solve(final_model) \n",
    "computation_time = time.time() - start_time"
   ]
  },
  {
   "cell_type": "markdown",
   "id": "4ecfbc0b",
   "metadata": {},
   "source": [
    "## Evaluation"
   ]
  },
  {
   "cell_type": "code",
   "execution_count": 11,
   "id": "63512965",
   "metadata": {},
   "outputs": [
    {
     "name": "stdout",
     "output_type": "stream",
     "text": [
      "\n",
      "################################### Summary ###################################\n",
      "Algorithm used to learn the constraints: cart\n",
      "Total cost: 1007.882 $\n",
      "Predicted palatability: 0.512\n",
      "Real palatability: 0.538\n",
      "\n",
      "Conceptual model defined in 0.006 seconds\n",
      "Learned constraints & trust region embedded in 1.431 seconds\n",
      "Problem Solved in 0.651 seconds\n",
      "###############################################################################\n"
     ]
    }
   ],
   "source": [
    "pred_palat = value(final_model.y[outcome])\n",
    "violation_bool, real_palat = check_violation(threshold,  final_model.x.get_values())\n",
    "## Save solutions\n",
    "solution = final_model.x.get_values()\n",
    "\n",
    "if gr:\n",
    "    final_model.GroupAvgpalatability.pprint()\n",
    "    if gr_method == 'violation':\n",
    "        final_model.constraintViolpalatability.pprint()\n",
    "\n",
    "print('\\n################################### Summary ###################################')\n",
    "print(f'Algorithm used to learn the constraints: {alg}')\n",
    "print(\"Total cost: %.3f $\" % value(final_model.OBJ))\n",
    "print(\"Predicted palatability: %.3f\" % pred_palat)\n",
    "print(\"Real palatability: %.3f\" % real_palat)\n",
    "\n",
    "print(f'\\nConceptual model defined in {np.round(cm, 3)} seconds')\n",
    "if model_master.loc['palatability', 'trust_region']:\n",
    "    print(f'Learned constraints & trust region embedded in {np.round(model_opticl, 3)} seconds')\n",
    "else:\n",
    "    print(f'Learned constraints embedded in {np.round(model_opticl, 3)} seconds')\n",
    "print(f'Problem Solved in {np.round(computation_time, 3)} seconds')\n",
    "print('###############################################################################')"
   ]
  }
 ],
 "metadata": {
  "kernelspec": {
   "display_name": "Python 3",
   "language": "python",
   "name": "python3"
  },
  "language_info": {
   "codemirror_mode": {
    "name": "ipython",
    "version": 3
   },
   "file_extension": ".py",
   "mimetype": "text/x-python",
   "name": "python",
   "nbconvert_exporter": "python",
   "pygments_lexer": "ipython3",
   "version": "3.8.8"
  }
 },
 "nbformat": 4,
 "nbformat_minor": 5
}
