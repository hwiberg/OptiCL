{
 "cells": [
  {
   "cell_type": "markdown",
   "id": "084f5229",
   "metadata": {},
   "source": [
    "# The Palatable Diet Problem  \n",
    "\n",
    "**Problem Description.** The Diet Problem is the first large-scale optimization problem to be solved with the Simplex algorithm by Jack Laderman in [1947](https://www.mpi-inf.mpg.de/fileadmin/inf/d1/teaching/winter18/Ideen/Materialien/Dantzig-Diet.pdf). The basic formulation of this problem consists of minimizing the cost of a food basket while meeting the specified nutrient requirements. In this notebook, we solve The Palatable Diet Problem (TPDP), where the basic model is extended with a constraint on the food basket palatability. An explicit formula of the palatability constraint is unknown, but we have data on several food baskets and the respective palatability score. First, we define a conceptual model with the *known constraint*. Then, OptiCL is used to learn and embed the palatability constraint.  \n",
    "(*TPDP is part of a larger optimization problem which simultaneously  optimizes  the  food  basket  to  be  delivered,  the  sourcing  plan,  the  delivery  plan, and  the  transfer  modality  of  a  month-long  food  supply in a Wolrd Food Program setting ([Maragno et al., 2021])*).\n",
    "\n",
    "<font color='#808080'>**Objective function:** minimize the total cost of the food basket.</font>  \n",
    "$\\min_{\\boldsymbol{x}} c^\\top \\boldsymbol{x}$\n",
    "\n",
    "*subject to* \n",
    "\n",
    "<font color='#808080'>**Nutritional constraints:** for each nutrient $l\\in\\mathcal{L}$, at least meet the minimum required level.</font>  \n",
    "$ \\sum_{k \\in \\mathcal{K}} nutval_{kl} x_{k} \\geq nutreq_{l}, \\ \\ \\ \\forall l\\in\\mathcal{L},$   \n",
    "<font color='#808080'>**Constraints on sugar and salt.**</font>  \n",
    "$ x_{salt} = 5,$   \n",
    "$ x_{sugar} = 20,$  \n",
    "<font color='#808080'>**Palatability constraints:** the food basket palatability has to be at least equal to $t$.</font>  \n",
    "$ y \\geq t,$  \n",
    "<font color='#808080'>**Learned predictive model:** the palatability is defined using a predictive model.</font>  \n",
    "$ y = \\hat{h}(\\boldsymbol{x}),$   \n",
    "<font color='#808080'>**Non negativity constraints.**</font>  \n",
    "$ x_{k} \\geq 0, \\ \\ \\ \\forall k \\in \\mathcal{K}.$  "
   ]
  },
  {
   "cell_type": "code",
   "execution_count": 1,
   "id": "eb2ea7b0",
   "metadata": {},
   "outputs": [],
   "source": [
    "import pandas as pd\n",
    "from imp import reload\n",
    "import numpy as np\n",
    "import math\n",
    "from sklearn.utils.extmath import cartesian\n",
    "import time\n",
    "import sys\n",
    "import os\n",
    "sys.path.append(os.path.abspath('../../src'))  # TODO: has to be changed\n",
    "import opticl\n",
    "from pyomo import environ\n",
    "from pyomo.environ import *\n",
    "np.random.seed(0)"
   ]
  },
  {
   "cell_type": "code",
   "execution_count": 234,
   "id": "d1fdaca3",
   "metadata": {},
   "outputs": [],
   "source": [
    "sys.path.append(os.path.abspath('../../opticl'))\n",
    "import constraint_learning\n",
    "import embed_mip"
   ]
  },
  {
   "cell_type": "markdown",
   "id": "5fd816b1",
   "metadata": {},
   "source": [
    "### Data Loading  \n",
    "**nutr_val**: nutritional values for each of the 25 foods  \n",
    "**nutr_req**: 11 nutrition requirements  \n",
    "**cost_p**: vector of procurement costs  \n",
    "**dataset**: dataframe of food basket instances and relative palatability score"
   ]
  },
  {
   "cell_type": "code",
   "execution_count": 2,
   "id": "68b75680",
   "metadata": {},
   "outputs": [
    {
     "data": {
      "text/html": [
       "<div>\n",
       "<style scoped>\n",
       "    .dataframe tbody tr th:only-of-type {\n",
       "        vertical-align: middle;\n",
       "    }\n",
       "\n",
       "    .dataframe tbody tr th {\n",
       "        vertical-align: top;\n",
       "    }\n",
       "\n",
       "    .dataframe thead th {\n",
       "        text-align: right;\n",
       "    }\n",
       "</style>\n",
       "<table border=\"1\" class=\"dataframe\">\n",
       "  <thead>\n",
       "    <tr style=\"text-align: right;\">\n",
       "      <th></th>\n",
       "      <th>Beans</th>\n",
       "      <th>Bulgur</th>\n",
       "      <th>Cheese</th>\n",
       "      <th>Fish</th>\n",
       "      <th>Meat</th>\n",
       "      <th>CSB</th>\n",
       "      <th>Dates</th>\n",
       "      <th>DSM</th>\n",
       "      <th>Milk</th>\n",
       "      <th>Salt</th>\n",
       "      <th>...</th>\n",
       "      <th>Soya-fortified bulgur wheat</th>\n",
       "      <th>Soya-fortified maize meal</th>\n",
       "      <th>Soya-fortified sorghum grits</th>\n",
       "      <th>Soya-fortified wheat flour</th>\n",
       "      <th>Sugar</th>\n",
       "      <th>Oil</th>\n",
       "      <th>Wheat</th>\n",
       "      <th>Wheat flour</th>\n",
       "      <th>WSB</th>\n",
       "      <th>label</th>\n",
       "    </tr>\n",
       "  </thead>\n",
       "  <tbody>\n",
       "    <tr>\n",
       "      <th>398</th>\n",
       "      <td>0.687675</td>\n",
       "      <td>1.257354</td>\n",
       "      <td>0.000000</td>\n",
       "      <td>0.0</td>\n",
       "      <td>0.0</td>\n",
       "      <td>0.00000</td>\n",
       "      <td>0.000000</td>\n",
       "      <td>0.302104</td>\n",
       "      <td>0.000000</td>\n",
       "      <td>0.05</td>\n",
       "      <td>...</td>\n",
       "      <td>0.0</td>\n",
       "      <td>0.0</td>\n",
       "      <td>0.0</td>\n",
       "      <td>0.0</td>\n",
       "      <td>0.2</td>\n",
       "      <td>0.357429</td>\n",
       "      <td>2.823603</td>\n",
       "      <td>0.000000</td>\n",
       "      <td>0.637964</td>\n",
       "      <td>0.715428</td>\n",
       "    </tr>\n",
       "    <tr>\n",
       "      <th>3833</th>\n",
       "      <td>0.551125</td>\n",
       "      <td>0.000000</td>\n",
       "      <td>0.000000</td>\n",
       "      <td>0.0</td>\n",
       "      <td>0.0</td>\n",
       "      <td>0.00000</td>\n",
       "      <td>0.000000</td>\n",
       "      <td>0.117990</td>\n",
       "      <td>0.000000</td>\n",
       "      <td>0.05</td>\n",
       "      <td>...</td>\n",
       "      <td>0.0</td>\n",
       "      <td>0.0</td>\n",
       "      <td>0.0</td>\n",
       "      <td>0.0</td>\n",
       "      <td>0.2</td>\n",
       "      <td>0.392274</td>\n",
       "      <td>2.540599</td>\n",
       "      <td>3.414615</td>\n",
       "      <td>0.733300</td>\n",
       "      <td>0.292719</td>\n",
       "    </tr>\n",
       "    <tr>\n",
       "      <th>4836</th>\n",
       "      <td>0.701614</td>\n",
       "      <td>0.000000</td>\n",
       "      <td>0.000000</td>\n",
       "      <td>0.0</td>\n",
       "      <td>0.0</td>\n",
       "      <td>0.09499</td>\n",
       "      <td>0.000000</td>\n",
       "      <td>0.330808</td>\n",
       "      <td>0.000000</td>\n",
       "      <td>0.05</td>\n",
       "      <td>...</td>\n",
       "      <td>0.0</td>\n",
       "      <td>0.0</td>\n",
       "      <td>0.0</td>\n",
       "      <td>0.0</td>\n",
       "      <td>0.2</td>\n",
       "      <td>0.221908</td>\n",
       "      <td>0.336647</td>\n",
       "      <td>0.000000</td>\n",
       "      <td>0.545864</td>\n",
       "      <td>0.816616</td>\n",
       "    </tr>\n",
       "    <tr>\n",
       "      <th>4572</th>\n",
       "      <td>0.000000</td>\n",
       "      <td>3.832166</td>\n",
       "      <td>0.000000</td>\n",
       "      <td>0.0</td>\n",
       "      <td>0.0</td>\n",
       "      <td>0.00000</td>\n",
       "      <td>0.626751</td>\n",
       "      <td>0.278648</td>\n",
       "      <td>0.132718</td>\n",
       "      <td>0.05</td>\n",
       "      <td>...</td>\n",
       "      <td>0.0</td>\n",
       "      <td>0.0</td>\n",
       "      <td>0.0</td>\n",
       "      <td>0.0</td>\n",
       "      <td>0.2</td>\n",
       "      <td>0.311117</td>\n",
       "      <td>0.000000</td>\n",
       "      <td>0.000000</td>\n",
       "      <td>0.694007</td>\n",
       "      <td>0.794680</td>\n",
       "    </tr>\n",
       "    <tr>\n",
       "      <th>636</th>\n",
       "      <td>0.039754</td>\n",
       "      <td>0.000000</td>\n",
       "      <td>0.344293</td>\n",
       "      <td>0.0</td>\n",
       "      <td>0.0</td>\n",
       "      <td>0.00000</td>\n",
       "      <td>0.000000</td>\n",
       "      <td>0.106482</td>\n",
       "      <td>0.000000</td>\n",
       "      <td>0.05</td>\n",
       "      <td>...</td>\n",
       "      <td>0.0</td>\n",
       "      <td>0.0</td>\n",
       "      <td>0.0</td>\n",
       "      <td>0.0</td>\n",
       "      <td>0.2</td>\n",
       "      <td>0.160220</td>\n",
       "      <td>0.000000</td>\n",
       "      <td>0.000000</td>\n",
       "      <td>0.788790</td>\n",
       "      <td>0.261417</td>\n",
       "    </tr>\n",
       "  </tbody>\n",
       "</table>\n",
       "<p>5 rows × 26 columns</p>\n",
       "</div>"
      ],
      "text/plain": [
       "         Beans    Bulgur    Cheese  Fish  Meat      CSB     Dates       DSM  \\\n",
       "398   0.687675  1.257354  0.000000   0.0   0.0  0.00000  0.000000  0.302104   \n",
       "3833  0.551125  0.000000  0.000000   0.0   0.0  0.00000  0.000000  0.117990   \n",
       "4836  0.701614  0.000000  0.000000   0.0   0.0  0.09499  0.000000  0.330808   \n",
       "4572  0.000000  3.832166  0.000000   0.0   0.0  0.00000  0.626751  0.278648   \n",
       "636   0.039754  0.000000  0.344293   0.0   0.0  0.00000  0.000000  0.106482   \n",
       "\n",
       "          Milk  Salt  ...  Soya-fortified bulgur wheat  \\\n",
       "398   0.000000  0.05  ...                          0.0   \n",
       "3833  0.000000  0.05  ...                          0.0   \n",
       "4836  0.000000  0.05  ...                          0.0   \n",
       "4572  0.132718  0.05  ...                          0.0   \n",
       "636   0.000000  0.05  ...                          0.0   \n",
       "\n",
       "      Soya-fortified maize meal  Soya-fortified sorghum grits  \\\n",
       "398                         0.0                           0.0   \n",
       "3833                        0.0                           0.0   \n",
       "4836                        0.0                           0.0   \n",
       "4572                        0.0                           0.0   \n",
       "636                         0.0                           0.0   \n",
       "\n",
       "      Soya-fortified wheat flour  Sugar       Oil     Wheat  Wheat flour  \\\n",
       "398                          0.0    0.2  0.357429  2.823603     0.000000   \n",
       "3833                         0.0    0.2  0.392274  2.540599     3.414615   \n",
       "4836                         0.0    0.2  0.221908  0.336647     0.000000   \n",
       "4572                         0.0    0.2  0.311117  0.000000     0.000000   \n",
       "636                          0.0    0.2  0.160220  0.000000     0.000000   \n",
       "\n",
       "           WSB     label  \n",
       "398   0.637964  0.715428  \n",
       "3833  0.733300  0.292719  \n",
       "4836  0.545864  0.816616  \n",
       "4572  0.694007  0.794680  \n",
       "636   0.788790  0.261417  \n",
       "\n",
       "[5 rows x 26 columns]"
      ]
     },
     "execution_count": 2,
     "metadata": {},
     "output_type": "execute_result"
    }
   ],
   "source": [
    "nutr_val = pd.read_excel('processed-data/Syria_instance.xlsx', sheet_name='nutr_val', index_col='Food')\n",
    "nutr_req = pd.read_excel('processed-data/Syria_instance.xlsx', sheet_name='nutr_req', index_col='Type')\n",
    "cost_p = pd.read_excel('processed-data/Syria_instance.xlsx', sheet_name='FoodCost', index_col='Supplier').iloc[0,:]\n",
    "dataset = pd.read_csv('processed-data/WFP_dataset.csv').sample(frac=1)\n",
    "dataset.head()"
   ]
  },
  {
   "cell_type": "markdown",
   "id": "fd465891",
   "metadata": {},
   "source": [
    "# OptiCL: Optimization with Constraint Learning"
   ]
  },
  {
   "cell_type": "markdown",
   "id": "f98821c2",
   "metadata": {},
   "source": [
    "## Step 1: Conceptual Model"
   ]
  },
  {
   "cell_type": "code",
   "execution_count": 3,
   "id": "3e0a923a",
   "metadata": {},
   "outputs": [],
   "source": [
    "def init_conceptual_model(cost_p):\n",
    "    N = list(nutr_val.index)  # foods\n",
    "    M = nutr_req.columns  # nutrient requirements\n",
    "\n",
    "    model = ConcreteModel('TPDP')\n",
    "\n",
    "    '''\n",
    "    Decision variables\n",
    "    '''\n",
    "    model.x = Var(N, domain=NonNegativeReals)  # variables controlling the food basket\n",
    "\n",
    "    '''\n",
    "    Objective function.\n",
    "    '''\n",
    "    def obj_function(model):\n",
    "        return sum(cost_p[food].item()*model.x[food] for food in N)\n",
    "\n",
    "    model.OBJ = Objective(rule=obj_function, sense=minimize)\n",
    "\n",
    "    '''\n",
    "    Nutrients requirements constraint.\n",
    "    '''\n",
    "    def constraint_rule1(model, req):\n",
    "        return sum(model.x[food] * nutr_val.loc[food, req] for food in N) >= nutr_req[req].item()\n",
    "    model.Constraint1 = Constraint(M, rule=constraint_rule1)\n",
    "    '''\n",
    "    Sugar constraint\n",
    "    '''\n",
    "    def constraint_rule2(model):\n",
    "        return model.x['Sugar'] == 0.2\n",
    "    model.Constraint2 = Constraint(rule=constraint_rule2)\n",
    "    '''\n",
    "    Salt constraint\n",
    "    '''\n",
    "    def constraint_rule3(model):\n",
    "        return model.x['Salt'] == 0.05\n",
    "    model.Constraint3 = Constraint(rule=constraint_rule3)\n",
    "    \n",
    "    return model"
   ]
  },
  {
   "cell_type": "markdown",
   "id": "32f273e3",
   "metadata": {},
   "source": [
    "## Step 2: Data Processing  \n",
    "y is binarized using a user-defined threshold."
   ]
  },
  {
   "cell_type": "code",
   "execution_count": 32,
   "id": "10151c52",
   "metadata": {},
   "outputs": [
    {
     "name": "stdout",
     "output_type": "stream",
     "text": [
      "Insert a threshold between 0 and 1 to binarize the label: 0.5\n"
     ]
    }
   ],
   "source": [
    "bin_threshold = float(input('Insert a threshold between 0 and 1 to binarize the label: '))\n",
    "y = dataset['label']\n",
    "# y_new = []\n",
    "# for i in y:\n",
    "#     if i < 0.3:\n",
    "#         y_new.append(0)\n",
    "#     elif i < 0.6:\n",
    "#         y_new.append(1)\n",
    "#     else:\n",
    "#         y_new.append(2)\n",
    "X = dataset.drop(['label'], axis=1, inplace=False)\n",
    "y = y>=bin_threshold\n",
    "from sklearn.model_selection import train_test_split\n",
    "X_train, X_test, y_train, y_test = train_test_split(X, y, test_size=0.8, random_state=42)"
   ]
  },
  {
   "cell_type": "markdown",
   "id": "7d0ba744",
   "metadata": {},
   "source": [
    "## Part 3: Learn the predictive models\n",
    "'alg_list' specifies the list of algorithms that you will consider in the training pipeline. If you have the InterpretableAI license, you can include **iai** (Optimal Trees with Hyperplanes) or **iai-single** (Optimal Trees with single feature splits) in the list. If using IAI, you must specify the metric as 'r2'. Otherwise, the default metric is 'neg_squared_mse'."
   ]
  },
  {
   "cell_type": "code",
   "execution_count": 181,
   "id": "48f1f718",
   "metadata": {},
   "outputs": [],
   "source": [
    "version = 'TPDP_v1'\n",
    "alg_list = ['gbm']\n",
    "outcome_list = ['palatability']  # Constraint to be learned"
   ]
  },
  {
   "cell_type": "markdown",
   "id": "e884eb74",
   "metadata": {},
   "source": [
    "#### Train models (or skip if pre-saved)  \n",
    "The training will use only regression models. "
   ]
  },
  {
   "cell_type": "code",
   "execution_count": 213,
   "id": "80fe98fc",
   "metadata": {
    "scrolled": true
   },
   "outputs": [
    {
     "name": "stdout",
     "output_type": "stream",
     "text": [
      "Learning a constraint for palatability\n",
      "Training gbm\n",
      "------------- Initialize grid  ----------------\n",
      "------------- Running model  ----------------\n",
      "Algorithm = gbm, metric = None\n",
      "------------- Model evaluation  ----------------\n",
      "-------------------training evaluation-----------------------\n",
      "Train Score: 0.9998952250847266\n",
      "-------------------testing evaluation-----------------------\n",
      "Test Score: 0.9563912551221156\n",
      "\n",
      "Saving the performance...\n",
      "Done!\n"
     ]
    }
   ],
   "source": [
    "reload(constraint_learning)\n",
    "task_type = 'binary'\n",
    "performance = pd.DataFrame()\n",
    "\n",
    "if not os.path.exists('results/'):\n",
    "    os.makedirs('results/')\n",
    "\n",
    "for outcome in outcome_list:\n",
    "    print(f'Learning a constraint for {outcome}')\n",
    "\n",
    "    for alg in alg_list:\n",
    "        if not os.path.exists('results/%s/' % alg):\n",
    "            os.makedirs('results/%s/' % alg)\n",
    "        print(f'Training {alg}')\n",
    "        s = 1\n",
    "\n",
    "        ## Run shallow/small version of RF\n",
    "        alg_run = 'rf_shallow' if alg == 'rf' else alg\n",
    "\n",
    "        m, perf = opticl.run_model(X_train, y_train, X_test, y_test, alg_run, outcome, task = task_type,\n",
    "                               seed = s, cv_folds = 5, \n",
    "                               # metric = 'r2',\n",
    "                               save = False,\n",
    "                              )\n",
    "\n",
    "        ## Save model\n",
    "        constraintL = constraint_learning.ConstraintLearning(X_train, y_train, m, alg)\n",
    "        constraint_add = constraintL.constraint_extrapolation(task_type)\n",
    "        constraint_add.to_csv('results/%s/%s_%s_model.csv' % (alg, version, outcome), index = False)\n",
    "\n",
    "        ## Extract performance metrics\n",
    "        try:\n",
    "            perf['auc_train'] = roc_auc_score(y_train >= threshold, m.predict(X_train))\n",
    "            perf['auc_test'] = roc_auc_score(y_test >= threshold, m.predict(X_test))\n",
    "        except: \n",
    "            perf['auc_train'] = np.nan\n",
    "            perf['auc_test'] = np.nan\n",
    "\n",
    "        perf['seed'] = s\n",
    "        perf['outcome'] = outcome\n",
    "        perf['alg'] = alg\n",
    "        perf['task'] = task_type\n",
    "        perf['save_path'] = 'results/%s/%s_%s_model.csv' % (alg, version, outcome)\n",
    "        \n",
    "            \n",
    "        perf.to_csv('results/%s/%s_%s_performance.csv' % (alg, version, outcome), index = False)\n",
    "        \n",
    "        performance = performance.append(perf)\n",
    "        print()\n",
    "print('Saving the performance...')\n",
    "performance.to_csv('results/%s_performance.csv' % version, index = False)\n",
    "print('Done!')"
   ]
  },
  {
   "cell_type": "markdown",
   "id": "8b937d3a",
   "metadata": {},
   "source": [
    "## Step 4: Predictive model selection and Optimization"
   ]
  },
  {
   "cell_type": "code",
   "execution_count": 38,
   "id": "644653d0",
   "metadata": {},
   "outputs": [
    {
     "name": "stdout",
     "output_type": "stream",
     "text": [
      "What is the palatability threshold that you want to use in the constraint? The default is 0.5.\n",
      " Choose in the range (0, 1): 0.5\n"
     ]
    }
   ],
   "source": [
    "question2 = 0.5\n",
    "print('What is the palatability threshold that you want to use in the constraint? The default is 0.5.')\n",
    "question2 = input(' Choose in the range (0, 1): ')\n",
    "if float(question2) > 1:\n",
    "    question2 = 0.5\n",
    "elif float(question2) < 0:\n",
    "    question2 = 0.5\n",
    "threshold = float(question2)"
   ]
  },
  {
   "cell_type": "code",
   "execution_count": 191,
   "id": "99e47908",
   "metadata": {},
   "outputs": [
    {
     "data": {
      "text/html": [
       "<div>\n",
       "<style scoped>\n",
       "    .dataframe tbody tr th:only-of-type {\n",
       "        vertical-align: middle;\n",
       "    }\n",
       "\n",
       "    .dataframe tbody tr th {\n",
       "        vertical-align: top;\n",
       "    }\n",
       "\n",
       "    .dataframe thead th {\n",
       "        text-align: right;\n",
       "    }\n",
       "</style>\n",
       "<table border=\"1\" class=\"dataframe\">\n",
       "  <thead>\n",
       "    <tr style=\"text-align: right;\">\n",
       "      <th></th>\n",
       "      <th>save_path</th>\n",
       "      <th>seed</th>\n",
       "      <th>cv_folds</th>\n",
       "      <th>parameters</th>\n",
       "      <th>best_params</th>\n",
       "      <th>valid_score</th>\n",
       "      <th>train_score</th>\n",
       "      <th>test_score</th>\n",
       "      <th>outcome</th>\n",
       "      <th>alg</th>\n",
       "      <th>task</th>\n",
       "    </tr>\n",
       "  </thead>\n",
       "  <tbody>\n",
       "    <tr>\n",
       "      <th>0</th>\n",
       "      <td>results/gbm/TPDP_v1_palatability_model.csv</td>\n",
       "      <td>1</td>\n",
       "      <td>5</td>\n",
       "      <td>{'learning_rate': [0.01, 0.025, 0.05, 0.075, 0...</td>\n",
       "      <td>{'learning_rate': 0.2, 'max_depth': 5, 'n_esti...</td>\n",
       "      <td>0.956209</td>\n",
       "      <td>0.999895</td>\n",
       "      <td>0.956391</td>\n",
       "      <td>palatability</td>\n",
       "      <td>gbm</td>\n",
       "      <td>binary</td>\n",
       "    </tr>\n",
       "  </tbody>\n",
       "</table>\n",
       "</div>"
      ],
      "text/plain": [
       "                                    save_path  seed  cv_folds  \\\n",
       "0  results/gbm/TPDP_v1_palatability_model.csv     1         5   \n",
       "\n",
       "                                          parameters  \\\n",
       "0  {'learning_rate': [0.01, 0.025, 0.05, 0.075, 0...   \n",
       "\n",
       "                                         best_params  valid_score  \\\n",
       "0  {'learning_rate': 0.2, 'max_depth': 5, 'n_esti...     0.956209   \n",
       "\n",
       "   train_score  test_score       outcome  alg    task  \n",
       "0     0.999895    0.956391  palatability  gbm  binary  "
      ]
     },
     "execution_count": 191,
     "metadata": {},
     "output_type": "execute_result"
    }
   ],
   "source": [
    "outcome_list = ['palatability']\n",
    "constraints_embed = ['palatability']\n",
    "objectives_embed = {}\n",
    "performance = pd.read_csv('results/%s_performance.csv' % version)\n",
    "performance.dropna(axis='columns')"
   ]
  },
  {
   "cell_type": "code",
   "execution_count": 251,
   "id": "b00d0715",
   "metadata": {},
   "outputs": [
    {
     "name": "stdout",
     "output_type": "stream",
     "text": [
      "        outcome model_type                                   save_path  \\\n",
      "0  palatability        gbm  results/gbm/TPDP_v1_palatability_model.csv   \n",
      "\n",
      "     task  objective  \n",
      "0  binary          0  \n",
      "No learned objective\n",
      "\n",
      "Embedding constraint for palatability using gbm model.\n",
      "0.5 <= palatability\n",
      "The outcome 'palatability' is a probability\n"
     ]
    },
    {
     "data": {
      "text/html": [
       "<div>\n",
       "<style scoped>\n",
       "    .dataframe tbody tr th:only-of-type {\n",
       "        vertical-align: middle;\n",
       "    }\n",
       "\n",
       "    .dataframe tbody tr th {\n",
       "        vertical-align: top;\n",
       "    }\n",
       "\n",
       "    .dataframe thead th {\n",
       "        text-align: right;\n",
       "    }\n",
       "</style>\n",
       "<table border=\"1\" class=\"dataframe\">\n",
       "  <thead>\n",
       "    <tr style=\"text-align: right;\">\n",
       "      <th></th>\n",
       "      <th>outcome</th>\n",
       "      <th>model_type</th>\n",
       "      <th>save_path</th>\n",
       "      <th>task</th>\n",
       "      <th>objective</th>\n",
       "      <th>lb</th>\n",
       "      <th>ub</th>\n",
       "    </tr>\n",
       "  </thead>\n",
       "  <tbody>\n",
       "    <tr>\n",
       "      <th>0</th>\n",
       "      <td>palatability</td>\n",
       "      <td>gbm</td>\n",
       "      <td>results/gbm/TPDP_v1_palatability_model.csv</td>\n",
       "      <td>binary</td>\n",
       "      <td>0</td>\n",
       "      <td>0.5</td>\n",
       "      <td>None</td>\n",
       "    </tr>\n",
       "  </tbody>\n",
       "</table>\n",
       "</div>"
      ],
      "text/plain": [
       "        outcome model_type                                   save_path  \\\n",
       "0  palatability        gbm  results/gbm/TPDP_v1_palatability_model.csv   \n",
       "\n",
       "     task  objective   lb    ub  \n",
       "0  binary          0  0.5  None  "
      ]
     },
     "execution_count": 251,
     "metadata": {},
     "output_type": "execute_result"
    }
   ],
   "source": [
    "reload(embed_mip)\n",
    "model_master = embed_mip.model_selection(performance, constraints_embed, objectives_embed)\n",
    "model_master['lb'] = 0.5\n",
    "model_master['ub'] = None\n",
    "embed_mip.check_model_master(model_master)\n",
    "model_master"
   ]
  },
  {
   "cell_type": "code",
   "execution_count": 255,
   "id": "10d32284",
   "metadata": {},
   "outputs": [
    {
     "name": "stdout",
     "output_type": "stream",
     "text": [
      "Do you want to use the trust region? True\\False: False\n"
     ]
    }
   ],
   "source": [
    "trust_region = input('Do you want to use the trust region? True\\False: ')"
   ]
  },
  {
   "cell_type": "code",
   "execution_count": 256,
   "id": "6cadcab9",
   "metadata": {},
   "outputs": [],
   "source": [
    "def getSolution(model, X):\n",
    "    solution = {}\n",
    "    palatability = 0\n",
    "    count = 0\n",
    "    for v in model.getVars():\n",
    "        if 'x[' in v.varName:\n",
    "            solution[list(X.columns)[count]]=[v.x]\n",
    "            print(v.varName)\n",
    "            count += 1\n",
    "    return solution"
   ]
  },
  {
   "cell_type": "code",
   "execution_count": 266,
   "id": "6434a547",
   "metadata": {
    "scrolled": true
   },
   "outputs": [
    {
     "name": "stdout",
     "output_type": "stream",
     "text": [
      "Embedding constraints for palatability\n",
      "-0.0\n",
      "---------------------Solving the optimization problem---------------------\n",
      "The optimal solution is: \n",
      " {'CSB': '2.19g', 'Milk': '50.78g', 'Salt': '5.0g', 'Maize': '135.75g', 'Sugar': '20.0g', 'Oil': '20.6g', 'Wheat': '276.89g', 'WSB': '69.65g'}\n",
      "The predicted palatability of the optimal solution is 0.16500285796268693\n"
     ]
    }
   ],
   "source": [
    "reload(embed_mip)\n",
    "result = {}\n",
    "conceptual_model= init_conceptual_model(cost_p)\n",
    "MIP_final_model = embed_mip.optimization_MIP(conceptual_model, conceptual_model.x, model_master, X, tr=trust_region=='True')\n",
    "opt = SolverFactory('gurobi')\n",
    "print('---------------------Solving the optimization problem---------------------')\n",
    "results = opt.solve(MIP_final_model) \n",
    "solution = {}\n",
    "for food in  list(nutr_val.index):\n",
    "    if value(MIP_final_model.x[food])*100 > 0.0000001:\n",
    "        solution[food] = str(np.round(value(MIP_final_model.x[food])*100, 2))+'g'\n",
    "print('The optimal solution is: \\n', solution)\n",
    "print(f\"The predicted palatability of the optimal solution is {value(MIP_final_model.y['palatability'])}\")"
   ]
  },
  {
   "cell_type": "code",
   "execution_count": null,
   "id": "d31942b8",
   "metadata": {},
   "outputs": [],
   "source": []
  }
 ],
 "metadata": {
  "@webio": {
   "lastCommId": null,
   "lastKernelId": null
  },
  "kernelspec": {
   "display_name": "Python 3",
   "language": "python",
   "name": "python3"
  },
  "language_info": {
   "codemirror_mode": {
    "name": "ipython",
    "version": 3
   },
   "file_extension": ".py",
   "mimetype": "text/x-python",
   "name": "python",
   "nbconvert_exporter": "python",
   "pygments_lexer": "ipython3",
   "version": "3.8.8"
  }
 },
 "nbformat": 4,
 "nbformat_minor": 5
}
