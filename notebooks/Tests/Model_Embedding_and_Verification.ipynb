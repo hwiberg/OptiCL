{
 "cells": [
  {
   "cell_type": "markdown",
   "metadata": {},
   "source": [
    "# Model Embedding Example and Prediction Verification"
   ]
  },
  {
   "cell_type": "markdown",
   "metadata": {},
   "source": [
    "This script demonstrates how to train a single model class, embed the model, and solve the optimization problem. We fix a sample from our generated data and solve the optimization problem with all elements of $\\mathbf{x}$ equal to our data. In general, we might have some elements of $\\mathbf{x}$ that are fixed, called our \"conceptual variables,\" and the remaining indices are our decision variables. By fixing all elements of $\\mathbf{x}$, we can verify that the model prediction matches the original sklearn model."
   ]
  },
  {
   "cell_type": "markdown",
   "metadata": {},
   "source": [
    "## Load the relevant packages"
   ]
  },
  {
   "cell_type": "code",
   "execution_count": 9,
   "metadata": {
    "scrolled": true
   },
   "outputs": [],
   "source": [
    "import opticl"
   ]
  },
  {
   "cell_type": "code",
   "execution_count": 11,
   "metadata": {},
   "outputs": [],
   "source": [
    "import pandas as pd\n",
    "import numpy as np\n",
    "import math\n",
    "from sklearn.utils.extmath import cartesian\n",
    "import time\n",
    "import sys\n",
    "import os\n",
    "import time\n",
    "\n",
    "from sklearn.metrics import roc_auc_score, r2_score, mean_squared_error\n",
    "from sklearn.cluster import KMeans"
   ]
  },
  {
   "cell_type": "code",
   "execution_count": 19,
   "metadata": {},
   "outputs": [],
   "source": [
    "from pyomo import environ\n",
    "from pyomo.environ import *"
   ]
  },
  {
   "cell_type": "markdown",
   "metadata": {},
   "source": [
    "## Initialize data\n",
    "We will work with a basic dataset from `sklearn`."
   ]
  },
  {
   "cell_type": "code",
   "execution_count": 12,
   "metadata": {},
   "outputs": [],
   "source": [
    "from sklearn.datasets import make_regression\n",
    "from sklearn.model_selection import train_test_split\n",
    "X, y = make_regression(n_samples=200, n_features = 20, random_state=1)\n",
    "X_train, X_test, y_train, y_test = train_test_split(X, y,\n",
    "                                                    random_state=1)\n",
    "X_train = pd.DataFrame(X_train).add_prefix('col')\n",
    "X_test = pd.DataFrame(X_test).add_prefix('col')"
   ]
  },
  {
   "cell_type": "markdown",
   "metadata": {},
   "source": [
    "## Train the chosen model type"
   ]
  },
  {
   "cell_type": "code",
   "execution_count": 13,
   "metadata": {},
   "outputs": [],
   "source": [
    "# alg = 'rf' \n",
    "# alg_run = 'rf_shallow'\n",
    "alg = alg_run = 'mlp'"
   ]
  },
  {
   "cell_type": "markdown",
   "metadata": {},
   "source": [
    "The user can optionally select a manual parameter grid for the cross-validation procedure. We implement a default parameter grid; see **run_MLmodels.py** for details on the tuned parameters. If you wish to use the default, leave ```parameter_grid = None``` (or do not specify any grid)."
   ]
  },
  {
   "cell_type": "code",
   "execution_count": 14,
   "metadata": {},
   "outputs": [],
   "source": [
    "parameter_grid = None\n",
    "# parameter_grid = {'hidden_layer_sizes': [(5,),(10,)]}"
   ]
  },
  {
   "cell_type": "code",
   "execution_count": 16,
   "metadata": {
    "scrolled": true
   },
   "outputs": [
    {
     "name": "stdout",
     "output_type": "stream",
     "text": [
      "------------- Initialize grid  ----------------\n",
      "------------- Running model  ----------------\n",
      "Algorithm = mlp, metric = None\n",
      "------------- Model evaluation  ----------------\n",
      "-------------------training evaluation-----------------------\n",
      "Train MSE: 8.017082756749335e-07\n",
      "Train R2: 0.9999999999802882\n",
      "-------------------testing evaluation-----------------------\n",
      "Test MSE: 60.24952015596481\n",
      "Test R2: 0.9987048913993389\n",
      "------------- Save results  ----------------\n"
     ]
    }
   ],
   "source": [
    "from sklearn.neural_network import MLPRegressor, MLPClassifier\n",
    "\n",
    "s = 0\n",
    "version = 'test'\n",
    "outcome = 'temp'\n",
    "\n",
    "m, perf = opticl.run_model(X_train, y_train, X_test, y_test, alg_run, task = 'continuous', \n",
    "                       seed = s, cv_folds = 5, \n",
    "                       # The user can manually specify the parameter grid for cross-validation if desired\n",
    "                       parameter_grid = parameter_grid,\n",
    "                       save = False)"
   ]
  },
  {
   "cell_type": "markdown",
   "metadata": {},
   "source": [
    "After training the model, we will save the trained model in the format needed for embedding the constraints. See **ConstraintLearning.py** for the specific format that is extracted per method. We also save the performance of the model to use in the automated model selection pipeline (if desired).\n",
    "\n",
    "We also create the save directory if it does not exist.\n",
    "\n"
   ]
  },
  {
   "cell_type": "code",
   "execution_count": 17,
   "metadata": {},
   "outputs": [],
   "source": [
    "if not os.path.exists('results/%s/' % alg):\n",
    "    os.makedirs('results/%s/' % alg)\n",
    "    \n",
    "constraintL = opticl.ConstraintLearning(X_train, y_train, m, alg)\n",
    "constraint_add = constraintL.constraint_extrapolation('r')\n",
    "constraint_add.to_csv('results/%s/%s_%s_model.csv' % (alg, version, outcome), index = False)\n",
    "\n",
    "perf.to_csv('results/%s/%s_%s_performance.csv' % (alg, version, outcome), index= False)"
   ]
  },
  {
   "cell_type": "markdown",
   "metadata": {},
   "source": [
    "### Check: what should the result be for our sample observation, if all x are fixed?"
   ]
  },
  {
   "cell_type": "markdown",
   "metadata": {},
   "source": [
    "#### Choose sample to test\n",
    "This will be the observation (\"patient\") that we feed into the optimization model."
   ]
  },
  {
   "cell_type": "code",
   "execution_count": 22,
   "metadata": {},
   "outputs": [],
   "source": [
    "sample_id = 1\n",
    "sample = X_train.loc[sample_id:sample_id,:].reset_index(drop = True)"
   ]
  },
  {
   "cell_type": "markdown",
   "metadata": {},
   "source": [
    "Calculate model prediction directly in sklearn."
   ]
  },
  {
   "cell_type": "code",
   "execution_count": 23,
   "metadata": {
    "scrolled": false
   },
   "outputs": [
    {
     "data": {
      "text/plain": [
       "array([290.34368228])"
      ]
     },
     "execution_count": 23,
     "metadata": {},
     "output_type": "execute_result"
    }
   ],
   "source": [
    "m.predict(sample)"
   ]
  },
  {
   "cell_type": "markdown",
   "metadata": {},
   "source": [
    "## Optimization formulation\n",
    "We will embed the model trained above. The model could also be selected using the model selection pipeline, which we demonstrate in the WFP example script.\n",
    "\n",
    "If manually specifying the model, as we are here, the key elements of the ``model_master`` dataframe are:\n",
    "- model_type: algorithm name.\n",
    "- outcome: name of outcome of interest; this is relevant in the case of multiple learned outcomes.\n",
    "- save_path: file name of the extracted model.\n",
    "- objective: the weight of the objective if it should be included as an additive term in the objective. A weight of 0 omits it from the objective entirely.\n",
    "- lb/ub: the lower (or upper) bound that we wish to apply to the learned outcome. If there is no bound, it should be set to ``None``.\n",
    "\n",
    "In this case, we set the outcome to be our only objective term, which will allow us to verify that the predictions are consistent between the embedded model and the sklearn prediction function."
   ]
  },
  {
   "cell_type": "code",
   "execution_count": 18,
   "metadata": {},
   "outputs": [],
   "source": [
    "model_master = pd.DataFrame(columns = ['model_type','outcome','save_path','lb','ub','objective'])\n",
    "\n",
    "model_master.loc[0,'model_type'] = alg\n",
    "model_master.loc[0,'save_path'] = 'results/%s/%s_%s_model.csv' % (alg, version, outcome)\n",
    "model_master.loc[0,'outcome'] = outcome\n",
    "model_master.loc[0,'objective'] = 1\n",
    "model_master.loc[0,'ub'] = None\n",
    "model_master.loc[0,'lb'] = None"
   ]
  },
  {
   "cell_type": "code",
   "execution_count": 35,
   "metadata": {
    "scrolled": false
   },
   "outputs": [],
   "source": [
    "model = ConcreteModel()\n",
    "\n",
    "## We will create our x decision variables, and fix them all to our sample's values for model verification.\n",
    "N = X_train.columns\n",
    "#model.x = model.addVars(N, vtype=GRB.CONTINUOUS, name='x', lb = -math.inf)\n",
    "model.x = Var(N, domain=Reals)\n",
    "\n",
    "def fix_value(model, index):\n",
    "    return model.x[index] == sample.loc[0,index]\n",
    "\n",
    "model.Constraint1 = Constraint(N, rule=fix_value)\n",
    "\n",
    "## Specify any non-learned objective components - none here for feasibility\n",
    "model.OBJ = Objective(expr=0, sense=minimize)"
   ]
  },
  {
   "cell_type": "code",
   "execution_count": 36,
   "metadata": {},
   "outputs": [
    {
     "name": "stdout",
     "output_type": "stream",
     "text": [
      "Embedding objective function for temp\n"
     ]
    }
   ],
   "source": [
    "final_model = opticl.optimization_MIP(model, model.x, model_master, X_train, tr = False)"
   ]
  },
  {
   "cell_type": "code",
   "execution_count": 37,
   "metadata": {},
   "outputs": [
    {
     "name": "stdout",
     "output_type": "stream",
     "text": [
      "2 Set Declarations\n",
      "    Constraint1_index : Size=1, Index=None, Ordered=False\n",
      "        Key  : Dimen : Domain : Size : Members\n",
      "        None :     1 :    Any :   20 : {'col0', 'col1', 'col10', 'col11', 'col12', 'col13', 'col14', 'col15', 'col16', 'col17', 'col18', 'col19', 'col2', 'col3', 'col4', 'col5', 'col6', 'col7', 'col8', 'col9'}\n",
      "    x_index : Size=1, Index=None, Ordered=False\n",
      "        Key  : Dimen : Domain : Size : Members\n",
      "        None :     1 :    Any :   20 : {'col0', 'col1', 'col10', 'col11', 'col12', 'col13', 'col14', 'col15', 'col16', 'col17', 'col18', 'col19', 'col2', 'col3', 'col4', 'col5', 'col6', 'col7', 'col8', 'col9'}\n",
      "\n",
      "6 Var Declarations\n",
      "    l : Size=0, Index=Any\n",
      "        Key : Lower : Value : Upper : Fixed : Stale : Domain\n",
      "    v : Size=10, Index=Any\n",
      "        Key            : Lower : Value : Upper : Fixed : Stale : Domain\n",
      "        ('temp', 0, 0) :     0 :  None :  None : False :  True : NonNegativeReals\n",
      "        ('temp', 0, 1) :     0 :  None :  None : False :  True : NonNegativeReals\n",
      "        ('temp', 0, 2) :     0 :  None :  None : False :  True : NonNegativeReals\n",
      "        ('temp', 0, 3) :     0 :  None :  None : False :  True : NonNegativeReals\n",
      "        ('temp', 0, 4) :     0 :  None :  None : False :  True : NonNegativeReals\n",
      "        ('temp', 0, 5) :     0 :  None :  None : False :  True : NonNegativeReals\n",
      "        ('temp', 0, 6) :     0 :  None :  None : False :  True : NonNegativeReals\n",
      "        ('temp', 0, 7) :     0 :  None :  None : False :  True : NonNegativeReals\n",
      "        ('temp', 0, 8) :     0 :  None :  None : False :  True : NonNegativeReals\n",
      "        ('temp', 0, 9) :     0 :  None :  None : False :  True : NonNegativeReals\n",
      "    v_ind : Size=10, Index=Any\n",
      "        Key            : Lower : Value : Upper : Fixed : Stale : Domain\n",
      "        ('temp', 0, 0) :     0 :  None :     1 : False :  True : Binary\n",
      "        ('temp', 0, 1) :     0 :  None :     1 : False :  True : Binary\n",
      "        ('temp', 0, 2) :     0 :  None :     1 : False :  True : Binary\n",
      "        ('temp', 0, 3) :     0 :  None :     1 : False :  True : Binary\n",
      "        ('temp', 0, 4) :     0 :  None :     1 : False :  True : Binary\n",
      "        ('temp', 0, 5) :     0 :  None :     1 : False :  True : Binary\n",
      "        ('temp', 0, 6) :     0 :  None :     1 : False :  True : Binary\n",
      "        ('temp', 0, 7) :     0 :  None :     1 : False :  True : Binary\n",
      "        ('temp', 0, 8) :     0 :  None :     1 : False :  True : Binary\n",
      "        ('temp', 0, 9) :     0 :  None :     1 : False :  True : Binary\n",
      "    x : Size=20, Index=x_index\n",
      "        Key   : Lower : Value : Upper : Fixed : Stale : Domain\n",
      "         col0 :  None :  None :  None : False :  True :  Reals\n",
      "         col1 :  None :  None :  None : False :  True :  Reals\n",
      "        col10 :  None :  None :  None : False :  True :  Reals\n",
      "        col11 :  None :  None :  None : False :  True :  Reals\n",
      "        col12 :  None :  None :  None : False :  True :  Reals\n",
      "        col13 :  None :  None :  None : False :  True :  Reals\n",
      "        col14 :  None :  None :  None : False :  True :  Reals\n",
      "        col15 :  None :  None :  None : False :  True :  Reals\n",
      "        col16 :  None :  None :  None : False :  True :  Reals\n",
      "        col17 :  None :  None :  None : False :  True :  Reals\n",
      "        col18 :  None :  None :  None : False :  True :  Reals\n",
      "        col19 :  None :  None :  None : False :  True :  Reals\n",
      "         col2 :  None :  None :  None : False :  True :  Reals\n",
      "         col3 :  None :  None :  None : False :  True :  Reals\n",
      "         col4 :  None :  None :  None : False :  True :  Reals\n",
      "         col5 :  None :  None :  None : False :  True :  Reals\n",
      "         col6 :  None :  None :  None : False :  True :  Reals\n",
      "         col7 :  None :  None :  None : False :  True :  Reals\n",
      "         col8 :  None :  None :  None : False :  True :  Reals\n",
      "         col9 :  None :  None :  None : False :  True :  Reals\n",
      "    y : Size=1, Index=Any\n",
      "        Key  : Lower : Value : Upper : Fixed : Stale : Domain\n",
      "        temp :  None :  None :  None : False :  True :  Reals\n",
      "    y_viol : Size=0, Index=Any\n",
      "        Key : Lower : Value : Upper : Fixed : Stale : Domain\n",
      "\n",
      "1 Objective Declarations\n",
      "    OBJ : Size=1, Index=None, Active=True\n",
      "        Key  : Active : Sense    : Expression\n",
      "        None :   True : minimize :    y[temp]\n",
      "\n",
      "32 Constraint Declarations\n",
      "    Constraint1 : Size=20, Index=Constraint1_index, Active=True\n",
      "        Key   : Lower                : Body     : Upper                : Active\n",
      "         col0 :   0.1273146355720885 :  x[col0] :   0.1273146355720885 :   True\n",
      "         col1 :   0.6640795475273731 :  x[col1] :   0.6640795475273731 :   True\n",
      "        col10 :  0.30733106704705815 : x[col10] :  0.30733106704705815 :   True\n",
      "        col11 :  0.18621169846960364 : x[col11] :  0.18621169846960364 :   True\n",
      "        col12 :    1.004093104601491 : x[col12] :    1.004093104601491 :   True\n",
      "        col13 :  0.33948780556898744 : x[col13] :  0.33948780556898744 :   True\n",
      "        col14 :     1.39408104250043 : x[col14] :     1.39408104250043 :   True\n",
      "        col15 :  -1.3113243820094933 : x[col15] :  -1.3113243820094933 :   True\n",
      "        col16 :   0.9957039414105046 : x[col16] :   0.9957039414105046 :   True\n",
      "        col17 :   0.8730058373155313 : x[col17] :   0.8730058373155313 :   True\n",
      "        col18 :   0.7573281242970629 : x[col18] :   0.7573281242970629 :   True\n",
      "        col19 :   0.2929311256805711 : x[col19] :   0.2929311256805711 :   True\n",
      "         col2 :  -0.5887796071685205 :  x[col2] :  -0.5887796071685205 :   True\n",
      "         col3 :    0.317857879102256 :  x[col3] :    0.317857879102256 :   True\n",
      "         col4 : -0.42666728403845283 :  x[col4] : -0.42666728403845283 :   True\n",
      "         col5 :   -0.072892245211876 :  x[col5] :   -0.072892245211876 :   True\n",
      "         col6 :  0.06803203466841243 :  x[col6] :  0.06803203466841243 :   True\n",
      "         col7 :  -0.6284625527547907 :  x[col7] :  -0.6284625527547907 :   True\n",
      "         col8 :   0.8582860008822079 :  x[col8] :   0.8582860008822079 :   True\n",
      "         col9 : -0.07094967490085848 :  x[col9] : -0.07094967490085848 :   True\n",
      "    MLPtemp : Size=1, Index=None, Active=True\n",
      "        Key  : Lower : Body                                                                                                                                                                                                                                                                                                                                                                         : Upper : Active\n",
      "        None :   0.0 : y[temp] - (2.2893565841289094*v[temp,0,0] - 0.00851811496709448*v[temp,0,1] + 2.2286722556270107*v[temp,0,2] + 0.0010211909590018286*v[temp,0,3] - 6.026703499921212*v[temp,0,4] - 0.002270516047722161*v[temp,0,5] - 10.92389482089099*v[temp,0,6] + 0.012341557805812278*v[temp,0,7] + 12.55158317391268*v[temp,0,8] + 4.975555659915419*v[temp,0,9] + 0.4984073768738229) :   0.0 :   True\n",
      "    constraint_1_0temp : Size=1, Index=None, Active=True\n",
      "        Key  : Lower : Body                                                                                                                                                                                                                                                                                                                                                                                                                                                                                                                                                                                                                                     : Upper : Active\n",
      "        None :  -Inf : 0.5006705068385179*x[col2] + 6.066284043156885*x[col17] + 4.372022784291022*x[col4] + 3.4682905327479983*x[col6] + 4.051724275294323*x[col14] + 0.5030173124046939*x[col15] - 0.3756015953010325*x[col1] + 0.1887025212680201*x[col5] + 0.8878510224192147*x[col18] + 1.0232284978951822*x[col10] + 2.122717947352249*x[col16] + 5.087767394207743*x[col8] + 6.137178331766671*x[col13] + 1.5821781298399469*x[col9] + 3.3953402510772657*x[col11] + 0.9282536336760232*x[col3] + 0.4906076384854183*x[col0] + 5.461006651732499*x[col7] + 0.3805617426810223*x[col19] - 0.19019900463045614*x[col12] + 1.3727648891858368 - v[temp,0,0] :   0.0 :   True\n",
      "    constraint_1_1temp : Size=1, Index=None, Active=True\n",
      "        Key  : Lower : Body                                                                                                                                                                                                                                                                                                                                                                                                                                                                                                                                                                                                                                          : Upper : Active\n",
      "        None :  -Inf : -0.697688335820395*x[col2] - 3.317380960918252*x[col17] - 1.0694091115910025*x[col4] - 2.2051904900591306*x[col6] - 0.9540908358101992*x[col14] - 0.8179032161627421*x[col15] + 0.08349109087620568*x[col1] - 0.6210821976709959*x[col5] - 1.9771062267958248*x[col18] + 0.06757917524647525*x[col10] - 1.1464530576415637*x[col16] - 3.0158420107798087*x[col8] - 3.5034183760820468*x[col13] - 0.485401185088397*x[col9] - 2.3812233623244023*x[col11] + 2.466357961634952*x[col3] - 0.41778852576050585*x[col0] - 3.298307300295985*x[col7] - 1.9117888671599013*x[col19] + 0.6809479818376021*x[col12] - 1.2984442033188277 - v[temp,0,1] :   0.0 :   True\n",
      "    constraint_1_2temp : Size=1, Index=None, Active=True\n",
      "        Key  : Lower : Body                                                                                                                                                                                                                                                                                                                                                                                                                                                                                                                                                                                                                                            : Upper : Active\n",
      "        None :  -Inf : -0.2794526898482719*x[col2] + 2.3909041975212357*x[col17] + 1.559880873269197*x[col4] + 1.8914585780805704*x[col6] + 0.7111926523088872*x[col14] + 0.5203173438879337*x[col15] - 0.06620357932381958*x[col1] + 0.5245720567240663*x[col5] + 0.4877920476615825*x[col18] + 0.16174146405399947*x[col10] + 0.15301231339613106*x[col16] + 2.453022619950619*x[col8] + 2.957441663284303*x[col13] + 0.4242667631156055*x[col9] + 1.2632055663585495*x[col11] + 0.3619478409490707*x[col3] + 0.07762831480807633*x[col0] + 1.3049165388835844*x[col7] - 0.4653180429759077*x[col19] + 0.3739208783642264*x[col12] - 0.281583645009368 - v[temp,0,2] :   0.0 :   True\n",
      "    constraint_1_3temp : Size=1, Index=None, Active=True\n",
      "        Key  : Lower : Body                                                                                                                                                                                                                                                                                                                                                                                                                                                                                                                                                                                                                                          : Upper : Active\n",
      "        None :  -Inf : -0.3903957402538809*x[col2] - 2.422467155925459*x[col17] + 0.09853906930028604*x[col4] - 1.0183931146746743*x[col6] - 1.108379712859356*x[col14] - 0.6341599142372136*x[col15] - 0.9433318899646544*x[col1] - 0.3972482500762479*x[col5] - 0.4464668929739648*x[col18] - 0.2429767657759207*x[col10] - 0.9566102647139612*x[col16] - 1.7531073443397929*x[col8] - 1.6322349261413367*x[col13] - 0.1583365956061548*x[col9] - 0.8623508408757994*x[col11] + 0.7360013529894329*x[col3] - 0.08086626172853405*x[col0] - 1.353287117588542*x[col7] - 3.1282283989488238*x[col19] - 0.28919054227792546*x[col12] - 1.29387583641653 - v[temp,0,3] :   0.0 :   True\n",
      "    constraint_1_4temp : Size=1, Index=None, Active=True\n",
      "        Key  : Lower : Body                                                                                                                                                                                                                                                                                                                                                                                                                                                                                                                                                                                                                                  : Upper : Active\n",
      "        None :  -Inf : 0.494436428971109*x[col2] - 6.382957721636307*x[col17] - 3.0316345398332243*x[col4] - 6.114440849743342*x[col6] - 2.2478203211182968*x[col14] - 0.852301383718282*x[col15] - 0.1371335763689723*x[col1] + 1.1265528873292978*x[col5] - 2.7799213198834045*x[col18] - 0.19104792639680868*x[col10] - 1.8499223511251413*x[col16] - 6.594465394497735*x[col8] - 5.692475469363874*x[col13] - 0.8462421233791606*x[col9] - 4.775138726811695*x[col11] - 0.2608468704984384*x[col3] + 0.3317841640951994*x[col0] - 4.719380923190267*x[col7] - 0.3607419012793727*x[col19] - 0.31827880227218*x[col12] - 0.7753835378964007 - v[temp,0,4] :   0.0 :   True\n",
      "    constraint_1_5temp : Size=1, Index=None, Active=True\n",
      "        Key  : Lower : Body                                                                                                                                                                                                                                                                                                                                                                                                                                                                                                                                                                                                                                           : Upper : Active\n",
      "        None :  -Inf : 1.7027294693409687*x[col2] + 2.3262966932674973*x[col17] + 1.6008980073656849*x[col4] + 0.9054468977676012*x[col6] + 1.1385039954681084*x[col14] + 0.2417493071331059*x[col15] + 0.020789886103985883*x[col1] + 0.7929814477130998*x[col5] + 0.8135831426546926*x[col18] - 0.5651132108642463*x[col10] + 1.0556797161876874*x[col16] + 1.8411504963231176*x[col8] + 2.0527929379417817*x[col13] + 1.24659027863753*x[col9] + 0.5787209381608693*x[col11] - 0.4371629847849861*x[col3] - 0.5247408713518237*x[col0] + 1.4876575088774735*x[col7] + 1.8128442153429407*x[col19] + 0.4199687668476315*x[col12] - 0.8729125397910483 - v[temp,0,5] :   0.0 :   True\n",
      "    constraint_1_6temp : Size=1, Index=None, Active=True\n",
      "        Key  : Lower : Body                                                                                                                                                                                                                                                                                                                                                                                                                                                                                                                                                                                                                                           : Upper : Active\n",
      "        None :  -Inf : -0.27256243223016063*x[col2] - 4.272981160694254*x[col17] - 3.4899429529933763*x[col4] - 3.828651319833821*x[col6] - 3.293545229370604*x[col14] + 0.4700352759295706*x[col15] + 0.07578926908073387*x[col1] - 0.6213561349629407*x[col5] - 0.7705353862746251*x[col18] + 0.10522979227150722*x[col10] + 1.0208547337897451*x[col16] - 4.962195042017223*x[col8] - 5.005519704304216*x[col13] + 0.4672476975811628*x[col9] - 3.736556335297982*x[col11] - 1.244106154163426*x[col3] - 0.18238572894888253*x[col0] - 3.4197371768520712*x[col7] + 0.19996227346927145*x[col19] + 0.17503200643241865*x[col12] + 0.4737249130777496 - v[temp,0,6] :   0.0 :   True\n",
      "    constraint_1_7temp : Size=1, Index=None, Active=True\n",
      "        Key  : Lower : Body                                                                                                                                                                                                                                                                                                                                                                                                                                                                                                                                                                                                                                                  : Upper : Active\n",
      "        None :  -Inf : -0.24769002425592984*x[col2] - 0.7789986510614794*x[col17] + 0.2761819608197552*x[col4] - 0.2508968874619713*x[col6] - 0.5508635885208752*x[col14] - 0.699283673558563*x[col15] + 0.2542268561452831*x[col1] - 0.2509768261755653*x[col5] - 0.24080051234380806*x[col18] - 0.09558247524579874*x[col10] - 0.535151496680503*x[col16] - 0.4326642811784639*x[col8] - 0.9243887541237512*x[col13] - 0.010733761176408254*x[col9] - 0.18140738123350564*x[col11] + 0.8557579452858236*x[col3] + 0.2819841769438613*x[col0] - 0.3872438675361383*x[col7] - 0.2516839305272124*x[col19] - 0.008949990671975775*x[col12] - 0.6642516292391656 - v[temp,0,7] :   0.0 :   True\n",
      "    constraint_1_8temp : Size=1, Index=None, Active=True\n",
      "        Key  : Lower : Body                                                                                                                                                                                                                                                                                                                                                                                                                                                                                                                                                                                                                                              : Upper : Active\n",
      "        None :  -Inf : 0.04623546770092162*x[col2] + 2.755405010375961*x[col17] + 2.4699395447086783*x[col4] + 3.1471646368855954*x[col6] + 2.249366878821728*x[col14] - 0.3239834609969844*x[col15] - 0.07614699157627895*x[col1] + 0.07743394068912744*x[col5] + 1.0224851735977547*x[col18] + 0.2118688358463444*x[col10] - 0.7462861263127957*x[col16] + 3.8864253977018333*x[col8] + 3.2014390014670684*x[col13] - 0.2917820090681482*x[col9] + 2.351293685242821*x[col11] + 0.8043959077629858*x[col3] - 0.15327961396892376*x[col0] + 2.4053890440052337*x[col7] - 0.6025941054850027*x[col19] - 0.04532636341911677*x[col12] - 0.10429949992340648 - v[temp,0,8] :   0.0 :   True\n",
      "    constraint_1_9temp : Size=1, Index=None, Active=True\n",
      "        Key  : Lower : Body                                                                                                                                                                                                                                                                                                                                                                                                                                                                                                                                                                                                                                      : Upper : Active\n",
      "        None :  -Inf : -0.221233384842*x[col2] + 6.3041527043244905*x[col17] + 2.3963733156583253*x[col4] + 5.433066100776809*x[col6] + 2.097077950770232*x[col14] + 0.35284688784317125*x[col15] + 0.3945591088351153*x[col1] - 0.5169005686651523*x[col5] + 1.8555832442875155*x[col18] - 1.0780921091018951*x[col10] + 0.8377684861263963*x[col16] + 5.642840154786701*x[col8] + 5.6643627178743525*x[col13] - 0.18155390858472065*x[col9] + 5.931646706726523*x[col11] + 0.4269066247373813*x[col3] + 0.1259008665548141*x[col0] + 4.064344901952127*x[col7] + 1.5542245833745043*x[col19] + 0.03450190673401631*x[col12] - 0.3424849802629838 - v[temp,0,9] :   0.0 :   True\n",
      "    constraint_2_0temp : Size=1, Index=None, Active=True\n",
      "        Key  : Lower : Body                                   : Upper : Active\n",
      "        None :  -Inf : v[temp,0,0] - 100000.0*v_ind[temp,0,0] :   0.0 :   True\n",
      "    constraint_2_1temp : Size=1, Index=None, Active=True\n",
      "        Key  : Lower : Body                                   : Upper : Active\n",
      "        None :  -Inf : v[temp,0,1] - 100000.0*v_ind[temp,0,1] :   0.0 :   True\n",
      "    constraint_2_2temp : Size=1, Index=None, Active=True\n",
      "        Key  : Lower : Body                                   : Upper : Active\n",
      "        None :  -Inf : v[temp,0,2] - 100000.0*v_ind[temp,0,2] :   0.0 :   True\n",
      "    constraint_2_3temp : Size=1, Index=None, Active=True\n",
      "        Key  : Lower : Body                                   : Upper : Active\n",
      "        None :  -Inf : v[temp,0,3] - 100000.0*v_ind[temp,0,3] :   0.0 :   True\n",
      "    constraint_2_4temp : Size=1, Index=None, Active=True\n",
      "        Key  : Lower : Body                                   : Upper : Active\n",
      "        None :  -Inf : v[temp,0,4] - 100000.0*v_ind[temp,0,4] :   0.0 :   True\n",
      "    constraint_2_5temp : Size=1, Index=None, Active=True\n",
      "        Key  : Lower : Body                                   : Upper : Active\n",
      "        None :  -Inf : v[temp,0,5] - 100000.0*v_ind[temp,0,5] :   0.0 :   True\n",
      "    constraint_2_6temp : Size=1, Index=None, Active=True\n",
      "        Key  : Lower : Body                                   : Upper : Active\n",
      "        None :  -Inf : v[temp,0,6] - 100000.0*v_ind[temp,0,6] :   0.0 :   True\n",
      "    constraint_2_7temp : Size=1, Index=None, Active=True\n",
      "        Key  : Lower : Body                                   : Upper : Active\n",
      "        None :  -Inf : v[temp,0,7] - 100000.0*v_ind[temp,0,7] :   0.0 :   True\n",
      "    constraint_2_8temp : Size=1, Index=None, Active=True\n",
      "        Key  : Lower : Body                                   : Upper : Active\n",
      "        None :  -Inf : v[temp,0,8] - 100000.0*v_ind[temp,0,8] :   0.0 :   True\n",
      "    constraint_2_9temp : Size=1, Index=None, Active=True\n",
      "        Key  : Lower : Body                                   : Upper : Active\n",
      "        None :  -Inf : v[temp,0,9] - 100000.0*v_ind[temp,0,9] :   0.0 :   True\n",
      "    constraint_3_0temp : Size=1, Index=None, Active=True\n",
      "        Key  : Lower : Body                                                                                                                                                                                                                                                                                                                                                                                                                                                                                                                                                                                                                                                                        : Upper : Active\n",
      "        None :  -Inf : v[temp,0,0] - (0.5006705068385179*x[col2] + 6.066284043156885*x[col17] + 4.372022784291022*x[col4] + 3.4682905327479983*x[col6] + 4.051724275294323*x[col14] + 0.5030173124046939*x[col15] - 0.3756015953010325*x[col1] + 0.1887025212680201*x[col5] + 0.8878510224192147*x[col18] + 1.0232284978951822*x[col10] + 2.122717947352249*x[col16] + 5.087767394207743*x[col8] + 6.137178331766671*x[col13] + 1.5821781298399469*x[col9] + 3.3953402510772657*x[col11] + 0.9282536336760232*x[col3] + 0.4906076384854183*x[col0] + 5.461006651732499*x[col7] + 0.3805617426810223*x[col19] - 0.19019900463045614*x[col12] + 1.3727648891858368 + 100000.0*(1 - v_ind[temp,0,0])) :   0.0 :   True\n",
      "    constraint_3_1temp : Size=1, Index=None, Active=True\n",
      "        Key  : Lower : Body                                                                                                                                                                                                                                                                                                                                                                                                                                                                                                                                                                                                                                                                             : Upper : Active\n",
      "        None :  -Inf : v[temp,0,1] - (-0.697688335820395*x[col2] - 3.317380960918252*x[col17] - 1.0694091115910025*x[col4] - 2.2051904900591306*x[col6] - 0.9540908358101992*x[col14] - 0.8179032161627421*x[col15] + 0.08349109087620568*x[col1] - 0.6210821976709959*x[col5] - 1.9771062267958248*x[col18] + 0.06757917524647525*x[col10] - 1.1464530576415637*x[col16] - 3.0158420107798087*x[col8] - 3.5034183760820468*x[col13] - 0.485401185088397*x[col9] - 2.3812233623244023*x[col11] + 2.466357961634952*x[col3] - 0.41778852576050585*x[col0] - 3.298307300295985*x[col7] - 1.9117888671599013*x[col19] + 0.6809479818376021*x[col12] - 1.2984442033188277 + 100000.0*(1 - v_ind[temp,0,1])) :   0.0 :   True\n",
      "    constraint_3_2temp : Size=1, Index=None, Active=True\n",
      "        Key  : Lower : Body                                                                                                                                                                                                                                                                                                                                                                                                                                                                                                                                                                                                                                                                               : Upper : Active\n",
      "        None :  -Inf : v[temp,0,2] - (-0.2794526898482719*x[col2] + 2.3909041975212357*x[col17] + 1.559880873269197*x[col4] + 1.8914585780805704*x[col6] + 0.7111926523088872*x[col14] + 0.5203173438879337*x[col15] - 0.06620357932381958*x[col1] + 0.5245720567240663*x[col5] + 0.4877920476615825*x[col18] + 0.16174146405399947*x[col10] + 0.15301231339613106*x[col16] + 2.453022619950619*x[col8] + 2.957441663284303*x[col13] + 0.4242667631156055*x[col9] + 1.2632055663585495*x[col11] + 0.3619478409490707*x[col3] + 0.07762831480807633*x[col0] + 1.3049165388835844*x[col7] - 0.4653180429759077*x[col19] + 0.3739208783642264*x[col12] - 0.281583645009368 + 100000.0*(1 - v_ind[temp,0,2])) :   0.0 :   True\n",
      "    constraint_3_3temp : Size=1, Index=None, Active=True\n",
      "        Key  : Lower : Body                                                                                                                                                                                                                                                                                                                                                                                                                                                                                                                                                                                                                                                                             : Upper : Active\n",
      "        None :  -Inf : v[temp,0,3] - (-0.3903957402538809*x[col2] - 2.422467155925459*x[col17] + 0.09853906930028604*x[col4] - 1.0183931146746743*x[col6] - 1.108379712859356*x[col14] - 0.6341599142372136*x[col15] - 0.9433318899646544*x[col1] - 0.3972482500762479*x[col5] - 0.4464668929739648*x[col18] - 0.2429767657759207*x[col10] - 0.9566102647139612*x[col16] - 1.7531073443397929*x[col8] - 1.6322349261413367*x[col13] - 0.1583365956061548*x[col9] - 0.8623508408757994*x[col11] + 0.7360013529894329*x[col3] - 0.08086626172853405*x[col0] - 1.353287117588542*x[col7] - 3.1282283989488238*x[col19] - 0.28919054227792546*x[col12] - 1.29387583641653 + 100000.0*(1 - v_ind[temp,0,3])) :   0.0 :   True\n",
      "    constraint_3_4temp : Size=1, Index=None, Active=True\n",
      "        Key  : Lower : Body                                                                                                                                                                                                                                                                                                                                                                                                                                                                                                                                                                                                                                                                     : Upper : Active\n",
      "        None :  -Inf : v[temp,0,4] - (0.494436428971109*x[col2] - 6.382957721636307*x[col17] - 3.0316345398332243*x[col4] - 6.114440849743342*x[col6] - 2.2478203211182968*x[col14] - 0.852301383718282*x[col15] - 0.1371335763689723*x[col1] + 1.1265528873292978*x[col5] - 2.7799213198834045*x[col18] - 0.19104792639680868*x[col10] - 1.8499223511251413*x[col16] - 6.594465394497735*x[col8] - 5.692475469363874*x[col13] - 0.8462421233791606*x[col9] - 4.775138726811695*x[col11] - 0.2608468704984384*x[col3] + 0.3317841640951994*x[col0] - 4.719380923190267*x[col7] - 0.3607419012793727*x[col19] - 0.31827880227218*x[col12] - 0.7753835378964007 + 100000.0*(1 - v_ind[temp,0,4])) :   0.0 :   True\n",
      "    constraint_3_5temp : Size=1, Index=None, Active=True\n",
      "        Key  : Lower : Body                                                                                                                                                                                                                                                                                                                                                                                                                                                                                                                                                                                                                                                                              : Upper : Active\n",
      "        None :  -Inf : v[temp,0,5] - (1.7027294693409687*x[col2] + 2.3262966932674973*x[col17] + 1.6008980073656849*x[col4] + 0.9054468977676012*x[col6] + 1.1385039954681084*x[col14] + 0.2417493071331059*x[col15] + 0.020789886103985883*x[col1] + 0.7929814477130998*x[col5] + 0.8135831426546926*x[col18] - 0.5651132108642463*x[col10] + 1.0556797161876874*x[col16] + 1.8411504963231176*x[col8] + 2.0527929379417817*x[col13] + 1.24659027863753*x[col9] + 0.5787209381608693*x[col11] - 0.4371629847849861*x[col3] - 0.5247408713518237*x[col0] + 1.4876575088774735*x[col7] + 1.8128442153429407*x[col19] + 0.4199687668476315*x[col12] - 0.8729125397910483 + 100000.0*(1 - v_ind[temp,0,5])) :   0.0 :   True\n",
      "    constraint_3_6temp : Size=1, Index=None, Active=True\n",
      "        Key  : Lower : Body                                                                                                                                                                                                                                                                                                                                                                                                                                                                                                                                                                                                                                                                              : Upper : Active\n",
      "        None :  -Inf : v[temp,0,6] - (-0.27256243223016063*x[col2] - 4.272981160694254*x[col17] - 3.4899429529933763*x[col4] - 3.828651319833821*x[col6] - 3.293545229370604*x[col14] + 0.4700352759295706*x[col15] + 0.07578926908073387*x[col1] - 0.6213561349629407*x[col5] - 0.7705353862746251*x[col18] + 0.10522979227150722*x[col10] + 1.0208547337897451*x[col16] - 4.962195042017223*x[col8] - 5.005519704304216*x[col13] + 0.4672476975811628*x[col9] - 3.736556335297982*x[col11] - 1.244106154163426*x[col3] - 0.18238572894888253*x[col0] - 3.4197371768520712*x[col7] + 0.19996227346927145*x[col19] + 0.17503200643241865*x[col12] + 0.4737249130777496 + 100000.0*(1 - v_ind[temp,0,6])) :   0.0 :   True\n",
      "    constraint_3_7temp : Size=1, Index=None, Active=True\n",
      "        Key  : Lower : Body                                                                                                                                                                                                                                                                                                                                                                                                                                                                                                                                                                                                                                                                                     : Upper : Active\n",
      "        None :  -Inf : v[temp,0,7] - (-0.24769002425592984*x[col2] - 0.7789986510614794*x[col17] + 0.2761819608197552*x[col4] - 0.2508968874619713*x[col6] - 0.5508635885208752*x[col14] - 0.699283673558563*x[col15] + 0.2542268561452831*x[col1] - 0.2509768261755653*x[col5] - 0.24080051234380806*x[col18] - 0.09558247524579874*x[col10] - 0.535151496680503*x[col16] - 0.4326642811784639*x[col8] - 0.9243887541237512*x[col13] - 0.010733761176408254*x[col9] - 0.18140738123350564*x[col11] + 0.8557579452858236*x[col3] + 0.2819841769438613*x[col0] - 0.3872438675361383*x[col7] - 0.2516839305272124*x[col19] - 0.008949990671975775*x[col12] - 0.6642516292391656 + 100000.0*(1 - v_ind[temp,0,7])) :   0.0 :   True\n",
      "    constraint_3_8temp : Size=1, Index=None, Active=True\n",
      "        Key  : Lower : Body                                                                                                                                                                                                                                                                                                                                                                                                                                                                                                                                                                                                                                                                                 : Upper : Active\n",
      "        None :  -Inf : v[temp,0,8] - (0.04623546770092162*x[col2] + 2.755405010375961*x[col17] + 2.4699395447086783*x[col4] + 3.1471646368855954*x[col6] + 2.249366878821728*x[col14] - 0.3239834609969844*x[col15] - 0.07614699157627895*x[col1] + 0.07743394068912744*x[col5] + 1.0224851735977547*x[col18] + 0.2118688358463444*x[col10] - 0.7462861263127957*x[col16] + 3.8864253977018333*x[col8] + 3.2014390014670684*x[col13] - 0.2917820090681482*x[col9] + 2.351293685242821*x[col11] + 0.8043959077629858*x[col3] - 0.15327961396892376*x[col0] + 2.4053890440052337*x[col7] - 0.6025941054850027*x[col19] - 0.04532636341911677*x[col12] - 0.10429949992340648 + 100000.0*(1 - v_ind[temp,0,8])) :   0.0 :   True\n",
      "    constraint_3_9temp : Size=1, Index=None, Active=True\n",
      "        Key  : Lower : Body                                                                                                                                                                                                                                                                                                                                                                                                                                                                                                                                                                                                                                                                         : Upper : Active\n",
      "        None :  -Inf : v[temp,0,9] - (-0.221233384842*x[col2] + 6.3041527043244905*x[col17] + 2.3963733156583253*x[col4] + 5.433066100776809*x[col6] + 2.097077950770232*x[col14] + 0.35284688784317125*x[col15] + 0.3945591088351153*x[col1] - 0.5169005686651523*x[col5] + 1.8555832442875155*x[col18] - 1.0780921091018951*x[col10] + 0.8377684861263963*x[col16] + 5.642840154786701*x[col8] + 5.6643627178743525*x[col13] - 0.18155390858472065*x[col9] + 5.931646706726523*x[col11] + 0.4269066247373813*x[col3] + 0.1259008665548141*x[col0] + 4.064344901952127*x[col7] + 1.5542245833745043*x[col19] + 0.03450190673401631*x[col12] - 0.3424849802629838 + 100000.0*(1 - v_ind[temp,0,9])) :   0.0 :   True\n",
      "\n",
      "41 Declarations: x_index x Constraint1_index Constraint1 OBJ y l y_viol v v_ind constraint_1_0temp constraint_2_0temp constraint_3_0temp constraint_1_1temp constraint_2_1temp constraint_3_1temp constraint_1_2temp constraint_2_2temp constraint_3_2temp constraint_1_3temp constraint_2_3temp constraint_3_3temp constraint_1_4temp constraint_2_4temp constraint_3_4temp constraint_1_5temp constraint_2_5temp constraint_3_5temp constraint_1_6temp constraint_2_6temp constraint_3_6temp constraint_1_7temp constraint_2_7temp constraint_3_7temp constraint_1_8temp constraint_2_8temp constraint_3_8temp constraint_1_9temp constraint_2_9temp constraint_3_9temp MLPtemp\n"
     ]
    }
   ],
   "source": [
    "final_model.pprint()"
   ]
  },
  {
   "cell_type": "code",
   "execution_count": null,
   "metadata": {},
   "outputs": [],
   "source": [
    "opt = SolverFactory('gurobi')\n",
    "results = opt.solve(final_model) "
   ]
  },
  {
   "cell_type": "code",
   "execution_count": 34,
   "metadata": {},
   "outputs": [
    {
     "data": {
      "text/plain": [
       "231.03123109014757"
      ]
     },
     "execution_count": 34,
     "metadata": {},
     "output_type": "execute_result"
    }
   ],
   "source": [
    "value(final_model.y['temp'])"
   ]
  },
  {
   "cell_type": "markdown",
   "metadata": {},
   "source": [
    "### Check for equality between sklearn and embedded model"
   ]
  },
  {
   "cell_type": "code",
   "execution_count": 11,
   "metadata": {},
   "outputs": [
    {
     "data": {
      "text/plain": [
       "True"
      ]
     },
     "execution_count": 11,
     "metadata": {},
     "output_type": "execute_result"
    }
   ],
   "source": [
    "math.isclose(model.ObjVal,m.predict(sample)[0],abs_tol=1e-5)"
   ]
  },
  {
   "cell_type": "code",
   "execution_count": null,
   "metadata": {},
   "outputs": [],
   "source": []
  }
 ],
 "metadata": {
  "@webio": {
   "lastCommId": null,
   "lastKernelId": null
  },
  "kernelspec": {
   "display_name": "Python 3",
   "language": "python",
   "name": "python3"
  },
  "language_info": {
   "codemirror_mode": {
    "name": "ipython",
    "version": 3
   },
   "file_extension": ".py",
   "mimetype": "text/x-python",
   "name": "python",
   "nbconvert_exporter": "python",
   "pygments_lexer": "ipython3",
   "version": "3.7.4"
  }
 },
 "nbformat": 4,
 "nbformat_minor": 4
}
