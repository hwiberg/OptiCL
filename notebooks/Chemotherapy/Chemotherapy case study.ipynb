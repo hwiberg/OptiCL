{
 "cells": [
  {
   "cell_type": "code",
   "execution_count": 3,
   "metadata": {},
   "outputs": [],
   "source": [
    "import pandas as pd\n",
    "import numpy as np\n",
    "import time\n",
    "import sys\n",
    "import os\n",
    "import opticl\n",
    "import utils_gastric as gi\n",
    "\n",
    "# Optimization modelling\n",
    "from pyomso import environ\n",
    "from pyomo.environ import *\n",
    "\n",
    "import warnings\n",
    "warnings.filterwarnings(\"ignore\", category=UserWarning)"
   ]
  },
  {
   "cell_type": "markdown",
   "metadata": {},
   "source": [
    "## Data loading"
   ]
  },
  {
   "cell_type": "markdown",
   "metadata": {},
   "source": [
    "Load ```tox_summary```, which reports quantiles for various toxicities as candidate upper bounds"
   ]
  },
  {
   "cell_type": "code",
   "execution_count": 4,
   "metadata": {},
   "outputs": [],
   "source": [
    "tox_summary = pd.read_csv('processed-data/gastric_toxicity_summary.csv')\n",
    "tox_summary.set_index('outcome', inplace = True)"
   ]
  },
  {
   "cell_type": "markdown",
   "metadata": {},
   "source": [
    "Load training and testing datasets for each outcome. Note that in this case, the training data (X) is the same for all outcomes, but our framework is generic to independent training sets. Thus, we load each as a separate file for this example."
   ]
  },
  {
   "cell_type": "code",
   "execution_count": 5,
   "metadata": {},
   "outputs": [],
   "source": [
    "outcomes = gi.outcomes\n",
    "datasets_train = {}\n",
    "datasets_test = {}\n",
    "\n",
    "# Training datasets\n",
    "for o in outcomes:\n",
    "    data = pd.read_csv(f'processed-data/data_train_{o}.csv')\n",
    "    y = data[o]\n",
    "    X = data.drop([o], inplace=False, axis=1)\n",
    "    datasets_train[o] = (X, y)\n",
    "    \n",
    "# Testing datasets\n",
    "for o in outcomes:\n",
    "    data = pd.read_csv(f'processed-data/data_test_{o}.csv')\n",
    "    y = data[o]\n",
    "    X = data.drop([o], inplace=False, axis=1)\n",
    "    datasets_test[o] = (X, y)"
   ]
  },
  {
   "cell_type": "markdown",
   "metadata": {},
   "source": [
    "## Specify the outcomes and relevant parameters for ML training + optimization\n",
    "```outcome_list``` is a dictionary where each key is an outcome, and each value is a dictionary corresponding to that outcome. The outcome-specific dictionary specifies relevant parameters and data for (1) ML model training and (2) the final optimization problem."
   ]
  },
  {
   "cell_type": "code",
   "execution_count": 40,
   "metadata": {},
   "outputs": [],
   "source": [
    "# Outcome list\n",
    "outcomes = gi.outcomes\n",
    "\n",
    "## ML training parameters: \n",
    "# specify models to consider, and optionally specify a grid to search over in CV (if None, will use default grid)\n",
    "alg_dict = {'cart': None, 'linear':None, 'rf': None}\n",
    "# specify whether we train a single model (bs = 0) or bootstrapped models (bs >= 1) for the outcome\n",
    "bs = 0\n",
    "# if training multiple models, select the single best (gr = False) or group together as an ensemble (gr = True)\n",
    "gr=False\n",
    "# if grouping an ensemble, specify proportion that can violate (or \"average\" to constrain mean)\n",
    "viol_rule = 0.5"
   ]
  },
  {
   "cell_type": "markdown",
   "metadata": {},
   "source": [
    "Add all constraint outcomes to dictionary. For each toxicity, we want to enforce that the toxicity is below a certain quantile of the toxicities observed in the data (which we loaded in tox_summary). Here, we select the 70th percentile, givenin column ```quantile_0.7```.\n",
    "\n",
    "We also specify the training and testing data for ML model training as well as reporting test set metrics. dataset_path specifies the data that will be used to define the trust region in the downstream optimization task."
   ]
  },
  {
   "cell_type": "code",
   "execution_count": 41,
   "metadata": {},
   "outputs": [],
   "source": [
    "constraints_embed = gi.outcomes[:-1]\n",
    "ub_quantile = 'quantile_0.7'\n",
    "\n",
    "outcome_list = {outcome: {'lb':None, 'ub':tox_summary.loc[outcome,ub_quantile],\n",
    "                          'objective_weight':0,'group_models':gr,\n",
    "                        'task_type': 'continuous', 'alg_list':alg_dict, 'bootstrap_iterations':bs,\n",
    "                        'X_train':datasets_train[outcome][0], 'y_train':datasets_train[outcome][1], \n",
    "                          'X_test':datasets_test[outcome][0], 'y_test':datasets_test[outcome][1],\n",
    "                        'dataset_path': f'processed-data/data_train_{outcome}.csv'} \n",
    "                for outcome in constraints_embed}"
   ]
  },
  {
   "cell_type": "markdown",
   "metadata": {},
   "source": [
    "Add the objective outcome to dictionary. In this case, the only outcome that we are seeking to optimize is overall survival (OS). We want to maximize survival; since the optimization formulation assumes that the objective will be minimized, we set the weight to -1.\n",
    "\n",
    "We similarly specify the training and testing sets and the trust region dataset path."
   ]
  },
  {
   "cell_type": "code",
   "execution_count": 42,
   "metadata": {},
   "outputs": [],
   "source": [
    "outcome_list['OS'] = {'lb':None, 'ub':None, \n",
    "                      'objective_weight':-1,'group_models':gr,\n",
    "                        'task_type': 'continuous', 'alg_list':alg_dict, 'bootstrap_iterations':bs,\n",
    "                       'X_train':datasets_train['OS'][0], 'y_train':datasets_train['OS'][1], \n",
    "                      'X_test':datasets_test['OS'][0], 'y_test':datasets_test['OS'][1],\n",
    "                       'dataset_path':'processed-data/data_train_OS.csv'}"
   ]
  },
  {
   "cell_type": "code",
   "execution_count": 43,
   "metadata": {},
   "outputs": [
    {
     "name": "stdout",
     "output_type": "stream",
     "text": [
      "Algorithms = {'cart': None, 'linear': None, 'rf': None}\n",
      "Bootstrap iterations = 0\n",
      "Violation rule = 0.5\n"
     ]
    }
   ],
   "source": [
    "print(\"Algorithms = %s\" % alg_dict)\n",
    "print(\"Bootstrap iterations = %d\" % bs)\n",
    "print(\"Violation rule = %s\" % str(viol_rule))\n",
    "code_version = 'AAAI-23_CHEMOexample'\n",
    "\n",
    "version = 'vAAAI-23_CHEMOexample'"
   ]
  },
  {
   "cell_type": "markdown",
   "metadata": {},
   "source": [
    "## Train candidate ML models and select models to embed "
   ]
  },
  {
   "cell_type": "code",
   "execution_count": 44,
   "metadata": {
    "scrolled": true
   },
   "outputs": [
    {
     "name": "stdout",
     "output_type": "stream",
     "text": [
      "Learning a model for Neutro4\n",
      "No bootstrap - training on full training data\n",
      "training Neutro4 with cart\n",
      "------------- Initialize grid  ----------------\n",
      "------------- Running model  ----------------\n",
      "Algorithm = cart, metric = None\n",
      "saving... results/cart_Neutro4_trained.pkl\n",
      "------------- Model evaluation  ----------------\n",
      "-------------------training evaluation-----------------------\n",
      "Train MSE: 0.0200432326421685\n",
      "Train R2: 0.3021467451768366\n",
      "-------------------testing evaluation-----------------------\n",
      "Test MSE: 0.019041832379617617\n",
      "Test R2: -0.27527754538206173\n",
      "\n",
      "training Neutro4 with linear\n",
      "------------- Initialize grid  ----------------\n",
      "------------- Running model  ----------------\n",
      "Algorithm = linear, metric = None\n",
      "saving... results/linear_Neutro4_trained.pkl\n",
      "------------- Model evaluation  ----------------\n",
      "-------------------training evaluation-----------------------\n",
      "Train MSE: 0.02150490628718667\n",
      "Train R2: 0.251255068725447\n",
      "-------------------testing evaluation-----------------------\n",
      "Test MSE: 0.010468936836548906\n",
      "Test R2: 0.29886999289182714\n",
      "\n",
      "training Neutro4 with rf\n",
      "------------- Initialize grid  ----------------\n",
      "------------- Running model  ----------------\n",
      "Algorithm = rf_shallow, metric = None\n",
      "saving... results/rf_shallow_Neutro4_trained.pkl\n",
      "------------- Model evaluation  ----------------\n",
      "-------------------training evaluation-----------------------\n",
      "Train MSE: 0.008644331282212685\n",
      "Train R2: 0.699026857156254\n",
      "-------------------testing evaluation-----------------------\n",
      "Test MSE: 0.013909708286150567\n",
      "Test R2: 0.06843321133683689\n",
      "\n",
      "Learning a model for OTHER_34\n",
      "No bootstrap - training on full training data\n",
      "training OTHER_34 with cart\n",
      "------------- Initialize grid  ----------------\n",
      "------------- Running model  ----------------\n",
      "Algorithm = cart, metric = None\n",
      "saving... results/cart_OTHER_34_trained.pkl\n",
      "------------- Model evaluation  ----------------\n",
      "-------------------training evaluation-----------------------\n",
      "Train MSE: 0.0005458978203869483\n",
      "Train R2: 0.32648296842815094\n",
      "-------------------testing evaluation-----------------------\n",
      "Test MSE: 0.001372087818685206\n",
      "Test R2: -0.03647457853835068\n",
      "\n",
      "training OTHER_34 with linear\n",
      "------------- Initialize grid  ----------------\n",
      "------------- Running model  ----------------\n",
      "Algorithm = linear, metric = None\n",
      "saving... results/linear_OTHER_34_trained.pkl\n",
      "------------- Model evaluation  ----------------\n",
      "-------------------training evaluation-----------------------\n",
      "Train MSE: 0.0007181500983827528\n",
      "Train R2: 0.11396179940243745\n",
      "-------------------testing evaluation-----------------------\n",
      "Test MSE: 0.0012392653246078114\n",
      "Test R2: 0.06385947930730429\n",
      "\n",
      "training OTHER_34 with rf\n",
      "------------- Initialize grid  ----------------\n",
      "------------- Running model  ----------------\n",
      "Algorithm = rf_shallow, metric = None\n",
      "saving... results/rf_shallow_OTHER_34_trained.pkl\n",
      "------------- Model evaluation  ----------------\n",
      "-------------------training evaluation-----------------------\n",
      "Train MSE: 0.00029283409736989\n",
      "Train R2: 0.63870756643837\n",
      "-------------------testing evaluation-----------------------\n",
      "Test MSE: 0.001192332927194185\n",
      "Test R2: 0.09931219316908602\n",
      "\n",
      "Learning a model for GINONV_34\n",
      "No bootstrap - training on full training data\n",
      "training GINONV_34 with cart\n",
      "------------- Initialize grid  ----------------\n",
      "------------- Running model  ----------------\n",
      "Algorithm = cart, metric = None\n",
      "saving... results/cart_GINONV_34_trained.pkl\n",
      "------------- Model evaluation  ----------------\n",
      "-------------------training evaluation-----------------------\n",
      "Train MSE: 0.003570372100539148\n",
      "Train R2: 0.3708147217491077\n",
      "-------------------testing evaluation-----------------------\n",
      "Test MSE: 0.00747259997732989\n",
      "Test R2: -0.010506037902876297\n",
      "\n",
      "training GINONV_34 with linear\n",
      "------------- Initialize grid  ----------------\n",
      "------------- Running model  ----------------\n",
      "Algorithm = linear, metric = None\n",
      "saving... results/linear_GINONV_34_trained.pkl\n",
      "------------- Model evaluation  ----------------\n",
      "-------------------training evaluation-----------------------\n",
      "Train MSE: 0.0040570920376572514\n",
      "Train R2: 0.2850429841143477\n",
      "-------------------testing evaluation-----------------------\n",
      "Test MSE: 0.005834965634277022\n",
      "Test R2: 0.21094826134402944\n",
      "\n",
      "training GINONV_34 with rf\n",
      "------------- Initialize grid  ----------------\n",
      "------------- Running model  ----------------\n",
      "Algorithm = rf_shallow, metric = None\n",
      "saving... results/rf_shallow_GINONV_34_trained.pkl\n",
      "------------- Model evaluation  ----------------\n",
      "-------------------training evaluation-----------------------\n",
      "Train MSE: 0.002718863219937887\n",
      "Train R2: 0.520871028735516\n",
      "-------------------testing evaluation-----------------------\n",
      "Test MSE: 0.005472237611392356\n",
      "Test R2: 0.25999930895175904\n",
      "\n",
      "Learning a model for CONSTITUTIONAL_34\n",
      "No bootstrap - training on full training data\n",
      "training CONSTITUTIONAL_34 with cart\n",
      "------------- Initialize grid  ----------------\n",
      "------------- Running model  ----------------\n",
      "Algorithm = cart, metric = None\n",
      "saving... results/cart_CONSTITUTIONAL_34_trained.pkl\n",
      "------------- Model evaluation  ----------------\n",
      "-------------------training evaluation-----------------------\n",
      "Train MSE: 0.00412072092359786\n",
      "Train R2: 0.3285378753035809\n",
      "-------------------testing evaluation-----------------------\n",
      "Test MSE: 0.004672793752111623\n",
      "Test R2: 0.09240001827853905\n",
      "\n",
      "training CONSTITUTIONAL_34 with linear\n",
      "------------- Initialize grid  ----------------\n",
      "------------- Running model  ----------------\n",
      "Algorithm = linear, metric = None\n",
      "saving... results/linear_CONSTITUTIONAL_34_trained.pkl\n",
      "------------- Model evaluation  ----------------\n",
      "-------------------training evaluation-----------------------\n",
      "Train MSE: 0.006136937247891557\n",
      "Train R2: -2.220446049250313e-16\n",
      "-------------------testing evaluation-----------------------\n",
      "Test MSE: 0.005148516798390247\n",
      "Test R2: 0.0\n",
      "\n",
      "training CONSTITUTIONAL_34 with rf\n",
      "------------- Initialize grid  ----------------\n",
      "------------- Running model  ----------------\n",
      "Algorithm = rf_shallow, metric = None\n",
      "saving... results/rf_shallow_CONSTITUTIONAL_34_trained.pkl\n",
      "------------- Model evaluation  ----------------\n",
      "-------------------training evaluation-----------------------\n",
      "Train MSE: 0.004003596640796081\n",
      "Train R2: 0.3476230114343143\n",
      "-------------------testing evaluation-----------------------\n",
      "Test MSE: 0.0050072633105977425\n",
      "Test R2: 0.0274357632156641\n",
      "\n",
      "Learning a model for INFECTION_34\n",
      "No bootstrap - training on full training data\n",
      "training INFECTION_34 with cart\n",
      "------------- Initialize grid  ----------------\n",
      "------------- Running model  ----------------\n",
      "Algorithm = cart, metric = None\n",
      "saving... results/cart_INFECTION_34_trained.pkl\n",
      "------------- Model evaluation  ----------------\n",
      "-------------------training evaluation-----------------------\n",
      "Train MSE: 0.004538324446858574\n",
      "Train R2: 0.40135738098223295\n",
      "-------------------testing evaluation-----------------------\n",
      "Test MSE: 0.004652441232304495\n",
      "Test R2: -0.5993911138495682\n",
      "\n",
      "training INFECTION_34 with linear\n",
      "------------- Initialize grid  ----------------\n",
      "------------- Running model  ----------------\n",
      "Algorithm = linear, metric = None\n",
      "saving... results/linear_INFECTION_34_trained.pkl\n",
      "------------- Model evaluation  ----------------\n",
      "-------------------training evaluation-----------------------\n",
      "Train MSE: 0.006790602990095868\n",
      "Train R2: 0.10426316886295761\n",
      "-------------------testing evaluation-----------------------\n",
      "Test MSE: 0.0025863956246243583\n",
      "Test R2: 0.11086288415628409\n",
      "\n",
      "training INFECTION_34 with rf\n",
      "------------- Initialize grid  ----------------\n",
      "------------- Running model  ----------------\n",
      "Algorithm = rf_shallow, metric = None\n",
      "saving... results/rf_shallow_INFECTION_34_trained.pkl\n",
      "------------- Model evaluation  ----------------\n",
      "-------------------training evaluation-----------------------\n",
      "Train MSE: 0.0025581255505708654\n",
      "Train R2: 0.6625620320226231\n",
      "-------------------testing evaluation-----------------------\n",
      "Test MSE: 0.0036096248058588415\n",
      "Test R2: -0.24089731617350552\n",
      "\n",
      "Learning a model for DLT_PROP\n",
      "No bootstrap - training on full training data\n",
      "training DLT_PROP with cart\n",
      "------------- Initialize grid  ----------------\n",
      "------------- Running model  ----------------\n",
      "Algorithm = cart, metric = None\n",
      "saving... results/cart_DLT_PROP_trained.pkl\n",
      "------------- Model evaluation  ----------------\n",
      "-------------------training evaluation-----------------------\n",
      "Train MSE: 0.018582523885505287\n",
      "Train R2: 0.36334158748639156\n",
      "-------------------testing evaluation-----------------------\n",
      "Test MSE: 0.023935386829786846\n",
      "Test R2: 0.2723729839977369\n",
      "\n",
      "training DLT_PROP with linear\n",
      "------------- Initialize grid  ----------------\n",
      "------------- Running model  ----------------\n",
      "Algorithm = linear, metric = None\n"
     ]
    },
    {
     "name": "stdout",
     "output_type": "stream",
     "text": [
      "saving... results/linear_DLT_PROP_trained.pkl\n",
      "------------- Model evaluation  ----------------\n",
      "-------------------training evaluation-----------------------\n",
      "Train MSE: 0.024609788630514644\n",
      "Train R2: 0.1568406391760241\n",
      "-------------------testing evaluation-----------------------\n",
      "Test MSE: 0.02830775991392976\n",
      "Test R2: 0.13945443947251135\n",
      "\n",
      "training DLT_PROP with rf\n",
      "------------- Initialize grid  ----------------\n",
      "------------- Running model  ----------------\n",
      "Algorithm = rf_shallow, metric = None\n",
      "saving... results/rf_shallow_DLT_PROP_trained.pkl\n",
      "------------- Model evaluation  ----------------\n",
      "-------------------training evaluation-----------------------\n",
      "Train MSE: 0.013322680881295186\n",
      "Train R2: 0.5435497937432003\n",
      "-------------------testing evaluation-----------------------\n",
      "Test MSE: 0.025273454578621846\n",
      "Test R2: 0.23169621323078016\n",
      "\n",
      "Learning a model for OS\n",
      "No bootstrap - training on full training data\n",
      "training OS with cart\n",
      "------------- Initialize grid  ----------------\n",
      "------------- Running model  ----------------\n",
      "Algorithm = cart, metric = None\n",
      "saving... results/cart_OS_trained.pkl\n",
      "------------- Model evaluation  ----------------\n",
      "-------------------training evaluation-----------------------\n",
      "Train MSE: 2.677540495706479\n",
      "Train R2: 0.6245307850448949\n",
      "-------------------testing evaluation-----------------------\n",
      "Test MSE: 14.39376716117995\n",
      "Test R2: 0.2610949348332674\n",
      "\n",
      "training OS with linear\n",
      "------------- Initialize grid  ----------------\n",
      "------------- Running model  ----------------\n",
      "Algorithm = linear, metric = None\n",
      "saving... results/linear_OS_trained.pkl\n",
      "------------- Model evaluation  ----------------\n",
      "-------------------training evaluation-----------------------\n",
      "Train MSE: 3.975810409525943\n",
      "Train R2: 0.44247550478927067\n",
      "-------------------testing evaluation-----------------------\n",
      "Test MSE: 12.836334118654724\n",
      "Test R2: 0.3410458712971851\n",
      "\n",
      "training OS with rf\n",
      "------------- Initialize grid  ----------------\n",
      "------------- Running model  ----------------\n",
      "Algorithm = rf_shallow, metric = None\n",
      "saving... results/rf_shallow_OS_trained.pkl\n",
      "------------- Model evaluation  ----------------\n",
      "-------------------training evaluation-----------------------\n",
      "Train MSE: 2.5598351472863423\n",
      "Train R2: 0.641036505439486\n",
      "-------------------testing evaluation-----------------------\n",
      "Test MSE: 13.488176012634048\n",
      "Test R2: 0.3075835211177125\n",
      "\n",
      "Saving the performance...\n",
      "Done!\n",
      "\n",
      "Preparing model master\n",
      "Group method = violation (violation limit = 0.50)\n"
     ]
    }
   ],
   "source": [
    "performance = opticl.train_ml_models(outcome_list, version)\n",
    "if not os.path.exists('results'):\n",
    "    os.makedirs('results')\n",
    "performance.to_csv('results/%s_performance.csv' % (code_version))\n",
    "# performance = pd.read_csv('results/%s_performance.csv' % (code_version))\n",
    "\n",
    "print(\"\\nPreparing model master\")\n",
    "if viol_rule == 'average':\n",
    "    gr_method = 'average'\n",
    "    max_viol = None\n",
    "    print(\"Group method = %s\" % (gr_method))\n",
    "    gr_string = 'average'\n",
    "else: \n",
    "    gr_method = 'violation'\n",
    "    max_viol = float(viol_rule)\n",
    "    print(\"Group method = %s (violation limit = %.2f)\" % (gr_method, max_viol))\n",
    "    gr_string = 'violation_%.2f' % max_viol"
   ]
  },
  {
   "cell_type": "markdown",
   "metadata": {},
   "source": [
    "You can optionally inspect the individual models, saved as pickle files. For example, here we look at the linear Neutropenia model."
   ]
  },
  {
   "cell_type": "code",
   "execution_count": 45,
   "metadata": {},
   "outputs": [
    {
     "data": {
      "text/plain": [
       "array([0.09976899, 0.10513361, 0.11800877, 0.11800877, 0.1753539 ,\n",
       "       0.2175087 ])"
      ]
     },
     "execution_count": 45,
     "metadata": {},
     "output_type": "execute_result"
    }
   ],
   "source": [
    "import pickle as pkl\n",
    "outcome = 'Neutro4'\n",
    "model_path = 'results/linear_%s_trained.pkl' % outcome\n",
    "with open(model_path, \"rb\") as input_file:\n",
    "    m = pkl.load(input_file)\n",
    "\n",
    "# Generate predictions for the first 5 patients in the test set\n",
    "m.predict(datasets_test[outcome][0].loc[0:5, :])"
   ]
  },
  {
   "cell_type": "markdown",
   "metadata": {},
   "source": [
    "## Formulate + solve optimization problem"
   ]
  },
  {
   "cell_type": "markdown",
   "metadata": {},
   "source": [
    "Define the basic conceptual model for the chemo optimization problem, without embedded constraints and objective terms."
   ]
  },
  {
   "cell_type": "code",
   "execution_count": 46,
   "metadata": {},
   "outputs": [],
   "source": [
    "def init_conceptual_model(pt, contex_vars):\n",
    "    model = ConcreteModel('chemo')\n",
    "\n",
    "    N = list(pt.keys())\n",
    "    ########### STEP 1: Define Decision Variables ###########\n",
    "    # Create x variable, and initialize empty y for outcome values\n",
    "    model.x = Var(N,domain=NonNegativeReals)\n",
    "\n",
    "    # Restrict some x to be binary\n",
    "    x_binary = [i for i in N if '_Ind' in i]\n",
    "    for i in x_binary:\n",
    "        model.x[i].domain = Binary\n",
    "\n",
    "    ########### STEP 2: Define Objective function ###########\n",
    "        def obj_function(model):\n",
    "            return 0\n",
    "    model.OBJ = Objective(rule=obj_function, sense=minimize)\n",
    "\n",
    "    ###### STEP 3: Add (optionally) any known constraints #####\n",
    "    def constraint_rule1(model):\n",
    "        return sum(model.x[i] for i in x_binary) <= 3\n",
    "    model.Constraint1 = Constraint(rule=constraint_rule1)\n",
    "    \n",
    "    ###### STEP 4: Fix (optionally) any non-optimization variables #####\n",
    "    def constraint_rule2(model, i):\n",
    "        return model.x[i] == pt[i]\n",
    "    model.Constraint2 = Constraint(contex_vars, rule=constraint_rule2)\n",
    "\n",
    "    return model"
   ]
  },
  {
   "cell_type": "markdown",
   "metadata": {},
   "source": [
    "Select a test sample to optimize (i.e. a cohort of patients treated in 2008 or later), given as a row number of the test set."
   ]
  },
  {
   "cell_type": "code",
   "execution_count": 74,
   "metadata": {
    "scrolled": true
   },
   "outputs": [
    {
     "name": "stdout",
     "output_type": "stream",
     "text": [
      "\n",
      "Patient 5\n"
     ]
    }
   ],
   "source": [
    "patient_ID = 5 # 2\n",
    "print(\"\\nPatient %d\" % patient_ID)"
   ]
  },
  {
   "cell_type": "markdown",
   "metadata": {},
   "source": [
    "Specify **global** trust region data and clustering model (if relevant). This will force the solution to lie within the convex hull of the datapoints given in 'data'. It will only enforce the convex hull condition on the features that appear in 'data': features not in the trust region dataset will not be constrained by the convex hull. \n",
    "\n",
    "In this case, we enforce the trust region *only* on the treatment features. We do not apply it to the contextual features."
   ]
  },
  {
   "cell_type": "code",
   "execution_count": 68,
   "metadata": {},
   "outputs": [],
   "source": [
    "tr_data = datasets_train['OS'][0][[i for i in gi.T_cols if i in features]]\n",
    "trust_region_specs = {'data': tr_data,\n",
    "                      'clustering_model':None,\n",
    "                      'enlargement':[0]}"
   ]
  },
  {
   "cell_type": "markdown",
   "metadata": {},
   "source": [
    "Pull the test sample's data and define model master. If the outcome models are not grouped (i.e., not ensemble), we use the validation metrics from the cross-validation training procedure to select the best model for each outcome. Otherwise, all models will be used."
   ]
  },
  {
   "cell_type": "code",
   "execution_count": 69,
   "metadata": {},
   "outputs": [],
   "source": [
    "pt = datasets_test['OS'][0].loc[patient_ID, :]\n",
    "features = pt.keys()\n",
    "\n",
    "var_fts = [i for i in gi.T_cols if i in features]\n",
    "context_fts = [i for i in gi.X_cols if i in features]"
   ]
  },
  {
   "cell_type": "code",
   "execution_count": 70,
   "metadata": {
    "scrolled": true
   },
   "outputs": [],
   "source": [
    "mm = opticl.initialize_model_master(outcome_list)\n",
    "mm.loc[outcomes,'group_method'] = gr_method\n",
    "mm.loc[outcomes,'max_violation'] = max_viol\n",
    "mm.loc[outcomes, 'trust_region'] = False\n",
    "mm.loc[outcomes, 'var_features'] = [var_fts]\n",
    "mm.loc[outcomes, 'contex_features'] = [{i:pt[i] for i in context_fts}]\n",
    "model_master = opticl.model_selection(mm, performance)"
   ]
  },
  {
   "cell_type": "markdown",
   "metadata": {},
   "source": [
    "Formulate the model and solve!"
   ]
  },
  {
   "cell_type": "code",
   "execution_count": 71,
   "metadata": {},
   "outputs": [
    {
     "name": "stdout",
     "output_type": "stream",
     "text": [
      "Generating constraints for the trust region using 122 samples.\n",
      "... Trust region defined.\n",
      "Embedding constraints for Neutro4\n",
      "Adding single model.\n",
      "Embedding constraints for OTHER_34\n",
      "Adding single model.\n",
      "Embedding constraints for GINONV_34\n",
      "Adding single model.\n",
      "Embedding constraints for CONSTITUTIONAL_34\n",
      "Adding single model.\n",
      "Embedding constraints for INFECTION_34\n",
      "Adding single model.\n",
      "Embedding constraints for DLT_PROP\n",
      "Adding single model.\n",
      "Embedding objective function for OS\n",
      "Adding single model.\n",
      "Solving...\n",
      "Done!\n",
      "optimal\n"
     ]
    }
   ],
   "source": [
    "conceptual_model = init_conceptual_model(pt, [i for i in gi.X_cols if i in pt.keys()])\n",
    "final_model = opticl.optimization_MIP(conceptual_model, model_master, trust_region_specs)\n",
    "opt = SolverFactory('glpk')\n",
    "print('Solving...')\n",
    "results = opt.solve(final_model) \n",
    "print('Done!')\n",
    "print(results.solver.termination_condition)"
   ]
  },
  {
   "cell_type": "markdown",
   "metadata": {},
   "source": [
    "## Inspect the solution"
   ]
  },
  {
   "cell_type": "markdown",
   "metadata": {},
   "source": [
    "What were the contextual features of this patient?"
   ]
  },
  {
   "cell_type": "code",
   "execution_count": 72,
   "metadata": {},
   "outputs": [
    {
     "name": "stdout",
     "output_type": "stream",
     "text": [
      "Asia: 1.000\n",
      "N_Patient: 14.000\n",
      "FRAC_MALE: 0.500\n",
      "AGE_MED: 45.900\n",
      "Prior_Palliative_Chemo: 0.000\n",
      "Primary_Stomach: 1.000\n",
      "Primary_GEJ: 0.000\n",
      "ECOG_MEAN: 0.905\n"
     ]
    }
   ],
   "source": [
    "for i in context_fts:\n",
    "    val = value(final_model.x[i])\n",
    "    print(\"%s: %.3f\" % (i, val))"
   ]
  },
  {
   "cell_type": "markdown",
   "metadata": {},
   "source": [
    "What drugs are recommended, and in what doses (average and instantaneous)?"
   ]
  },
  {
   "cell_type": "code",
   "execution_count": 73,
   "metadata": {
    "scrolled": true
   },
   "outputs": [
    {
     "name": "stdout",
     "output_type": "stream",
     "text": [
      "Fluorouracil_Ind: 1.000\n",
      "Leucovorin_Ind: 1.000\n",
      "Paclitaxel_Ind: 1.000\n",
      "Fluorouracil_Avg: 1500.000\n",
      "Leucovorin_Avg: 375.000\n",
      "Paclitaxel_Avg: 43.750\n",
      "Fluorouracil_Inst: 2000.000\n",
      "Leucovorin_Inst: 500.000\n",
      "Paclitaxel_Inst: 175.000\n"
     ]
    }
   ],
   "source": [
    "for i in var_fts:\n",
    "    val = value(final_model.x[i])\n",
    "    if val > 1e-6:\n",
    "        print(\"%s: %.3f\" % (i, val))"
   ]
  },
  {
   "cell_type": "code",
   "execution_count": 75,
   "metadata": {},
   "outputs": [],
   "source": [
    "## What is the predicted value of each toxicity and objective?"
   ]
  },
  {
   "cell_type": "code",
   "execution_count": 76,
   "metadata": {},
   "outputs": [
    {
     "name": "stdout",
     "output_type": "stream",
     "text": [
      "Neutro4: 0.079 (limit = 0.150)\n",
      "OTHER_34: 0.091 (limit = 0.101)\n",
      "GINONV_34: 0.020 (limit = 0.106)\n",
      "CONSTITUTIONAL_34: 0.060 (limit = 0.082)\n",
      "INFECTION_34: 0.048 (limit = 0.075)\n",
      "DLT_PROP: 0.527 (limit = 0.637)\n",
      "OS: 11.306\n"
     ]
    }
   ],
   "source": [
    "for i in outcome_list:\n",
    "    val = value(final_model.y[i])\n",
    "    try: # print constraints\n",
    "        print(\"%s: %.3f (limit = %.3f)\" % (i, val, tox_summary.loc[i,ub_quantile]))\n",
    "    except: # no bound for objective\n",
    "        print(\"%s: %.3f\" % (i, val))"
   ]
  }
 ],
 "metadata": {
  "@webio": {
   "lastCommId": null,
   "lastKernelId": null
  },
  "kernelspec": {
   "display_name": "Python 3 (ipykernel)",
   "language": "python",
   "name": "python3"
  },
  "language_info": {
   "codemirror_mode": {
    "name": "ipython",
    "version": 3
   },
   "file_extension": ".py",
   "mimetype": "text/x-python",
   "name": "python",
   "nbconvert_exporter": "python",
   "pygments_lexer": "ipython3",
   "version": "3.7.4"
  }
 },
 "nbformat": 4,
 "nbformat_minor": 5
}
