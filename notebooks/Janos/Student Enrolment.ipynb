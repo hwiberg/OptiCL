{
 "cells": [
  {
   "cell_type": "code",
   "execution_count": 16,
   "id": "4c48e4e2",
   "metadata": {},
   "outputs": [],
   "source": [
    "import pandas as pd\n",
    "import numpy as np\n",
    "from sklearn.preprocessing import MinMaxScaler\n",
    "from sklearn.model_selection import train_test_split\n",
    "#import math\n",
    "import opticl\n",
    "import os\n",
    "from pyomo import environ\n",
    "from pyomo.environ import *\n",
    "from imp import reload\n",
    "import embed_mip as em\n",
    "import math"
   ]
  },
  {
   "cell_type": "markdown",
   "id": "d73eb60b",
   "metadata": {},
   "source": [
    "# NOTE: \n",
    "There is a difference in approach between OptiCL and JANOS in that we are learning constraints, while JANOS is predicting and optimizing variables.\n",
    "\n",
    "We will proceed as if learning a constraint or the objective function. We will therefore not be using `college_applications6000` data."
   ]
  },
  {
   "cell_type": "markdown",
   "id": "5c28d763",
   "metadata": {},
   "source": [
    "# Step 1: Setup Optimization Problem"
   ]
  },
  {
   "cell_type": "code",
   "execution_count": 2,
   "id": "2e815e95",
   "metadata": {},
   "outputs": [],
   "source": [
    "\"\"\"\n",
    "Model constants\n",
    "\"\"\"\n",
    "scholarships = [0, 2.5]  # lower and upper bound of the scholarship\n",
    "#n_simulations = 5\n",
    "#student_sizes = [50, 100, 500, 1000]\n",
    "\n",
    "student_size = 100\n",
    "n_applications = student_size\n",
    "BUDGET = int(0.2 * n_applications)\n"
   ]
  },
  {
   "cell_type": "code",
   "execution_count": 89,
   "id": "8d5bb985",
   "metadata": {},
   "outputs": [],
   "source": [
    "def init_conceptual_model():\n",
    "    model = ConcreteModel('StudentEnroll')\n",
    "    \n",
    "    '''\n",
    "    Decision variables\n",
    "    '''\n",
    "    N = range(n_applications)   # number of applications\n",
    "    model.x = Var(['merit'], domain = NonNegativeReals, bounds = (0, 2.5))  # the data is scaled so the max should be 1 and not 2.5\n",
    "    \n",
    "    \n",
    "    '''\n",
    "    Objective function\n",
    "    '''\n",
    "    def obj_function(model):\n",
    "        return 0\n",
    "    \n",
    "    model.OBJ = Objective(rule = obj_function, sense=maximize)    \n",
    "    \n",
    "    '''\n",
    "    Constraints\n",
    "    '''    \n",
    "    # 1. Budget constraint\n",
    "    def budget_constraint(model):\n",
    "        return sum(model.x[i] for i in ['merit']) <= 1\n",
    "    \n",
    "    model.constraint1 = Constraint(rule = budget_constraint)\n",
    "    \n",
    "\n",
    "    return model   \n",
    "   "
   ]
  },
  {
   "cell_type": "markdown",
   "id": "d1f8587f",
   "metadata": {},
   "source": [
    "# Step 2: Data Processing"
   ]
  },
  {
   "cell_type": "code",
   "execution_count": 90,
   "id": "1087a781",
   "metadata": {},
   "outputs": [
    {
     "data": {
      "text/html": [
       "<div>\n",
       "<style scoped>\n",
       "    .dataframe tbody tr th:only-of-type {\n",
       "        vertical-align: middle;\n",
       "    }\n",
       "\n",
       "    .dataframe tbody tr th {\n",
       "        vertical-align: top;\n",
       "    }\n",
       "\n",
       "    .dataframe thead th {\n",
       "        text-align: right;\n",
       "    }\n",
       "</style>\n",
       "<table border=\"1\" class=\"dataframe\">\n",
       "  <thead>\n",
       "    <tr style=\"text-align: right;\">\n",
       "      <th></th>\n",
       "      <th>StudentID</th>\n",
       "      <th>SAT</th>\n",
       "      <th>GPA</th>\n",
       "      <th>merit</th>\n",
       "      <th>enroll</th>\n",
       "    </tr>\n",
       "  </thead>\n",
       "  <tbody>\n",
       "    <tr>\n",
       "      <th>0</th>\n",
       "      <td>1</td>\n",
       "      <td>1507</td>\n",
       "      <td>3.72</td>\n",
       "      <td>1.64</td>\n",
       "      <td>0</td>\n",
       "    </tr>\n",
       "    <tr>\n",
       "      <th>1</th>\n",
       "      <td>2</td>\n",
       "      <td>1532</td>\n",
       "      <td>3.93</td>\n",
       "      <td>0.52</td>\n",
       "      <td>0</td>\n",
       "    </tr>\n",
       "    <tr>\n",
       "      <th>2</th>\n",
       "      <td>3</td>\n",
       "      <td>1487</td>\n",
       "      <td>3.77</td>\n",
       "      <td>1.67</td>\n",
       "      <td>0</td>\n",
       "    </tr>\n",
       "    <tr>\n",
       "      <th>3</th>\n",
       "      <td>4</td>\n",
       "      <td>1259</td>\n",
       "      <td>3.05</td>\n",
       "      <td>1.21</td>\n",
       "      <td>1</td>\n",
       "    </tr>\n",
       "    <tr>\n",
       "      <th>4</th>\n",
       "      <td>5</td>\n",
       "      <td>1354</td>\n",
       "      <td>3.39</td>\n",
       "      <td>1.65</td>\n",
       "      <td>1</td>\n",
       "    </tr>\n",
       "  </tbody>\n",
       "</table>\n",
       "</div>"
      ],
      "text/plain": [
       "   StudentID   SAT   GPA  merit  enroll\n",
       "0          1  1507  3.72   1.64       0\n",
       "1          2  1532  3.93   0.52       0\n",
       "2          3  1487  3.77   1.67       0\n",
       "3          4  1259  3.05   1.21       1\n",
       "4          5  1354  3.39   1.65       1"
      ]
     },
     "execution_count": 90,
     "metadata": {},
     "output_type": "execute_result"
    }
   ],
   "source": [
    "# Import the data used for training the predictive models\n",
    "enrolment_data = pd.read_csv('college_student_enroll-s1-1.csv')\n",
    "enrolment_data.head()"
   ]
  },
  {
   "cell_type": "code",
   "execution_count": 91,
   "id": "ccaa7c26",
   "metadata": {},
   "outputs": [
    {
     "data": {
      "text/html": [
       "<div>\n",
       "<style scoped>\n",
       "    .dataframe tbody tr th:only-of-type {\n",
       "        vertical-align: middle;\n",
       "    }\n",
       "\n",
       "    .dataframe tbody tr th {\n",
       "        vertical-align: top;\n",
       "    }\n",
       "\n",
       "    .dataframe thead th {\n",
       "        text-align: right;\n",
       "    }\n",
       "</style>\n",
       "<table border=\"1\" class=\"dataframe\">\n",
       "  <thead>\n",
       "    <tr style=\"text-align: right;\">\n",
       "      <th></th>\n",
       "      <th>SAT</th>\n",
       "      <th>GPA</th>\n",
       "      <th>merit</th>\n",
       "      <th>enroll</th>\n",
       "    </tr>\n",
       "  </thead>\n",
       "  <tbody>\n",
       "    <tr>\n",
       "      <th>0</th>\n",
       "      <td>0.874138</td>\n",
       "      <td>0.770492</td>\n",
       "      <td>1.64</td>\n",
       "      <td>0</td>\n",
       "    </tr>\n",
       "    <tr>\n",
       "      <th>1</th>\n",
       "      <td>0.917241</td>\n",
       "      <td>0.885246</td>\n",
       "      <td>0.52</td>\n",
       "      <td>0</td>\n",
       "    </tr>\n",
       "    <tr>\n",
       "      <th>2</th>\n",
       "      <td>0.839655</td>\n",
       "      <td>0.797814</td>\n",
       "      <td>1.67</td>\n",
       "      <td>0</td>\n",
       "    </tr>\n",
       "    <tr>\n",
       "      <th>3</th>\n",
       "      <td>0.446552</td>\n",
       "      <td>0.404372</td>\n",
       "      <td>1.21</td>\n",
       "      <td>1</td>\n",
       "    </tr>\n",
       "    <tr>\n",
       "      <th>4</th>\n",
       "      <td>0.610345</td>\n",
       "      <td>0.590164</td>\n",
       "      <td>1.65</td>\n",
       "      <td>1</td>\n",
       "    </tr>\n",
       "  </tbody>\n",
       "</table>\n",
       "</div>"
      ],
      "text/plain": [
       "        SAT       GPA  merit  enroll\n",
       "0  0.874138  0.770492   1.64       0\n",
       "1  0.917241  0.885246   0.52       0\n",
       "2  0.839655  0.797814   1.67       0\n",
       "3  0.446552  0.404372   1.21       1\n",
       "4  0.610345  0.590164   1.65       1"
      ]
     },
     "execution_count": 91,
     "metadata": {},
     "output_type": "execute_result"
    }
   ],
   "source": [
    "# Standardize SAT and GPA scores for both datasets using StandardScaler()\n",
    "scaler_sat = MinMaxScaler().fit(enrolment_data[[\"SAT\"]])\n",
    "scaler_gpa = MinMaxScaler().fit(enrolment_data[[\"GPA\"]])\n",
    "enrolment_data['SAT'] = scaler_sat.transform(enrolment_data[['SAT']])\n",
    "enrolment_data['GPA'] = scaler_gpa.transform(enrolment_data[['GPA']])\n",
    "\n",
    "enrolment_data = enrolment_data.drop(['StudentID'], axis=1)\n",
    "\n",
    "enrolment_data.head()"
   ]
  },
  {
   "cell_type": "code",
   "execution_count": 92,
   "id": "bc6dc116",
   "metadata": {},
   "outputs": [],
   "source": [
    "enrolment_data.to_csv('enrolment_data.csv', index=False)"
   ]
  },
  {
   "cell_type": "code",
   "execution_count": 93,
   "id": "0f36f938",
   "metadata": {},
   "outputs": [],
   "source": [
    "# For 'student_size' number of students, randomly sample from enrolment_data\n",
    "sampled_data = enrolment_data.sample(student_size)\n",
    "\n",
    "y = sampled_data['enroll']\n",
    "X = sampled_data.drop(['enroll'], axis=1)\n",
    "\n",
    "X_train, X_test, y_train, y_test = train_test_split(X, y, test_size=0.8, random_state=42)"
   ]
  },
  {
   "cell_type": "markdown",
   "id": "254695d2",
   "metadata": {},
   "source": [
    "# Step 3: Learn the Predictive Models\n"
   ]
  },
  {
   "cell_type": "code",
   "execution_count": 94,
   "id": "cfb753bd",
   "metadata": {},
   "outputs": [],
   "source": [
    "version = 'StudentEnroll_v1'\n",
    "alg_list = ['mlp']\n",
    "outcome_list = {'offer_accepted': {'outcome_type': ['objective', 1], 'task_type': 'binary', 'alg_list':alg_list, \n",
    "                                   'X_train':X_train, 'y_train':y_train, 'X_test':X_test, 'y_test':y_test}}"
   ]
  },
  {
   "cell_type": "code",
   "execution_count": 95,
   "id": "412d0f2b",
   "metadata": {
    "scrolled": true
   },
   "outputs": [
    {
     "name": "stdout",
     "output_type": "stream",
     "text": [
      "Learning a constraint for offer_accepted\n",
      "Training mlp\n",
      "------------- Initialize grid  ----------------\n",
      "------------- Running model  ----------------\n",
      "Algorithm = mlp, metric = None\n",
      "saving... results/mlp_offer_accepted_trained.pkl\n",
      "------------- Model evaluation  ----------------\n",
      "-------------------training evaluation-----------------------\n",
      "Train Score: 1.0\n",
      "-------------------testing evaluation-----------------------\n",
      "Test Score: 0.9987212276214834\n",
      "\n",
      "Saving the performance...\n",
      "Done!\n"
     ]
    }
   ],
   "source": [
    "performance = pd.DataFrame()\n",
    "\n",
    "if not os.path.exists('results/'):\n",
    "    os.makedirs('results/')\n",
    "\n",
    "for outcome in outcome_list.keys():\n",
    "    print(f'Learning a constraint for {outcome}')\n",
    "    \n",
    "    alg_list = outcome_list[outcome]['alg_list']\n",
    "    task_type = outcome_list[outcome]['task_type']\n",
    "    for alg in alg_list:\n",
    "        X_train = outcome_list[outcome]['X_train']\n",
    "        y_train = outcome_list[outcome]['y_train']\n",
    "        X_test = outcome_list[outcome]['X_test']\n",
    "        y_test = outcome_list[outcome]['y_test']\n",
    "        \n",
    "        if not os.path.exists('results/%s/' % alg):\n",
    "            os.makedirs('results/%s/' % alg)\n",
    "        print(f'Training {alg}')\n",
    "        s = 1\n",
    "\n",
    "        ## Run shallow/small version of RF\n",
    "        alg_run = 'rf_shallow' if alg == 'rf' else alg\n",
    "\n",
    "        m, perf = opticl.run_model(X_train, y_train, X_test, y_test, alg_run, outcome, task = task_type,\n",
    "                               seed = s, cv_folds = 5, \n",
    "                               # metric = 'r2',\n",
    "                               save = False\n",
    "                              )\n",
    "\n",
    "        ## Save model\n",
    "        constraintL = opticl.ConstraintLearning(X_train, y_train, m, alg)\n",
    "        constraint_add = constraintL.constraint_extrapolation(task_type)\n",
    "        constraint_add.to_csv('results/%s/%s_%s_model.csv' % (alg, version, outcome), index = False)\n",
    "\n",
    "        ## Extract performance metrics\n",
    "        try:\n",
    "            perf['auc_train'] = roc_auc_score(y_train >= threshold, m.predict(X_train))\n",
    "            perf['auc_test'] = roc_auc_score(y_test >= threshold, m.predict(X_test))\n",
    "        except: \n",
    "            perf['auc_train'] = np.nan\n",
    "            perf['auc_test'] = np.nan\n",
    "\n",
    "        perf['seed'] = s\n",
    "        perf['outcome'] = outcome\n",
    "        perf['alg'] = alg\n",
    "        perf['save_path'] = 'results/%s/%s_%s_model.csv' % (alg, version, outcome)\n",
    "        \n",
    "            \n",
    "        perf.to_csv('results/%s/%s_%s_performance.csv' % (alg, version, outcome), index = False)\n",
    "        \n",
    "        performance = performance.append(perf)\n",
    "        print()\n",
    "print('Saving the performance...')\n",
    "performance.to_csv('results/%s_performance.csv' % version, index = False)\n",
    "print('Done!')"
   ]
  },
  {
   "cell_type": "code",
   "execution_count": 96,
   "id": "ee3b7fd6",
   "metadata": {},
   "outputs": [
    {
     "data": {
      "text/html": [
       "<div>\n",
       "<style scoped>\n",
       "    .dataframe tbody tr th:only-of-type {\n",
       "        vertical-align: middle;\n",
       "    }\n",
       "\n",
       "    .dataframe tbody tr th {\n",
       "        vertical-align: top;\n",
       "    }\n",
       "\n",
       "    .dataframe thead th {\n",
       "        text-align: right;\n",
       "    }\n",
       "</style>\n",
       "<table border=\"1\" class=\"dataframe\">\n",
       "  <thead>\n",
       "    <tr style=\"text-align: right;\">\n",
       "      <th></th>\n",
       "      <th>save_path</th>\n",
       "      <th>seed</th>\n",
       "      <th>cv_folds</th>\n",
       "      <th>task</th>\n",
       "      <th>parameters</th>\n",
       "      <th>best_params</th>\n",
       "      <th>valid_score</th>\n",
       "      <th>train_score</th>\n",
       "      <th>test_score</th>\n",
       "      <th>auc_train</th>\n",
       "      <th>auc_test</th>\n",
       "      <th>outcome</th>\n",
       "      <th>alg</th>\n",
       "    </tr>\n",
       "  </thead>\n",
       "  <tbody>\n",
       "    <tr>\n",
       "      <th>0</th>\n",
       "      <td>results/mlp/StudentEnroll_v1_offer_accepted_mo...</td>\n",
       "      <td>1</td>\n",
       "      <td>5</td>\n",
       "      <td>binary</td>\n",
       "      <td>{'hidden_layer_sizes': [(10,), (20,), (50,), (...</td>\n",
       "      <td>{'hidden_layer_sizes': (10,)}</td>\n",
       "      <td>1.0</td>\n",
       "      <td>1.0</td>\n",
       "      <td>0.998721</td>\n",
       "      <td>NaN</td>\n",
       "      <td>NaN</td>\n",
       "      <td>offer_accepted</td>\n",
       "      <td>mlp</td>\n",
       "    </tr>\n",
       "  </tbody>\n",
       "</table>\n",
       "</div>"
      ],
      "text/plain": [
       "                                           save_path  seed  cv_folds    task  \\\n",
       "0  results/mlp/StudentEnroll_v1_offer_accepted_mo...     1         5  binary   \n",
       "\n",
       "                                          parameters  \\\n",
       "0  {'hidden_layer_sizes': [(10,), (20,), (50,), (...   \n",
       "\n",
       "                     best_params  valid_score  train_score  test_score  \\\n",
       "0  {'hidden_layer_sizes': (10,)}          1.0          1.0    0.998721   \n",
       "\n",
       "   auc_train  auc_test         outcome  alg  \n",
       "0        NaN       NaN  offer_accepted  mlp  "
      ]
     },
     "execution_count": 96,
     "metadata": {},
     "output_type": "execute_result"
    }
   ],
   "source": [
    "performance"
   ]
  },
  {
   "cell_type": "markdown",
   "id": "6e8968b3",
   "metadata": {},
   "source": [
    "# Step 4: Predictive Model Selection and Optimization"
   ]
  },
  {
   "cell_type": "code",
   "execution_count": 113,
   "id": "717cd663",
   "metadata": {},
   "outputs": [
    {
     "name": "stdout",
     "output_type": "stream",
     "text": [
      "          outcome model_type  \\\n",
      "0  offer_accepted        mlp   \n",
      "\n",
      "                                           save_path    task  objective  \n",
      "0  results/mlp/StudentEnroll_v1_offer_accepted_mo...  binary          1  \n"
     ]
    },
    {
     "data": {
      "text/html": [
       "<div>\n",
       "<style scoped>\n",
       "    .dataframe tbody tr th:only-of-type {\n",
       "        vertical-align: middle;\n",
       "    }\n",
       "\n",
       "    .dataframe tbody tr th {\n",
       "        vertical-align: top;\n",
       "    }\n",
       "\n",
       "    .dataframe thead th {\n",
       "        text-align: right;\n",
       "    }\n",
       "</style>\n",
       "<table border=\"1\" class=\"dataframe\">\n",
       "  <thead>\n",
       "    <tr style=\"text-align: right;\">\n",
       "      <th></th>\n",
       "      <th>outcome</th>\n",
       "      <th>model_type</th>\n",
       "      <th>save_path</th>\n",
       "      <th>task</th>\n",
       "      <th>objective</th>\n",
       "      <th>lb</th>\n",
       "      <th>ub</th>\n",
       "      <th>SCM_counterfactuals</th>\n",
       "      <th>features</th>\n",
       "      <th>trust_region</th>\n",
       "      <th>dataset_path</th>\n",
       "      <th>clustering_model</th>\n",
       "      <th>max_violation</th>\n",
       "      <th>enlargement</th>\n",
       "      <th>var_features</th>\n",
       "      <th>contex_features</th>\n",
       "    </tr>\n",
       "  </thead>\n",
       "  <tbody>\n",
       "    <tr>\n",
       "      <th>0</th>\n",
       "      <td>offer_accepted</td>\n",
       "      <td>mlp</td>\n",
       "      <td>results/mlp/StudentEnroll_v1_offer_accepted_mo...</td>\n",
       "      <td>binary</td>\n",
       "      <td>1</td>\n",
       "      <td>None</td>\n",
       "      <td>None</td>\n",
       "      <td>None</td>\n",
       "      <td>[SAT, GPA, merit]</td>\n",
       "      <td>True</td>\n",
       "      <td>enrolment_data.csv</td>\n",
       "      <td>None</td>\n",
       "      <td>None</td>\n",
       "      <td>[0, 0, 0]</td>\n",
       "      <td>[merit]</td>\n",
       "      <td>{'GPA': 0.6, 'SAT': 0.5}</td>\n",
       "    </tr>\n",
       "  </tbody>\n",
       "</table>\n",
       "</div>"
      ],
      "text/plain": [
       "          outcome model_type  \\\n",
       "0  offer_accepted        mlp   \n",
       "\n",
       "                                           save_path    task  objective    lb  \\\n",
       "0  results/mlp/StudentEnroll_v1_offer_accepted_mo...  binary          1  None   \n",
       "\n",
       "     ub SCM_counterfactuals           features trust_region  \\\n",
       "0  None                None  [SAT, GPA, merit]         True   \n",
       "\n",
       "         dataset_path clustering_model max_violation enlargement var_features  \\\n",
       "0  enrolment_data.csv             None          None   [0, 0, 0]      [merit]   \n",
       "\n",
       "            contex_features  \n",
       "0  {'GPA': 0.6, 'SAT': 0.5}  "
      ]
     },
     "execution_count": 113,
     "metadata": {},
     "output_type": "execute_result"
    }
   ],
   "source": [
    "model_master = opticl.model_selection(performance, outcome_list)\n",
    "model_master[['lb', 'ub', 'SCM_counterfactuals', 'features', 'trust_region', 'dataset_path',\n",
    "              'clustering_model', 'max_violation', 'enlargement', 'var_features', 'contex_features']] = None\n",
    "model_master.loc[0, 'lb'] = None\n",
    "model_master.loc[0, 'ub'] = None\n",
    "model_master.loc[0, 'SCM_counterfactuals'] = None\n",
    "model_master.at[0, 'features'] = [col for col in X.columns]\n",
    "model_master.loc[0, 'trust_region'] = True\n",
    "model_master.loc[0, 'dataset_path'] = 'enrolment_data.csv'\n",
    "model_master.loc[0, 'clustering_model'] = None\n",
    "model_master.loc[0, 'max_violation'] = None\n",
    "model_master.at[0, 'enlargement'] = [0, 0, 0] # 0: no enlargment, 1: CH-enlar; 0: constraint, 1: obj penalty; UB/penalty ceoff\n",
    "model_master.at[0, 'var_features'] = ['merit']\n",
    "model_master.at[0, 'contex_features'] = {'GPA': 0.6, 'SAT':0.5}\n",
    "model_master"
   ]
  },
  {
   "cell_type": "code",
   "execution_count": 110,
   "id": "655d6480",
   "metadata": {},
   "outputs": [],
   "source": [
    "def getSolution(model, X):\n",
    "    solution = {}\n",
    "    palatability = 0\n",
    "    count = 0\n",
    "    for v in model.getVars():\n",
    "        if 'y[' in v.varName:\n",
    "            solution[list(X.columns)[count]] = [v.y]\n",
    "            print(v.varName)\n",
    "            count += 1\n",
    "    return solution"
   ]
  },
  {
   "cell_type": "code",
   "execution_count": 114,
   "id": "cac1cc14",
   "metadata": {},
   "outputs": [
    {
     "name": "stdout",
     "output_type": "stream",
     "text": [
      "Generating constraints for the trust region using 20000 samples.\n",
      "... Trust region defined.\n",
      "Embedding objective function for offer_accepted\n"
     ]
    },
    {
     "data": {
      "text/plain": [
       "(0.9307728045853338, 1.0, 0.7172320444840796)"
      ]
     },
     "execution_count": 114,
     "metadata": {},
     "output_type": "execute_result"
    }
   ],
   "source": [
    "result = {}\n",
    "conceptual_model = init_conceptual_model()\n",
    "MIP_final_model = em.optimization_MIP(conceptual_model, model_master)\n",
    "opt = SolverFactory('gurobi')\n",
    "results = opt.solve(MIP_final_model)\n",
    "value(MIP_final_model.OBJ), value(MIP_final_model.x['merit']),1 / (1 + math.exp(-value(MIP_final_model.OBJ)))"
   ]
  }
 ],
 "metadata": {
  "kernelspec": {
   "display_name": "Python 3",
   "language": "python",
   "name": "python3"
  },
  "language_info": {
   "codemirror_mode": {
    "name": "ipython",
    "version": 3
   },
   "file_extension": ".py",
   "mimetype": "text/x-python",
   "name": "python",
   "nbconvert_exporter": "python",
   "pygments_lexer": "ipython3",
   "version": "3.8.8"
  }
 },
 "nbformat": 4,
 "nbformat_minor": 5
}
