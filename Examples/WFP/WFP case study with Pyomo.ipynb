{
 "cells": [
  {
   "cell_type": "code",
   "execution_count": 1,
   "metadata": {},
   "outputs": [],
   "source": [
    "import pandas as pd\n",
    "from imp import reload\n",
    "import numpy as np\n",
    "import math\n",
    "from sklearn.utils.extmath import cartesian\n",
    "import time\n",
    "import sys\n",
    "import os\n",
    "sys.path.append(os.path.abspath('../../src'))  # TODO: has to be changed\n",
    "import ConstraintLearning\n",
    "import embed_mip as em \n",
    "import run_MLmodels as ml\n",
    "from pyomo import environ\n",
    "from pyomo.environ import *"
   ]
  },
  {
   "cell_type": "code",
   "execution_count": 2,
   "metadata": {},
   "outputs": [
    {
     "data": {
      "text/html": [
       "<div>\n",
       "<style scoped>\n",
       "    .dataframe tbody tr th:only-of-type {\n",
       "        vertical-align: middle;\n",
       "    }\n",
       "\n",
       "    .dataframe tbody tr th {\n",
       "        vertical-align: top;\n",
       "    }\n",
       "\n",
       "    .dataframe thead th {\n",
       "        text-align: right;\n",
       "    }\n",
       "</style>\n",
       "<table border=\"1\" class=\"dataframe\">\n",
       "  <thead>\n",
       "    <tr style=\"text-align: right;\">\n",
       "      <th></th>\n",
       "      <th>Beans</th>\n",
       "      <th>Bulgur</th>\n",
       "      <th>Cheese</th>\n",
       "      <th>Fish</th>\n",
       "      <th>Meat</th>\n",
       "      <th>CSB</th>\n",
       "      <th>Dates</th>\n",
       "      <th>DSM</th>\n",
       "      <th>Milk</th>\n",
       "      <th>Salt</th>\n",
       "      <th>...</th>\n",
       "      <th>Soya-fortified bulgur wheat</th>\n",
       "      <th>Soya-fortified maize meal</th>\n",
       "      <th>Soya-fortified sorghum grits</th>\n",
       "      <th>Soya-fortified wheat flour</th>\n",
       "      <th>Sugar</th>\n",
       "      <th>Oil</th>\n",
       "      <th>Wheat</th>\n",
       "      <th>Wheat flour</th>\n",
       "      <th>WSB</th>\n",
       "      <th>label</th>\n",
       "    </tr>\n",
       "  </thead>\n",
       "  <tbody>\n",
       "    <tr>\n",
       "      <th>4246</th>\n",
       "      <td>0.607992</td>\n",
       "      <td>0.000000</td>\n",
       "      <td>0.0</td>\n",
       "      <td>0.0</td>\n",
       "      <td>0.0</td>\n",
       "      <td>0.0</td>\n",
       "      <td>0.0</td>\n",
       "      <td>0.124310</td>\n",
       "      <td>0.0</td>\n",
       "      <td>0.05</td>\n",
       "      <td>...</td>\n",
       "      <td>0.0</td>\n",
       "      <td>0.000000</td>\n",
       "      <td>0.000000</td>\n",
       "      <td>0.0</td>\n",
       "      <td>0.2</td>\n",
       "      <td>0.360869</td>\n",
       "      <td>0.869528</td>\n",
       "      <td>0.0</td>\n",
       "      <td>0.877119</td>\n",
       "      <td>0.472027</td>\n",
       "    </tr>\n",
       "    <tr>\n",
       "      <th>4095</th>\n",
       "      <td>0.000000</td>\n",
       "      <td>3.935293</td>\n",
       "      <td>0.0</td>\n",
       "      <td>0.0</td>\n",
       "      <td>0.0</td>\n",
       "      <td>0.7</td>\n",
       "      <td>0.0</td>\n",
       "      <td>0.522753</td>\n",
       "      <td>0.0</td>\n",
       "      <td>0.05</td>\n",
       "      <td>...</td>\n",
       "      <td>0.0</td>\n",
       "      <td>0.000000</td>\n",
       "      <td>0.123157</td>\n",
       "      <td>0.0</td>\n",
       "      <td>0.2</td>\n",
       "      <td>0.328647</td>\n",
       "      <td>0.000000</td>\n",
       "      <td>0.0</td>\n",
       "      <td>0.000000</td>\n",
       "      <td>0.506147</td>\n",
       "    </tr>\n",
       "    <tr>\n",
       "      <th>3248</th>\n",
       "      <td>0.582322</td>\n",
       "      <td>0.000000</td>\n",
       "      <td>0.0</td>\n",
       "      <td>0.0</td>\n",
       "      <td>0.0</td>\n",
       "      <td>0.7</td>\n",
       "      <td>0.0</td>\n",
       "      <td>0.599632</td>\n",
       "      <td>0.0</td>\n",
       "      <td>0.05</td>\n",
       "      <td>...</td>\n",
       "      <td>0.0</td>\n",
       "      <td>0.023438</td>\n",
       "      <td>0.000000</td>\n",
       "      <td>0.0</td>\n",
       "      <td>0.2</td>\n",
       "      <td>0.392056</td>\n",
       "      <td>0.000000</td>\n",
       "      <td>0.0</td>\n",
       "      <td>0.000000</td>\n",
       "      <td>0.193603</td>\n",
       "    </tr>\n",
       "    <tr>\n",
       "      <th>409</th>\n",
       "      <td>0.579128</td>\n",
       "      <td>0.000000</td>\n",
       "      <td>0.0</td>\n",
       "      <td>0.0</td>\n",
       "      <td>0.0</td>\n",
       "      <td>0.0</td>\n",
       "      <td>0.0</td>\n",
       "      <td>0.263754</td>\n",
       "      <td>0.0</td>\n",
       "      <td>0.05</td>\n",
       "      <td>...</td>\n",
       "      <td>0.0</td>\n",
       "      <td>0.000000</td>\n",
       "      <td>0.000000</td>\n",
       "      <td>0.0</td>\n",
       "      <td>0.2</td>\n",
       "      <td>0.187924</td>\n",
       "      <td>2.268325</td>\n",
       "      <td>0.0</td>\n",
       "      <td>0.762533</td>\n",
       "      <td>0.623198</td>\n",
       "    </tr>\n",
       "    <tr>\n",
       "      <th>3092</th>\n",
       "      <td>0.760781</td>\n",
       "      <td>0.000000</td>\n",
       "      <td>0.0</td>\n",
       "      <td>0.0</td>\n",
       "      <td>0.0</td>\n",
       "      <td>0.0</td>\n",
       "      <td>0.0</td>\n",
       "      <td>0.181657</td>\n",
       "      <td>0.0</td>\n",
       "      <td>0.05</td>\n",
       "      <td>...</td>\n",
       "      <td>0.0</td>\n",
       "      <td>0.000000</td>\n",
       "      <td>0.000000</td>\n",
       "      <td>0.0</td>\n",
       "      <td>0.2</td>\n",
       "      <td>0.155880</td>\n",
       "      <td>0.290889</td>\n",
       "      <td>0.0</td>\n",
       "      <td>0.688832</td>\n",
       "      <td>0.510782</td>\n",
       "    </tr>\n",
       "  </tbody>\n",
       "</table>\n",
       "<p>5 rows × 26 columns</p>\n",
       "</div>"
      ],
      "text/plain": [
       "         Beans    Bulgur  Cheese  Fish  Meat  CSB  Dates       DSM  Milk  \\\n",
       "4246  0.607992  0.000000     0.0   0.0   0.0  0.0    0.0  0.124310   0.0   \n",
       "4095  0.000000  3.935293     0.0   0.0   0.0  0.7    0.0  0.522753   0.0   \n",
       "3248  0.582322  0.000000     0.0   0.0   0.0  0.7    0.0  0.599632   0.0   \n",
       "409   0.579128  0.000000     0.0   0.0   0.0  0.0    0.0  0.263754   0.0   \n",
       "3092  0.760781  0.000000     0.0   0.0   0.0  0.0    0.0  0.181657   0.0   \n",
       "\n",
       "      Salt  ...  Soya-fortified bulgur wheat  Soya-fortified maize meal  \\\n",
       "4246  0.05  ...                          0.0                   0.000000   \n",
       "4095  0.05  ...                          0.0                   0.000000   \n",
       "3248  0.05  ...                          0.0                   0.023438   \n",
       "409   0.05  ...                          0.0                   0.000000   \n",
       "3092  0.05  ...                          0.0                   0.000000   \n",
       "\n",
       "      Soya-fortified sorghum grits  Soya-fortified wheat flour  Sugar  \\\n",
       "4246                      0.000000                         0.0    0.2   \n",
       "4095                      0.123157                         0.0    0.2   \n",
       "3248                      0.000000                         0.0    0.2   \n",
       "409                       0.000000                         0.0    0.2   \n",
       "3092                      0.000000                         0.0    0.2   \n",
       "\n",
       "           Oil     Wheat  Wheat flour       WSB     label  \n",
       "4246  0.360869  0.869528          0.0  0.877119  0.472027  \n",
       "4095  0.328647  0.000000          0.0  0.000000  0.506147  \n",
       "3248  0.392056  0.000000          0.0  0.000000  0.193603  \n",
       "409   0.187924  2.268325          0.0  0.762533  0.623198  \n",
       "3092  0.155880  0.290889          0.0  0.688832  0.510782  \n",
       "\n",
       "[5 rows x 26 columns]"
      ]
     },
     "execution_count": 2,
     "metadata": {},
     "output_type": "execute_result"
    }
   ],
   "source": [
    "nutr_val = pd.read_excel('processed-data/Syria_instance.xlsx', sheet_name='nutr_val', index_col='Food')\n",
    "nutr_req = pd.read_excel('processed-data/Syria_instance.xlsx', sheet_name='nutr_req', index_col='Type')\n",
    "cost_p = pd.read_excel('processed-data/Syria_instance.xlsx', sheet_name='FoodCost', index_col='Supplier').iloc[0,:] # pd.DataFrame([np.random.random(len(nutr_val))], columns=nutr_val.index)\n",
    "dataset = pd.read_csv('processed-data/WFP_dataset.csv').sample(frac=1)\n",
    "dataset.head()"
   ]
  },
  {
   "cell_type": "markdown",
   "metadata": {},
   "source": [
    "# OptiCL: Optimization with Constraint Learning"
   ]
  },
  {
   "cell_type": "markdown",
   "metadata": {},
   "source": [
    "## Step 1: Conceptual Model"
   ]
  },
  {
   "cell_type": "code",
   "execution_count": 3,
   "metadata": {},
   "outputs": [],
   "source": [
    "def init_conceptual_model(cost_p):\n",
    "    N = list(nutr_val.index)  # foods\n",
    "    M = nutr_req.columns  # nutrient requirements\n",
    "\n",
    "    model = ConcreteModel()\n",
    "\n",
    "\n",
    "    '''\n",
    "    Decision variables\n",
    "    '''\n",
    "    model.x = Var(N, domain=NonNegativeReals)  # variables controlling the food basket\n",
    "\n",
    "    '''\n",
    "    Objective function.\n",
    "    '''\n",
    "    def obj_function(model):\n",
    "        return sum(cost_p[food]*model.x[food] for food in N)\n",
    "\n",
    "    model.OBJ = Objective(rule=obj_function, sense=minimize)\n",
    "\n",
    "    '''\n",
    "    Nutrients requirements constraint.\n",
    "    '''\n",
    "    def constraint_rule1(model, req):\n",
    "        return sum(model.x[food] * nutr_val.loc[food, req] for food in N) >= nutr_req[req].item()\n",
    "    model.Constraint1 = Constraint(M, rule=constraint_rule1)\n",
    "    '''\n",
    "    Sugar constraint\n",
    "    '''\n",
    "    def constraint_rule2(model):\n",
    "        return model.x['Sugar'] == 0.2\n",
    "    model.Constraint2 = Constraint(rule=constraint_rule2)\n",
    "    '''\n",
    "    Salt constraint\n",
    "    '''\n",
    "    def constraint_rule3(model):\n",
    "        return model.x['Salt'] == 0.05\n",
    "    model.Constraint3 = Constraint(rule=constraint_rule3)\n",
    "    \n",
    "    return model, model.x"
   ]
  },
  {
   "cell_type": "markdown",
   "metadata": {},
   "source": [
    "## Step 2: Data Processing\n",
    "The palatabily score is normalized such that we have a value between 0 and 1, where 1 is assigned to most palatable rations and 0 to the least palatable ones."
   ]
  },
  {
   "cell_type": "code",
   "execution_count": 4,
   "metadata": {},
   "outputs": [],
   "source": [
    "# normalize the palatabily score to be between 0 and 1\n",
    "def normalize(y):\n",
    "    minimum = 71.969  \n",
    "    maximum = 444.847  \n",
    "    return 1 - (y - minimum)/(maximum - minimum)\n",
    "y = dataset['label']\n",
    "X = dataset.drop(['label'], axis=1, inplace=False)\n",
    "\n",
    "from sklearn.model_selection import train_test_split\n",
    "X_train, X_test, y_train, y_test = train_test_split(X, y, test_size=0.2, random_state=42)"
   ]
  },
  {
   "cell_type": "markdown",
   "metadata": {},
   "source": [
    "## Part 3: Learn the predictive models"
   ]
  },
  {
   "cell_type": "code",
   "execution_count": 5,
   "metadata": {},
   "outputs": [
    {
     "name": "stdout",
     "output_type": "stream",
     "text": [
      "What is the palatability threshold that you want to use in the constraint? Choose in the range(0, 1): .5\n"
     ]
    }
   ],
   "source": [
    "version = 'WFP_v1'\n",
    "alg_list = ['mlp', 'linear','cart','rf','svm','gbm']\n",
    "outcome_list = ['palatability']  # Constraint to be learned\n",
    "\n",
    "question2 = input('What is the palatability threshold that you want to use in the constraint? Choose in the range(0, 1): ')\n",
    "constraint_extrapolation_type = 'r'\n",
    "threshold = question2"
   ]
  },
  {
   "cell_type": "code",
   "execution_count": 20,
   "metadata": {},
   "outputs": [
    {
     "name": "stdout",
     "output_type": "stream",
     "text": [
      "Learning a constraint for palatability\n",
      "Training mlp\n",
      "------------- Initialize grid  ----------------\n",
      "------------- Running model  ----------------\n",
      "Algorithm = mlp, metric = None\n",
      "------------- Model evaluation  ----------------\n",
      "-------------------training evaluation-----------------------\n",
      "Train MSE: 0.00662006491336421\n",
      "Train R2: 0.8693197282188969\n",
      "-------------------testing evaluation-----------------------\n",
      "Test MSE: 0.008808112285341544\n",
      "Test R2: 0.8336471534154075\n",
      "------------- Save results  ----------------\n",
      "\n",
      "Training linear\n",
      "------------- Initialize grid  ----------------\n",
      "------------- Running model  ----------------\n",
      "Algorithm = linear, metric = None\n",
      "------------- Model evaluation  ----------------\n",
      "-------------------training evaluation-----------------------\n",
      "Train MSE: 0.04594577270596855\n",
      "Train R2: 0.09302912539606578\n",
      "-------------------testing evaluation-----------------------\n",
      "Test MSE: 0.04789932179368778\n",
      "Test R2: 0.0953579754981071\n",
      "------------- Save results  ----------------\n",
      "\n",
      "Training cart\n",
      "------------- Initialize grid  ----------------\n",
      "------------- Running model  ----------------\n",
      "Algorithm = cart, metric = None\n",
      "------------- Model evaluation  ----------------\n",
      "-------------------training evaluation-----------------------\n",
      "Train MSE: 0.012910130027604053\n",
      "Train R2: 0.7451536619632149\n",
      "-------------------testing evaluation-----------------------\n",
      "Test MSE: 0.014165998389890903\n",
      "Test R2: 0.7324563901401573\n",
      "------------- Save results  ----------------\n",
      "\n",
      "Training rf\n",
      "------------- Initialize grid  ----------------\n",
      "------------- Running model  ----------------\n",
      "Algorithm = rf_shallow, metric = None\n",
      "------------- Model evaluation  ----------------\n",
      "-------------------training evaluation-----------------------\n",
      "Train MSE: 0.015876625838562\n",
      "Train R2: 0.68659494933928\n",
      "-------------------testing evaluation-----------------------\n",
      "Test MSE: 0.01642396596404141\n",
      "Test R2: 0.6898116870201995\n",
      "------------- Save results  ----------------\n",
      "\n",
      "Training svm\n",
      "------------- Initialize grid  ----------------\n",
      "------------- Running model  ----------------\n",
      "Algorithm = svm, metric = None\n",
      "------------- Model evaluation  ----------------\n",
      "-------------------training evaluation-----------------------\n",
      "Train MSE: 0.018821145084184965\n",
      "Train R2: 0.628470054747098\n",
      "-------------------testing evaluation-----------------------\n",
      "Test MSE: 0.019597277458192414\n",
      "Test R2: 0.6298795037043556\n",
      "------------- Save results  ----------------\n",
      "\n",
      "Training gbm\n",
      "------------- Initialize grid  ----------------\n",
      "------------- Running model  ----------------\n",
      "Algorithm = gbm, metric = None\n",
      "------------- Model evaluation  ----------------\n",
      "-------------------training evaluation-----------------------\n",
      "Train MSE: 0.004854656947454709\n",
      "Train R2: 0.9041689322386107\n",
      "-------------------testing evaluation-----------------------\n",
      "Test MSE: 0.006521760166578735\n",
      "Test R2: 0.8768279361903809\n",
      "------------- Save results  ----------------\n",
      "\n",
      "Saving the performance...\n",
      "Done!\n"
     ]
    }
   ],
   "source": [
    "performance = pd.DataFrame()\n",
    "reload(ml)\n",
    "reload(ConstraintLearning)\n",
    "\n",
    "if not os.path.exists('../results/'):\n",
    "    os.makedirs('../results/')\n",
    "\n",
    "for outcome in outcome_list:\n",
    "    print(f'Learning a constraint for {outcome}')\n",
    "\n",
    "    for alg in alg_list:\n",
    "        if not os.path.exists('../results/%s/' % alg):\n",
    "            os.makedirs('../results/%s/' % alg)\n",
    "        print(f'Training {alg}')\n",
    "        s = 0\n",
    "\n",
    "        ## Run shallow/small version of RF\n",
    "        alg_run = 'rf_shallow' if alg == 'rf' else alg\n",
    "\n",
    "        m, perf = ml.run_model(X_train, y_train, X_test, y_test, alg_run, task = 'continuous', \n",
    "                               seed = s, cv_folds = 5, \n",
    "                               save = False,\n",
    "#                               parameter_grid = {'hidden_layer_sizes':[(5),(10)]}\n",
    "                              )\n",
    "\n",
    "        ## Save model\n",
    "        constraintL = ConstraintLearning.ConstraintLearning(X_train, y_train, m, alg)\n",
    "        constraint_add = constraintL.constraint_extrapolation(constraint_extrapolation_type)\n",
    "        constraint_add.to_csv('../results/%s/%s_%s_model.csv' % (alg, version, outcome), index = False)\n",
    "\n",
    "        ## Extract performance metrics\n",
    "        try:\n",
    "            perf['auc_train'] = roc_auc_score(y_train >= threshold, m.predict(X_train))\n",
    "            perf['auc_test'] = roc_auc_score(y_test >= threshold, m.predict(X_test))\n",
    "        except: \n",
    "            perf['auc_train'] = np.nan\n",
    "            perf['auc_test'] = np.nan\n",
    "\n",
    "        perf['seed'] = s\n",
    "        perf['outcome'] = outcome\n",
    "        perf['alg'] = alg\n",
    "        perf['save_path'] = '../results/%s/%s_%s_model.csv' % (alg, version, outcome)\n",
    "        \n",
    "            \n",
    "        perf.to_csv('../results/%s/%s_%s_performance.csv' % (alg, version, outcome), index = False)\n",
    "        \n",
    "        performance = performance.append(perf)\n",
    "        print()\n",
    "print('Saving the performance...')\n",
    "performance.to_csv('../results/%s_performance.csv' % version, index = False)\n",
    "print('Done!')"
   ]
  },
  {
   "cell_type": "markdown",
   "metadata": {},
   "source": [
    "## Step 4: Predictive model selection and Optimization"
   ]
  },
  {
   "cell_type": "code",
   "execution_count": 6,
   "metadata": {},
   "outputs": [
    {
     "data": {
      "text/html": [
       "<div>\n",
       "<style scoped>\n",
       "    .dataframe tbody tr th:only-of-type {\n",
       "        vertical-align: middle;\n",
       "    }\n",
       "\n",
       "    .dataframe tbody tr th {\n",
       "        vertical-align: top;\n",
       "    }\n",
       "\n",
       "    .dataframe thead th {\n",
       "        text-align: right;\n",
       "    }\n",
       "</style>\n",
       "<table border=\"1\" class=\"dataframe\">\n",
       "  <thead>\n",
       "    <tr style=\"text-align: right;\">\n",
       "      <th></th>\n",
       "      <th>save_path</th>\n",
       "      <th>seed</th>\n",
       "      <th>cv_folds</th>\n",
       "      <th>parameters</th>\n",
       "      <th>best_params</th>\n",
       "      <th>valid_score</th>\n",
       "      <th>train_score</th>\n",
       "      <th>train_r2</th>\n",
       "      <th>test_score</th>\n",
       "      <th>test_r2</th>\n",
       "      <th>outcome</th>\n",
       "      <th>alg</th>\n",
       "    </tr>\n",
       "  </thead>\n",
       "  <tbody>\n",
       "    <tr>\n",
       "      <th>0</th>\n",
       "      <td>../results/mlp/WFP_v1_palatability_model.csv</td>\n",
       "      <td>0</td>\n",
       "      <td>5</td>\n",
       "      <td>{'hidden_layer_sizes': [(10,), (20,), (50,), (...</td>\n",
       "      <td>{'hidden_layer_sizes': (100,)}</td>\n",
       "      <td>-0.008849</td>\n",
       "      <td>0.006620</td>\n",
       "      <td>0.869320</td>\n",
       "      <td>0.008808</td>\n",
       "      <td>0.833647</td>\n",
       "      <td>palatability</td>\n",
       "      <td>mlp</td>\n",
       "    </tr>\n",
       "    <tr>\n",
       "      <th>1</th>\n",
       "      <td>../results/linear/WFP_v1_palatability_model.csv</td>\n",
       "      <td>0</td>\n",
       "      <td>5</td>\n",
       "      <td>{'alpha': [0.1, 1, 10, 100, 1000], 'l1_ratio':...</td>\n",
       "      <td>{'alpha': 0.1, 'l1_ratio': 0.1}</td>\n",
       "      <td>-0.046111</td>\n",
       "      <td>0.045946</td>\n",
       "      <td>0.093029</td>\n",
       "      <td>0.047899</td>\n",
       "      <td>0.095358</td>\n",
       "      <td>palatability</td>\n",
       "      <td>linear</td>\n",
       "    </tr>\n",
       "    <tr>\n",
       "      <th>2</th>\n",
       "      <td>../results/cart/WFP_v1_palatability_model.csv</td>\n",
       "      <td>0</td>\n",
       "      <td>5</td>\n",
       "      <td>{'max_depth': [3, 4, 5, 6, 7, 8, 9, 10], 'min_...</td>\n",
       "      <td>{'max_depth': 9, 'max_features': 1.0, 'min_sam...</td>\n",
       "      <td>-0.014844</td>\n",
       "      <td>0.012910</td>\n",
       "      <td>0.745154</td>\n",
       "      <td>0.014166</td>\n",
       "      <td>0.732456</td>\n",
       "      <td>palatability</td>\n",
       "      <td>cart</td>\n",
       "    </tr>\n",
       "    <tr>\n",
       "      <th>3</th>\n",
       "      <td>../results/rf/WFP_v1_palatability_model.csv</td>\n",
       "      <td>0</td>\n",
       "      <td>5</td>\n",
       "      <td>{'n_estimators': [10, 25], 'max_features': ['a...</td>\n",
       "      <td>{'max_depth': 4, 'max_features': 'auto', 'n_es...</td>\n",
       "      <td>-0.016944</td>\n",
       "      <td>0.015877</td>\n",
       "      <td>0.686595</td>\n",
       "      <td>0.016424</td>\n",
       "      <td>0.689812</td>\n",
       "      <td>palatability</td>\n",
       "      <td>rf</td>\n",
       "    </tr>\n",
       "    <tr>\n",
       "      <th>4</th>\n",
       "      <td>../results/svm/WFP_v1_palatability_model.csv</td>\n",
       "      <td>0</td>\n",
       "      <td>5</td>\n",
       "      <td>{'C': [0.1, 1, 10, 100]}</td>\n",
       "      <td>{'C': 100}</td>\n",
       "      <td>-0.019118</td>\n",
       "      <td>0.018821</td>\n",
       "      <td>0.628470</td>\n",
       "      <td>0.019597</td>\n",
       "      <td>0.629880</td>\n",
       "      <td>palatability</td>\n",
       "      <td>svm</td>\n",
       "    </tr>\n",
       "    <tr>\n",
       "      <th>5</th>\n",
       "      <td>../results/gbm/WFP_v1_palatability_model.csv</td>\n",
       "      <td>0</td>\n",
       "      <td>5</td>\n",
       "      <td>{'learning_rate': [0.01, 0.025, 0.05, 0.075, 0...</td>\n",
       "      <td>{'learning_rate': 0.2, 'max_depth': 5, 'n_esti...</td>\n",
       "      <td>-0.006802</td>\n",
       "      <td>0.004855</td>\n",
       "      <td>0.904169</td>\n",
       "      <td>0.006522</td>\n",
       "      <td>0.876828</td>\n",
       "      <td>palatability</td>\n",
       "      <td>gbm</td>\n",
       "    </tr>\n",
       "  </tbody>\n",
       "</table>\n",
       "</div>"
      ],
      "text/plain": [
       "                                         save_path  seed  cv_folds  \\\n",
       "0     ../results/mlp/WFP_v1_palatability_model.csv     0         5   \n",
       "1  ../results/linear/WFP_v1_palatability_model.csv     0         5   \n",
       "2    ../results/cart/WFP_v1_palatability_model.csv     0         5   \n",
       "3      ../results/rf/WFP_v1_palatability_model.csv     0         5   \n",
       "4     ../results/svm/WFP_v1_palatability_model.csv     0         5   \n",
       "5     ../results/gbm/WFP_v1_palatability_model.csv     0         5   \n",
       "\n",
       "                                          parameters  \\\n",
       "0  {'hidden_layer_sizes': [(10,), (20,), (50,), (...   \n",
       "1  {'alpha': [0.1, 1, 10, 100, 1000], 'l1_ratio':...   \n",
       "2  {'max_depth': [3, 4, 5, 6, 7, 8, 9, 10], 'min_...   \n",
       "3  {'n_estimators': [10, 25], 'max_features': ['a...   \n",
       "4                           {'C': [0.1, 1, 10, 100]}   \n",
       "5  {'learning_rate': [0.01, 0.025, 0.05, 0.075, 0...   \n",
       "\n",
       "                                         best_params  valid_score  \\\n",
       "0                     {'hidden_layer_sizes': (100,)}    -0.008849   \n",
       "1                    {'alpha': 0.1, 'l1_ratio': 0.1}    -0.046111   \n",
       "2  {'max_depth': 9, 'max_features': 1.0, 'min_sam...    -0.014844   \n",
       "3  {'max_depth': 4, 'max_features': 'auto', 'n_es...    -0.016944   \n",
       "4                                         {'C': 100}    -0.019118   \n",
       "5  {'learning_rate': 0.2, 'max_depth': 5, 'n_esti...    -0.006802   \n",
       "\n",
       "   train_score  train_r2  test_score   test_r2       outcome     alg  \n",
       "0     0.006620  0.869320    0.008808  0.833647  palatability     mlp  \n",
       "1     0.045946  0.093029    0.047899  0.095358  palatability  linear  \n",
       "2     0.012910  0.745154    0.014166  0.732456  palatability    cart  \n",
       "3     0.015877  0.686595    0.016424  0.689812  palatability      rf  \n",
       "4     0.018821  0.628470    0.019597  0.629880  palatability     svm  \n",
       "5     0.004855  0.904169    0.006522  0.876828  palatability     gbm  "
      ]
     },
     "execution_count": 6,
     "metadata": {},
     "output_type": "execute_result"
    }
   ],
   "source": [
    "constraints_embed = ['palatability']\n",
    "objectives_embed = {}\n",
    "version = 'WFP_v1'\n",
    "performance = pd.read_csv('../results/%s_performance.csv' % version)\n",
    "performance.dropna(axis='columns')"
   ]
  },
  {
   "cell_type": "code",
   "execution_count": 7,
   "metadata": {},
   "outputs": [
    {
     "name": "stdout",
     "output_type": "stream",
     "text": [
      "        outcome model_type                                     save_path  \\\n",
      "0  palatability        gbm  ../results/gbm/WFP_v1_palatability_model.csv   \n",
      "\n",
      "   objective  \n",
      "0          0  \n"
     ]
    },
    {
     "data": {
      "text/html": [
       "<div>\n",
       "<style scoped>\n",
       "    .dataframe tbody tr th:only-of-type {\n",
       "        vertical-align: middle;\n",
       "    }\n",
       "\n",
       "    .dataframe tbody tr th {\n",
       "        vertical-align: top;\n",
       "    }\n",
       "\n",
       "    .dataframe thead th {\n",
       "        text-align: right;\n",
       "    }\n",
       "</style>\n",
       "<table border=\"1\" class=\"dataframe\">\n",
       "  <thead>\n",
       "    <tr style=\"text-align: right;\">\n",
       "      <th></th>\n",
       "      <th>outcome</th>\n",
       "      <th>model_type</th>\n",
       "      <th>save_path</th>\n",
       "      <th>objective</th>\n",
       "    </tr>\n",
       "  </thead>\n",
       "  <tbody>\n",
       "    <tr>\n",
       "      <th>0</th>\n",
       "      <td>palatability</td>\n",
       "      <td>gbm</td>\n",
       "      <td>../results/gbm/WFP_v1_palatability_model.csv</td>\n",
       "      <td>0</td>\n",
       "    </tr>\n",
       "  </tbody>\n",
       "</table>\n",
       "</div>"
      ],
      "text/plain": [
       "        outcome model_type                                     save_path  \\\n",
       "0  palatability        gbm  ../results/gbm/WFP_v1_palatability_model.csv   \n",
       "\n",
       "   objective  \n",
       "0          0  "
      ]
     },
     "execution_count": 7,
     "metadata": {},
     "output_type": "execute_result"
    }
   ],
   "source": [
    "reload(em)\n",
    "model_master = em.model_selection(performance, constraints_embed, objectives_embed)\n",
    "model_master"
   ]
  },
  {
   "cell_type": "code",
   "execution_count": 10,
   "metadata": {},
   "outputs": [
    {
     "name": "stdout",
     "output_type": "stream",
     "text": [
      "No learned objective\n",
      "\n",
      "Embedding constraint for palatability using linear model.\n",
      "0.5 <= palatability\n"
     ]
    }
   ],
   "source": [
    "########### TO BE DELETED ###########\n",
    "model_master_2 = model_master.copy()\n",
    "model_master_2['model_type'] = 'linear'\n",
    "model_master_2['save_path'] = '../results/linear/WFP_v1_palatability_model.csv'\n",
    "model_master_2['lb'] = float(question2)\n",
    "model_master_2['ub'] = None\n",
    "em.check_model_master(model_master_2)"
   ]
  },
  {
   "cell_type": "code",
   "execution_count": 11,
   "metadata": {},
   "outputs": [],
   "source": [
    "palatability_threshold = question2\n",
    "trust_region = True"
   ]
  },
  {
   "cell_type": "code",
   "execution_count": 12,
   "metadata": {},
   "outputs": [
    {
     "name": "stdout",
     "output_type": "stream",
     "text": [
      "No learned objective\n",
      "\n",
      "Embedding constraint for palatability using gbm model.\n",
      "0.5 <= palatability\n"
     ]
    }
   ],
   "source": [
    "model_master['lb'] = float(palatability_threshold)\n",
    "model_master['ub'] = None\n",
    "em.check_model_master(model_master)"
   ]
  },
  {
   "cell_type": "code",
   "execution_count": 13,
   "metadata": {},
   "outputs": [
    {
     "data": {
      "text/plain": [
       "<module 'embed_mip' from '/Users/hollywiberg/git/OptiCL/src/embed_mip.py'>"
      ]
     },
     "execution_count": 13,
     "metadata": {},
     "output_type": "execute_result"
    }
   ],
   "source": [
    "reload(em)"
   ]
  },
  {
   "cell_type": "code",
   "execution_count": 14,
   "metadata": {},
   "outputs": [
    {
     "data": {
      "text/html": [
       "<div>\n",
       "<style scoped>\n",
       "    .dataframe tbody tr th:only-of-type {\n",
       "        vertical-align: middle;\n",
       "    }\n",
       "\n",
       "    .dataframe tbody tr th {\n",
       "        vertical-align: top;\n",
       "    }\n",
       "\n",
       "    .dataframe thead th {\n",
       "        text-align: right;\n",
       "    }\n",
       "</style>\n",
       "<table border=\"1\" class=\"dataframe\">\n",
       "  <thead>\n",
       "    <tr style=\"text-align: right;\">\n",
       "      <th></th>\n",
       "      <th>outcome</th>\n",
       "      <th>model_type</th>\n",
       "      <th>save_path</th>\n",
       "      <th>objective</th>\n",
       "      <th>lb</th>\n",
       "      <th>ub</th>\n",
       "    </tr>\n",
       "  </thead>\n",
       "  <tbody>\n",
       "    <tr>\n",
       "      <th>0</th>\n",
       "      <td>palatability</td>\n",
       "      <td>linear</td>\n",
       "      <td>../results/linear/WFP_v1_palatability_model.csv</td>\n",
       "      <td>0</td>\n",
       "      <td>0.5</td>\n",
       "      <td>None</td>\n",
       "    </tr>\n",
       "  </tbody>\n",
       "</table>\n",
       "</div>"
      ],
      "text/plain": [
       "        outcome model_type                                        save_path  \\\n",
       "0  palatability     linear  ../results/linear/WFP_v1_palatability_model.csv   \n",
       "\n",
       "   objective   lb    ub  \n",
       "0          0  0.5  None  "
      ]
     },
     "execution_count": 14,
     "metadata": {},
     "output_type": "execute_result"
    }
   ],
   "source": [
    "model_master_2"
   ]
  },
  {
   "cell_type": "code",
   "execution_count": 37,
   "metadata": {},
   "outputs": [],
   "source": [
    "reload(em)\n",
    "result = {}\n",
    "conceptual_model, x = init_conceptual_model(cost_p)\n",
    "MIP_final_model = em .optimization_MIP(conceptual_model, x, model_master_2, X, tr=bool(False))\n",
    "start_time = time.time()\n",
    "opt = SolverFactory('gurobi')\n",
    "results = opt.solve(MIP_final_model) "
   ]
  },
  {
   "cell_type": "code",
   "execution_count": 38,
   "metadata": {},
   "outputs": [
    {
     "data": {
      "text/plain": [
       "0.5318320637344883"
      ]
     },
     "execution_count": 38,
     "metadata": {},
     "output_type": "execute_result"
    }
   ],
   "source": [
    "# MIP_final_model.OBJ()\n",
    "MIP_final_model.y()"
   ]
  },
  {
   "cell_type": "markdown",
   "metadata": {},
   "source": [
    "## Dynamic variable definition"
   ]
  },
  {
   "cell_type": "code",
   "execution_count": 93,
   "metadata": {},
   "outputs": [],
   "source": [
    "m_test = ConcreteModel()"
   ]
  },
  {
   "cell_type": "markdown",
   "metadata": {},
   "source": [
    "Option 1, we explicitly enumerate all y beforehand to initialize at once (bad)"
   ]
  },
  {
   "cell_type": "code",
   "execution_count": 94,
   "metadata": {},
   "outputs": [],
   "source": [
    "m_test.t = Set(initialize = ['y1','y2','y3'])\n",
    "m_test.t_var = Var(m_test.t, domain=NonNegativeReals)"
   ]
  },
  {
   "cell_type": "markdown",
   "metadata": {},
   "source": [
    "Option 2, we create an 'Any' set variable and can add overr time (based on [this](https://github.com/Pyomo/pyomo/issues/1050))"
   ]
  },
  {
   "cell_type": "code",
   "execution_count": 95,
   "metadata": {},
   "outputs": [
    {
     "data": {
      "text/plain": [
       "<pyomo.core.base.var._GeneralVarData at 0x7fa71c6eb590>"
      ]
     },
     "execution_count": 95,
     "metadata": {},
     "output_type": "execute_result"
    }
   ],
   "source": [
    "m_test.t_var2 =Var(Any, dense=False)\n",
    "m_test.t_var2['y1']\n",
    "m_test.t_var2['y2']"
   ]
  },
  {
   "cell_type": "markdown",
   "metadata": {},
   "source": [
    "Option 3, we create a var list and add dynamically. This seems ideal, but we can't control the index names."
   ]
  },
  {
   "cell_type": "code",
   "execution_count": 96,
   "metadata": {},
   "outputs": [],
   "source": [
    "m_test.y_all = VarList()\n",
    "for i in range(3):\n",
    "    m_test.y_all.add()"
   ]
  },
  {
   "cell_type": "markdown",
   "metadata": {},
   "source": [
    "Option 4: Add new variables dynamically with specified names. This will make summing/aggregating difficult."
   ]
  },
  {
   "cell_type": "code",
   "execution_count": 97,
   "metadata": {},
   "outputs": [],
   "source": [
    "for i in ['outcome1','outcome2']:\n",
    "    m_test.add_component('y%s' % i, Var(domain=NonNegativeReals))"
   ]
  },
  {
   "cell_type": "markdown",
   "metadata": {},
   "source": [
    "Check to see what variables have been created."
   ]
  },
  {
   "cell_type": "code",
   "execution_count": 98,
   "metadata": {},
   "outputs": [
    {
     "name": "stdout",
     "output_type": "stream",
     "text": [
      "Variable component object t_var\n",
      "Type of component object:  class 'pyomo.core.base.var.IndexedVar'\n",
      "Type of object accessed via getattr:  class 'pyomo.core.base.var.IndexedVar'\n",
      "    y1 None\n",
      "    y2 None\n",
      "    y3 None\n",
      "Variable component object t_var2\n",
      "Type of component object:  class 'pyomo.core.base.var.IndexedVar'\n",
      "Type of object accessed via getattr:  class 'pyomo.core.base.var.IndexedVar'\n",
      "    y1 None\n",
      "    y2 None\n",
      "Variable component object y_all\n",
      "Type of component object:  class 'pyomo.core.base.var.VarList'\n",
      "Type of object accessed via getattr:  class 'pyomo.core.base.var.VarList'\n",
      "    1 None\n",
      "    2 None\n",
      "    3 None\n",
      "Variable component object youtcome1\n",
      "Type of component object:  class 'pyomo.core.base.var.ScalarVar'\n",
      "Type of object accessed via getattr:  class 'pyomo.core.base.var.ScalarVar'\n",
      "    None None\n",
      "Variable component object youtcome2\n",
      "Type of component object:  class 'pyomo.core.base.var.ScalarVar'\n",
      "Type of object accessed via getattr:  class 'pyomo.core.base.var.ScalarVar'\n",
      "    None None\n"
     ]
    }
   ],
   "source": [
    "for v in m_test.component_objects(Var, active=True):\n",
    "    print (\"Variable component object\",v)\n",
    "    print (\"Type of component object: \", str(type(v))[1:-1]) # Stripping <> for nbconvert\n",
    "    varobject = getattr(m_test, str(v))\n",
    "    print (\"Type of object accessed via getattr: \", str(type(varobject))[1:-1])\n",
    "    for index in varobject:\n",
    "        print (\"   \", index, varobject[index].value)"
   ]
  },
  {
   "cell_type": "markdown",
   "metadata": {},
   "source": [
    "**Proposal:** we could define one variable 'y' indexed by the outcomes in model_master (#1), so they are accessed y['outcome1'], etc. and we know these already beforehand. We can then define any auxiliary y variables (like for the ensembles) using the VarList() approach (#3) since it is fine to index numerically. "
   ]
  },
  {
   "cell_type": "code",
   "execution_count": 123,
   "metadata": {
    "scrolled": true
   },
   "outputs": [
    {
     "ename": "AttributeError",
     "evalue": "'ConcreteModel' object has no attribute 'a'",
     "output_type": "error",
     "traceback": [
      "\u001b[1;31m---------------------------------------------------------------------------\u001b[0m",
      "\u001b[1;31mAttributeError\u001b[0m                            Traceback (most recent call last)",
      "\u001b[1;32m<ipython-input-123-fc6b37a39ccf>\u001b[0m in \u001b[0;36m<module>\u001b[1;34m\u001b[0m\n\u001b[1;32m----> 1\u001b[1;33m \u001b[0mconceptual_model\u001b[0m\u001b[1;33m.\u001b[0m\u001b[0ma\u001b[0m\u001b[1;33m[\u001b[0m\u001b[1;34m'ahaha'\u001b[0m\u001b[1;33m]\u001b[0m \u001b[1;33m=\u001b[0m \u001b[0mVar\u001b[0m\u001b[1;33m(\u001b[0m\u001b[0mN\u001b[0m\u001b[1;33m,\u001b[0m \u001b[0mdomain\u001b[0m\u001b[1;33m=\u001b[0m\u001b[0mNonNegativeReals\u001b[0m\u001b[1;33m)\u001b[0m\u001b[1;33m\u001b[0m\u001b[1;33m\u001b[0m\u001b[0m\n\u001b[0m",
      "\u001b[1;32m~\\Anaconda3\\lib\\site-packages\\pyomo\\core\\base\\block.py\u001b[0m in \u001b[0;36m__getattr__\u001b[1;34m(self, val)\u001b[0m\n\u001b[0;32m    519\u001b[0m         \u001b[1;31m# Since the base classes don't support getattr, we can just\u001b[0m\u001b[1;33m\u001b[0m\u001b[1;33m\u001b[0m\u001b[1;33m\u001b[0m\u001b[0m\n\u001b[0;32m    520\u001b[0m         \u001b[1;31m# throw the \"normal\" AttributeError\u001b[0m\u001b[1;33m\u001b[0m\u001b[1;33m\u001b[0m\u001b[1;33m\u001b[0m\u001b[0m\n\u001b[1;32m--> 521\u001b[1;33m         raise AttributeError(\"'%s' object has no attribute '%s'\"\n\u001b[0m\u001b[0;32m    522\u001b[0m                              % (self.__class__.__name__, val))\n\u001b[0;32m    523\u001b[0m \u001b[1;33m\u001b[0m\u001b[0m\n",
      "\u001b[1;31mAttributeError\u001b[0m: 'ConcreteModel' object has no attribute 'a'"
     ]
    }
   ],
   "source": [
    "conceptual_model.a['ahaha'] = Var(N, domain=NonNegativeReals)"
   ]
  }
 ],
 "metadata": {
  "kernelspec": {
   "display_name": "Python 3",
   "language": "python",
   "name": "python3"
  },
  "language_info": {
   "codemirror_mode": {
    "name": "ipython",
    "version": 3
   },
   "file_extension": ".py",
   "mimetype": "text/x-python",
   "name": "python",
   "nbconvert_exporter": "python",
   "pygments_lexer": "ipython3",
   "version": "3.7.4"
  }
 },
 "nbformat": 4,
 "nbformat_minor": 5
}
