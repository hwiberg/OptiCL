{
 "cells": [
  {
   "cell_type": "code",
   "execution_count": null,
   "id": "06c4770a",
   "metadata": {},
   "outputs": [],
   "source": [
    "import pandas as pd\n",
    "from imp import reload\n",
    "import numpy as np\n",
    "import math\n",
    "from sklearn.utils.extmath import cartesian\n",
    "import time\n",
    "import sys\n",
    "import os\n",
    "sys.path.append(os.path.abspath('../../src'))  # TODO: has to be changed\n",
    "import ConstraintLearning\n",
    "import embed_mip as em \n",
    "import run_MLmodels as ml\n",
    "from pyomo import environ\n",
    "from pyomo.environ import *"
   ]
  },
  {
   "cell_type": "code",
   "execution_count": null,
   "id": "ca152bd5",
   "metadata": {},
   "outputs": [],
   "source": [
    "nutr_val = pd.read_excel('processed-data/Syria_instance.xlsx', sheet_name='nutr_val', index_col='Food')\n",
    "nutr_req = pd.read_excel('processed-data/Syria_instance.xlsx', sheet_name='nutr_req', index_col='Type')\n",
    "cost_p = pd.read_excel('processed-data/Syria_instance.xlsx', sheet_name='FoodCost', index_col='Supplier').iloc[0,:] # pd.DataFrame([np.random.random(len(nutr_val))], columns=nutr_val.index)\n",
    "dataset = pd.read_csv('processed-data/WFP_dataset.csv').sample(frac=1)\n",
    "dataset.head()"
   ]
  },
  {
   "cell_type": "markdown",
   "id": "dce91309",
   "metadata": {},
   "source": [
    "# OptiCL: Optimization with Constraint Learning"
   ]
  },
  {
   "cell_type": "markdown",
   "id": "e65df712",
   "metadata": {},
   "source": [
    "## Step 1: Conceptual Model"
   ]
  },
  {
   "cell_type": "code",
   "execution_count": null,
   "id": "0cf7389a",
   "metadata": {},
   "outputs": [],
   "source": [
    "def init_conceptual_model(cost_p):\n",
    "    N = list(nutr_val.index)  # foods\n",
    "    M = nutr_req.columns  # nutrient requirements\n",
    "\n",
    "    model = ConcreteModel('WFP')\n",
    "\n",
    "\n",
    "    '''\n",
    "    Decision variables\n",
    "    '''\n",
    "    model.x = Var(N, domain=NonNegativeReals)  # variables controlling the food basket\n",
    "\n",
    "    '''\n",
    "    Objective function.\n",
    "    '''\n",
    "    def obj_function(model):\n",
    "        return sum(cost_p[food]*model.x[food] for food in N)\n",
    "\n",
    "    model.OBJ = Objective(rule=obj_function, sense=minimize)\n",
    "\n",
    "    '''\n",
    "    Nutrients requirements constraint.\n",
    "    '''\n",
    "    def constraint_rule1(model, req):\n",
    "        return sum(model.x[food] * nutr_val.loc[food, req] for food in N) >= nutr_req[req].item()\n",
    "    model.Constraint1 = Constraint(M, rule=constraint_rule1)\n",
    "    '''\n",
    "    Sugar constraint\n",
    "    '''\n",
    "    def constraint_rule2(model):\n",
    "        return model.x['Sugar'] == 0.2\n",
    "    model.Constraint2 = Constraint(rule=constraint_rule2)\n",
    "    '''\n",
    "    Salt constraint\n",
    "    '''\n",
    "    def constraint_rule3(model):\n",
    "        return model.x['Salt'] == 0.05\n",
    "    model.Constraint3 = Constraint(rule=constraint_rule3)\n",
    "    \n",
    "    return model, model.x"
   ]
  },
  {
   "cell_type": "markdown",
   "id": "6cd1ad79",
   "metadata": {},
   "source": [
    "## Step 2: Data Processing\n",
    "The palatabily score is normalized such that we have a value between 0 and 1, where 1 is assigned to most palatable rations and 0 to the least palatable ones."
   ]
  },
  {
   "cell_type": "code",
   "execution_count": null,
   "id": "cb5a8608",
   "metadata": {},
   "outputs": [],
   "source": [
    "# normalize the palatabily score to be between 0 and 1\n",
    "def normalize(y):\n",
    "    minimum = 71.969  \n",
    "    maximum = 444.847  \n",
    "    return 1 - (y - minimum)/(maximum - minimum)\n",
    "y = dataset['label']\n",
    "X = dataset.drop(['label'], axis=1, inplace=False)\n",
    "\n",
    "from sklearn.model_selection import train_test_split\n",
    "X_train, X_test, y_train, y_test = train_test_split(X, y, test_size=0.2, random_state=42)"
   ]
  },
  {
   "cell_type": "markdown",
   "id": "4ebc36ec",
   "metadata": {},
   "source": [
    "## Part 3: Learn the predictive models"
   ]
  },
  {
   "cell_type": "code",
   "execution_count": null,
   "id": "95d2e791",
   "metadata": {},
   "outputs": [],
   "source": [
    "version = 'WFP_v1'\n",
    "alg_list = ['mlp', 'linear','cart','rf','svm','gbm']\n",
    "outcome_list = ['palatability']  # Constraint to be learned\n",
    "\n",
    "question2 = input('What is the palatability threshold that you want to use in the constraint? Choose in the range(0, 1): ')\n",
    "constraint_extrapolation_type = 'r'\n",
    "threshold = question2"
   ]
  },
  {
   "cell_type": "markdown",
   "id": "a7fdcb67",
   "metadata": {
    "heading_collapsed": true
   },
   "source": [
    "#### Train models (or skip if pre-saved)"
   ]
  },
  {
   "cell_type": "code",
   "execution_count": null,
   "id": "38800e55",
   "metadata": {
    "hidden": true
   },
   "outputs": [],
   "source": [
    "performance = pd.DataFrame()\n",
    "reload(ml)\n",
    "reload(ConstraintLearning)\n",
    "\n",
    "if not os.path.exists('results/'):\n",
    "    os.makedirs('results/')\n",
    "\n",
    "for outcome in outcome_list:\n",
    "    print(f'Learning a constraint for {outcome}')\n",
    "\n",
    "    for alg in alg_list:\n",
    "        if not os.path.exists('results/%s/' % alg):\n",
    "            os.makedirs('results/%s/' % alg)\n",
    "        print(f'Training {alg}')\n",
    "        s = 0\n",
    "\n",
    "        ## Run shallow/small version of RF\n",
    "        alg_run = 'rf_shallow' if alg == 'rf' else alg\n",
    "\n",
    "        m, perf = ml.run_model(X_train, y_train, X_test, y_test, alg_run, task = 'continuous', \n",
    "                               seed = s, cv_folds = 5, \n",
    "                               save = False,\n",
    "#                               parameter_grid = {'hidden_layer_sizes':[(5),(10)]}\n",
    "                              )\n",
    "\n",
    "        ## Save model\n",
    "        constraintL = ConstraintLearning.ConstraintLearning(X_train, y_train, m, alg)\n",
    "        constraint_add = constraintL.constraint_extrapolation(constraint_extrapolation_type)\n",
    "        constraint_add.to_csv('results/%s/%s_%s_model.csv' % (alg, version, outcome), index = False)\n",
    "\n",
    "        ## Extract performance metrics\n",
    "        try:\n",
    "            perf['auc_train'] = roc_auc_score(y_train >= threshold, m.predict(X_train))\n",
    "            perf['auc_test'] = roc_auc_score(y_test >= threshold, m.predict(X_test))\n",
    "        except: \n",
    "            perf['auc_train'] = np.nan\n",
    "            perf['auc_test'] = np.nan\n",
    "\n",
    "        perf['seed'] = s\n",
    "        perf['outcome'] = outcome\n",
    "        perf['alg'] = alg\n",
    "        perf['save_path'] = 'results/%s/%s_%s_model.csv' % (alg, version, outcome)\n",
    "        \n",
    "            \n",
    "        perf.to_csv('results/%s/%s_%s_performance.csv' % (alg, version, outcome), index = False)\n",
    "        \n",
    "        performance = performance.append(perf)\n",
    "        print()\n",
    "print('Saving the performance...')\n",
    "performance.to_csv('results/%s_performance.csv' % version, index = False)\n",
    "print('Done!')"
   ]
  },
  {
   "cell_type": "markdown",
   "id": "e93a846c",
   "metadata": {},
   "source": [
    "## Step 4: Predictive model selection and Optimization"
   ]
  },
  {
   "cell_type": "code",
   "execution_count": null,
   "id": "8ff747b3",
   "metadata": {},
   "outputs": [],
   "source": [
    "outcome_list = ['palatability']\n",
    "constraints_embed = ['palatability']\n",
    "objectives_embed = {}\n",
    "version = 'WFP_v1'\n",
    "performance = pd.read_csv('results/%s_performance.csv' % version)\n",
    "performance.dropna(axis='columns')"
   ]
  },
  {
   "cell_type": "code",
   "execution_count": null,
   "id": "9b14b59c",
   "metadata": {},
   "outputs": [],
   "source": [
    "# reload(em)\n",
    "# model_master = em.model_selection(performance, constraints_embed, objectives_embed)\n",
    "\n",
    "# palatability_threshold = 0\n",
    "# trust_region = input('Do you want to use the trust region? True\\False: ')\n",
    "\n",
    "# model_master['lb'] = float(palatability_threshold)\n",
    "# model_master['ub'] = None\n",
    "# em.check_model_master(model_master)"
   ]
  },
  {
   "cell_type": "code",
   "execution_count": null,
   "id": "17456111",
   "metadata": {},
   "outputs": [],
   "source": [
    "########### TO BE DELETED ###########\n",
    "model_master_2 = model_master.copy()\n",
    "model_master_2['model_type'] = 'linear'\n",
    "model_master_2['save_path'] = 'results/linear/WFP_v1_palatability_model.csv'\n",
    "model_master_2['lb'] = float(0.5)\n",
    "model_master_2['ub'] = None\n",
    "# model_master_2 = model_master_2.append(model_master_2)\n",
    "# model_master_2.index = [0, 1]\n",
    "# model_master_2.loc[1, 'outcome'] = 'palat2'\n",
    "# model_master_2.loc[1, 'model_type'] = 'rf'\n",
    "# model_master_2.loc[1, 'save_path'] = 'results/rf/WFP_v1_palatability_model.csv'\n",
    "# em.check_model_master(model_master_2)\n",
    "model_master_2"
   ]
  },
  {
   "cell_type": "code",
   "execution_count": null,
   "id": "b3d1a8e1",
   "metadata": {
    "scrolled": true
   },
   "outputs": [],
   "source": [
    "reload(em)\n",
    "result = {}\n",
    "conceptual_model, x = init_conceptual_model(cost_p)\n",
    "MIP_final_model = em .optimization_MIP(conceptual_model, x, model_master_2, X, tr=bool(False))\n",
    "opt = SolverFactory('gurobi')\n",
    "results = opt.solve(MIP_final_model) \n",
    "value(MIP_final_model.y['palatability'])"
   ]
  },
  {
   "cell_type": "markdown",
   "id": "3cf3c43b",
   "metadata": {},
   "source": [
    "## Dynamic variable definition"
   ]
  },
  {
   "cell_type": "code",
   "execution_count": null,
   "id": "cb2aa1b1",
   "metadata": {},
   "outputs": [],
   "source": [
    "m_test = ConcreteModel()"
   ]
  },
  {
   "cell_type": "code",
   "execution_count": null,
   "id": "9a04e7ef",
   "metadata": {},
   "outputs": [],
   "source": [
    "m_test = ConcreteModel()\n",
    "m_test.add_component('y', Var(Set(initialize=['outcome']), domain=Reals))\n",
    "m_test.y['outcome']"
   ]
  },
  {
   "cell_type": "markdown",
   "id": "aa45542b",
   "metadata": {},
   "source": [
    "Option 1, we explicitly enumerate all y beforehand to initialize at once (bad)"
   ]
  },
  {
   "cell_type": "code",
   "execution_count": null,
   "id": "e6e17e3a",
   "metadata": {},
   "outputs": [],
   "source": [
    "m_test.t = Set(initialize = [('o', 'y1'),('o','y2')])\n",
    "m_test.t_var = Var(m_test.t, domain=NonNegativeReals)"
   ]
  },
  {
   "cell_type": "markdown",
   "id": "3c666454",
   "metadata": {},
   "source": [
    "Option 2, we create an 'Any' set variable and can add overr time (based on [this](https://github.com/Pyomo/pyomo/issues/1050))"
   ]
  },
  {
   "cell_type": "code",
   "execution_count": null,
   "id": "2d074918",
   "metadata": {},
   "outputs": [],
   "source": [
    "m_test.t_var2 =Var(Any, dense=False, domain=Reals)\n",
    "m_test.t_var2['y1', 's']\n",
    "m_test.t_var2['y2']"
   ]
  },
  {
   "cell_type": "markdown",
   "id": "f6e76766",
   "metadata": {},
   "source": [
    "Option 3, we create a var list and add dynamically. This seems ideal, but we can't control the index names."
   ]
  },
  {
   "cell_type": "code",
   "execution_count": null,
   "id": "f96af03e",
   "metadata": {},
   "outputs": [],
   "source": [
    "m_test.y_all = VarList(domain=Binary)\n",
    "for i, varName in enumerate(['a', 'b', 'c']):\n",
    "    m_test.y_all.add()"
   ]
  },
  {
   "cell_type": "markdown",
   "id": "def79f93",
   "metadata": {},
   "source": [
    "Option 4: Add new variables dynamically with specified names. This will make summing/aggregating difficult."
   ]
  },
  {
   "cell_type": "code",
   "execution_count": null,
   "id": "ad0ef50f",
   "metadata": {},
   "outputs": [],
   "source": [
    "for i in ['outcome1','outcome2']:\n",
    "    m_test.add_component('y%s' % i, Var(domain=NonNegativeReals))"
   ]
  },
  {
   "cell_type": "code",
   "execution_count": null,
   "id": "c35c9cdf",
   "metadata": {},
   "outputs": [],
   "source": [
    "m_test.youtcome2"
   ]
  },
  {
   "cell_type": "markdown",
   "id": "351f7d92",
   "metadata": {},
   "source": [
    "Check to see what variables have been created."
   ]
  },
  {
   "cell_type": "code",
   "execution_count": null,
   "id": "fdcf56b2",
   "metadata": {},
   "outputs": [],
   "source": [
    "for v in m_test.component_objects(Var, active=True):\n",
    "    print (\"Variable component object\",v)\n",
    "    print (\"Type of component object: \", str(type(v))[1:-1]) # Stripping <> for nbconvert\n",
    "    varobject = getattr(m_test, str(v))\n",
    "    print (\"Type of object accessed via getattr: \", str(type(varobject))[1:-1])\n",
    "    for index in varobject:\n",
    "        print (\"   \", index, varobject[index].value)"
   ]
  },
  {
   "cell_type": "markdown",
   "id": "aab9142f",
   "metadata": {},
   "source": [
    "**Proposal:** we could define one variable 'y' indexed by the outcomes in model_master (#1), so they are accessed y['outcome1'], etc. and we know these already beforehand. We can then define any auxiliary y variables (like for the ensembles) using the VarList() approach (#3) since it is fine to index numerically. "
   ]
  },
  {
   "cell_type": "code",
   "execution_count": null,
   "id": "ca701cab",
   "metadata": {
    "scrolled": true
   },
   "outputs": [],
   "source": [
    "conceptual_model.a['ahaha'] = Var(N, domain=NonNegativeReals)"
   ]
  }
 ],
 "metadata": {
  "@webio": {
   "lastCommId": null,
   "lastKernelId": null
  },
  "kernelspec": {
   "display_name": "Python 3",
   "language": "python",
   "name": "python3"
  },
  "language_info": {
   "codemirror_mode": {
    "name": "ipython",
    "version": 3
   },
   "file_extension": ".py",
   "mimetype": "text/x-python",
   "name": "python",
   "nbconvert_exporter": "python",
   "pygments_lexer": "ipython3",
   "version": "3.8.8"
  }
 },
 "nbformat": 4,
 "nbformat_minor": 5
}
